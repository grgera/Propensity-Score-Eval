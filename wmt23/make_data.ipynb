{
 "cells": [
  {
   "cell_type": "markdown",
   "id": "ebbc321d-4b9b-4fc6-8101-49658a251221",
   "metadata": {},
   "source": [
    "# WMT experiments"
   ]
  },
  {
   "cell_type": "markdown",
   "id": "02b5ceee-a323-4880-b79c-80f8e3ff9ea0",
   "metadata": {
    "tags": []
   },
   "source": [
    "## Collect en-de data"
   ]
  },
  {
   "cell_type": "code",
   "execution_count": 15,
   "id": "a1327538-7807-4ff7-9270-d09fe96b87fb",
   "metadata": {
    "tags": []
   },
   "outputs": [],
   "source": [
    "with open('./wmt23/sources/generaltest2023.en-de.src.en') as f:\n",
    "    english = f.read()\n",
    "    \n",
    "original_en = english.split(\"\\n\")"
   ]
  },
  {
   "cell_type": "code",
   "execution_count": 13,
   "id": "788e4164-06b0-44e6-93f1-26b4e1b80b85",
   "metadata": {
    "tags": []
   },
   "outputs": [],
   "source": [
    "with open('./wmt23/references/generaltest2023.en-de.ref.refA.de') as f:\n",
    "    deuthch = f.read()\n",
    "    \n",
    "true_de = deuthch.split(\"\\n\")"
   ]
  },
  {
   "cell_type": "code",
   "execution_count": 19,
   "id": "f4d6cf14-88dc-46dc-b026-b2394fe86630",
   "metadata": {
    "tags": []
   },
   "outputs": [],
   "source": [
    "import glob\n",
    "de_models = glob.glob('/workspace/local/edl/llm_propensity/evalualtion_metrics/wmt23/system_outputs/generaltest2023.en-de.hyp.*')"
   ]
  },
  {
   "cell_type": "code",
   "execution_count": 57,
   "id": "d10fcbd2-d0fc-4207-868e-4142f69625c0",
   "metadata": {
    "tags": []
   },
   "outputs": [
    {
     "data": {
      "text/plain": [
       "['/workspace/local/edl/llm_propensity/evalualtion_metrics/wmt23/system_outputs/generaltest2023.en-de.hyp.ONLINE-G.de',\n",
       " '/workspace/local/edl/llm_propensity/evalualtion_metrics/wmt23/system_outputs/generaltest2023.en-de.hyp.GPT4-5shot.de',\n",
       " '/workspace/local/edl/llm_propensity/evalualtion_metrics/wmt23/system_outputs/generaltest2023.en-de.hyp.ONLINE-Y.de',\n",
       " '/workspace/local/edl/llm_propensity/evalualtion_metrics/wmt23/system_outputs/generaltest2023.en-de.hyp.Lan-BridgeMT.de',\n",
       " '/workspace/local/edl/llm_propensity/evalualtion_metrics/wmt23/system_outputs/generaltest2023.en-de.hyp.ZengHuiMT.de',\n",
       " '/workspace/local/edl/llm_propensity/evalualtion_metrics/wmt23/system_outputs/generaltest2023.en-de.hyp.NLLB_MBR_BLEU.de',\n",
       " '/workspace/local/edl/llm_propensity/evalualtion_metrics/wmt23/system_outputs/generaltest2023.en-de.hyp.NLLB_Greedy.de',\n",
       " '/workspace/local/edl/llm_propensity/evalualtion_metrics/wmt23/system_outputs/generaltest2023.en-de.hyp.ONLINE-B.de',\n",
       " '/workspace/local/edl/llm_propensity/evalualtion_metrics/wmt23/system_outputs/generaltest2023.en-de.hyp.AIRC.de',\n",
       " '/workspace/local/edl/llm_propensity/evalualtion_metrics/wmt23/system_outputs/generaltest2023.en-de.hyp.ONLINE-A.de',\n",
       " '/workspace/local/edl/llm_propensity/evalualtion_metrics/wmt23/system_outputs/generaltest2023.en-de.hyp.ONLINE-W.de',\n",
       " '/workspace/local/edl/llm_propensity/evalualtion_metrics/wmt23/system_outputs/generaltest2023.en-de.hyp.ONLINE-M.de']"
      ]
     },
     "execution_count": 57,
     "metadata": {},
     "output_type": "execute_result"
    }
   ],
   "source": [
    "de_models"
   ]
  },
  {
   "cell_type": "code",
   "execution_count": 52,
   "id": "0ae3cafa-5e17-4d16-97d7-b11128059d0e",
   "metadata": {
    "tags": []
   },
   "outputs": [
    {
     "data": {
      "text/plain": [
       "'ONLINE-G'"
      ]
     },
     "execution_count": 52,
     "metadata": {},
     "output_type": "execute_result"
    }
   ],
   "source": [
    "de_models[0].split(\".\")[-2]"
   ]
  },
  {
   "cell_type": "code",
   "execution_count": 62,
   "id": "06048f8f-7348-49a6-91ab-6b8b53342d67",
   "metadata": {
    "tags": []
   },
   "outputs": [],
   "source": [
    "with open('./wmt23/BLEU.seg.score') as f:\n",
    "    bl = f.read()\n",
    "    \n",
    "model_score = [item for item in bl.split(\"\\n\") if item[5:10] == 'en-de']"
   ]
  },
  {
   "cell_type": "code",
   "execution_count": 43,
   "id": "992188c4-2679-48eb-9543-4cd2e5b76f40",
   "metadata": {
    "tags": []
   },
   "outputs": [
    {
     "data": {
      "text/plain": [
       "['BLEU',\n",
       " 'en-de',\n",
       " 'challenge_ACES',\n",
       " 'all',\n",
       " '-',\n",
       " 'refA',\n",
       " 'systemB',\n",
       " '4037',\n",
       " '10.03989474488672']"
      ]
     },
     "execution_count": 43,
     "metadata": {},
     "output_type": "execute_result"
    }
   ],
   "source": [
    "model_score[11000].split(\"\\t\")"
   ]
  },
  {
   "cell_type": "code",
   "execution_count": 66,
   "id": "e287c695-5ad9-44aa-af65-ad41a892b2a7",
   "metadata": {
    "tags": []
   },
   "outputs": [],
   "source": [
    "ai = []\n",
    "for item in model_score:\n",
    "    if item.split(\"\\t\")[-3] == 'AIRC':\n",
    "       ai.append(item) "
   ]
  },
  {
   "cell_type": "code",
   "execution_count": 74,
   "id": "30b3f9b9-15f2-445d-9b3c-88a22a8289c2",
   "metadata": {
    "tags": []
   },
   "outputs": [
    {
     "data": {
      "text/plain": [
       "'4.4959869933858485'"
      ]
     },
     "execution_count": 74,
     "metadata": {},
     "output_type": "execute_result"
    }
   ],
   "source": [
    "ai[0].split(\"\\t\")[-1]"
   ]
  },
  {
   "cell_type": "code",
   "execution_count": 67,
   "id": "229efcbd-9805-4272-8728-508741fc1fec",
   "metadata": {
    "tags": []
   },
   "outputs": [
    {
     "data": {
      "text/plain": [
       "557"
      ]
     },
     "execution_count": 67,
     "metadata": {},
     "output_type": "execute_result"
    }
   ],
   "source": [
    "len(ai)"
   ]
  },
  {
   "cell_type": "code",
   "execution_count": 70,
   "id": "f490ae7d-0946-48bf-9a30-032ee1de1e3f",
   "metadata": {
    "tags": []
   },
   "outputs": [
    {
     "data": {
      "text/plain": [
       "''"
      ]
     },
     "execution_count": 70,
     "metadata": {},
     "output_type": "execute_result"
    }
   ],
   "source": [
    "true_de[-1]"
   ]
  },
  {
   "cell_type": "code",
   "execution_count": 75,
   "id": "b776f587-5f7c-497c-8eaf-108ad2925b90",
   "metadata": {
    "tags": []
   },
   "outputs": [
    {
     "data": {
      "application/vnd.jupyter.widget-view+json": {
       "model_id": "ee85c31a93bf44a9886afcd00b521500",
       "version_major": 2,
       "version_minor": 0
      },
      "text/plain": [
       "0it [00:00, ?it/s]"
      ]
     },
     "metadata": {},
     "output_type": "display_data"
    }
   ],
   "source": [
    "import pandas as pd\n",
    "from tqdm.auto import tqdm\n",
    "df = pd.DataFrame([], columns=[\"en_sentence\", \"human_translate\", \"model1\", \"model1_score\", \"model2\", \"model2_score\",\n",
    "                              \"model3\", \"model3_score\", \"model4\", \"model4_score\", \"model5\", \"model5_score\", \n",
    "                              \"model6\", \"model6_score\", \"model7\", \"model7_score\", \"model8\", \"model8_score\",\n",
    "                              \"model9\", \"model9_score\", \"model10\", \"model10_score\", \"model11\", \"model11_score\", \"model12\", \"model12_score\"])\n",
    "    \n",
    "j = 0\n",
    "for o_e, t_d in tqdm(zip(original_en[:-1], true_de[:-1])):\n",
    "    cur_sents = []\n",
    "    cur_scores = []\n",
    "    for item in de_models:\n",
    "        cur_name_model = item.split(\".\")[-2]\n",
    "        \n",
    "        cur_local_sc = []\n",
    "        for iteh in model_score:\n",
    "            if iteh.split(\"\\t\")[-3] == cur_name_model:\n",
    "                cur_local_sc.append(iteh)\n",
    "        cur_scores.append(cur_local_sc[j].split(\"\\t\")[-1])\n",
    "            \n",
    "        with open(item) as f:\n",
    "            dem = f.read()\n",
    "        cur_model = dem.split(\"\\n\")\n",
    "        cur_sents.append(cur_model[j])\n",
    "        \n",
    "    df = pd.concat(\n",
    "        [df, pd.DataFrame([[o_e, t_d, cur_sents[0], cur_scores[0],\n",
    "                            cur_sents[1], cur_scores[1],\n",
    "                            cur_sents[2], cur_scores[2],\n",
    "                            cur_sents[3], cur_scores[3],\n",
    "                            cur_sents[4], cur_scores[4],\n",
    "                            cur_sents[5], cur_scores[5],\n",
    "                            cur_sents[6], cur_scores[6],\n",
    "                            cur_sents[7], cur_scores[7],\n",
    "                            cur_sents[8], cur_scores[8],\n",
    "                            cur_sents[9], cur_scores[9],\n",
    "                            cur_sents[10], cur_scores[10],\n",
    "                            cur_sents[11], cur_scores[11]]], columns=[\"en_sentence\", \"human_translate\", \"model1\", \"model1_score\", \"model2\", \"model2_score\",\n",
    "                              \"model3\", \"model3_score\", \"model4\", \"model4_score\", \"model5\", \"model5_score\", \n",
    "                              \"model6\", \"model6_score\", \"model7\", \"model7_score\", \"model8\", \"model8_score\",\n",
    "                              \"model9\", \"model9_score\", \"model10\", \"model10_score\", \"model11\", \"model11_score\", \"model12\", \"model12_score\"])],\n",
    "        ignore_index=True,)\n",
    "\n",
    "    j+=1"
   ]
  },
  {
   "cell_type": "code",
   "execution_count": 76,
   "id": "8aa5a8c1-6ccb-457c-b1fd-3e35e7a526cc",
   "metadata": {
    "tags": []
   },
   "outputs": [
    {
     "data": {
      "text/html": [
       "<div>\n",
       "<style scoped>\n",
       "    .dataframe tbody tr th:only-of-type {\n",
       "        vertical-align: middle;\n",
       "    }\n",
       "\n",
       "    .dataframe tbody tr th {\n",
       "        vertical-align: top;\n",
       "    }\n",
       "\n",
       "    .dataframe thead th {\n",
       "        text-align: right;\n",
       "    }\n",
       "</style>\n",
       "<table border=\"1\" class=\"dataframe\">\n",
       "  <thead>\n",
       "    <tr style=\"text-align: right;\">\n",
       "      <th></th>\n",
       "      <th>en_sentence</th>\n",
       "      <th>human_translate</th>\n",
       "      <th>model1</th>\n",
       "      <th>model1_score</th>\n",
       "      <th>model2</th>\n",
       "      <th>model2_score</th>\n",
       "      <th>model3</th>\n",
       "      <th>model3_score</th>\n",
       "      <th>model4</th>\n",
       "      <th>model4_score</th>\n",
       "      <th>...</th>\n",
       "      <th>model8</th>\n",
       "      <th>model8_score</th>\n",
       "      <th>model9</th>\n",
       "      <th>model9_score</th>\n",
       "      <th>model10</th>\n",
       "      <th>model10_score</th>\n",
       "      <th>model11</th>\n",
       "      <th>model11_score</th>\n",
       "      <th>model12</th>\n",
       "      <th>model12_score</th>\n",
       "    </tr>\n",
       "  </thead>\n",
       "  <tbody>\n",
       "    <tr>\n",
       "      <th>0</th>\n",
       "      <td>Police arrest 15 after violent protest outside...</td>\n",
       "      <td>Polizei verhaftet 15 Menschen nach gewalttätig...</td>\n",
       "      <td>Polizei verhaftet 15 nach gewalttätigem Protes...</td>\n",
       "      <td>14.448814886766836</td>\n",
       "      <td>Die Polizei nimmt 15 Personen nach gewalttätig...</td>\n",
       "      <td>19.67497981115564</td>\n",
       "      <td>Die Polizei verhaftet 15 Personen nach gewalts...</td>\n",
       "      <td>16.59038701421971</td>\n",
       "      <td>Polizei verhaftet 15 nach gewalttätigem Protes...</td>\n",
       "      <td>14.448814886766836</td>\n",
       "      <td>...</td>\n",
       "      <td>Polizei verhaftet 15 Personen nach gewalttätig...</td>\n",
       "      <td>14.530346490115708</td>\n",
       "      <td>﻿Polizeiverhaftung 15 nach gewaltsamen Protest...</td>\n",
       "      <td>4.4959869933858485</td>\n",
       "      <td>Polizei nimmt 15 nach gewalttätigen Protesten ...</td>\n",
       "      <td>23.801761257033814</td>\n",
       "      <td>Polizei nimmt 15 Personen nach gewaltsamen Pro...</td>\n",
       "      <td>8.516593018819643</td>\n",
       "      <td>Polizei verhaftet 15 nach gewalttätigem Protes...</td>\n",
       "      <td>14.448814886766836</td>\n",
       "    </tr>\n",
       "    <tr>\n",
       "      <th>1</th>\n",
       "      <td>The incident comes after increase in numbers o...</td>\n",
       "      <td>Der Vorfall ereignet sich, nachdem sich die Za...</td>\n",
       "      <td>Der Vorfall ereignete sich nach einem Anstieg ...</td>\n",
       "      <td>26.303374589985193</td>\n",
       "      <td>Der Vorfall ereignete sich nach einem Anstieg ...</td>\n",
       "      <td>29.54521893316156</td>\n",
       "      <td>Der Vorfall ereignete sich, nachdem die Zahl d...</td>\n",
       "      <td>36.64980172330738</td>\n",
       "      <td>Der Vorfall kommt nach einer Zunahme der Zahl ...</td>\n",
       "      <td>25.154172956759137</td>\n",
       "      <td>...</td>\n",
       "      <td>Der Vorfall ereignete sich, nachdem die Zahl d...</td>\n",
       "      <td>34.15070517940043</td>\n",
       "      <td>Die Polizei sagte, dass ein Polizist und zwei ...</td>\n",
       "      <td>14.294319960596678</td>\n",
       "      <td>Der Vorfall ereignete sich, nachdem die Zahl d...</td>\n",
       "      <td>28.939656850090934</td>\n",
       "      <td>Der Vorfall ereignete sich, nachdem die Zahl d...</td>\n",
       "      <td>30.218550098764144</td>\n",
       "      <td>Der Vorfall ereignete sich nach einem Anstieg ...</td>\n",
       "      <td>27.196164357596533</td>\n",
       "    </tr>\n",
       "    <tr>\n",
       "      <th>2</th>\n",
       "      <td>The Home Office has been using the hotel to te...</td>\n",
       "      <td>Das Innenministerium hat das Hotel seit letzte...</td>\n",
       "      <td>Das Innenministerium nutzt das Hotel laut loka...</td>\n",
       "      <td>34.03551012714059</td>\n",
       "      <td>Das Innenministerium nutzt das Hotel seit letz...</td>\n",
       "      <td>35.11967711778689</td>\n",
       "      <td>Laut lokalen Medien nutzt das Innenministerium...</td>\n",
       "      <td>45.39574604532278</td>\n",
       "      <td>Das Innenministerium nutzt das Hotel seit letz...</td>\n",
       "      <td>40.719845504148594</td>\n",
       "      <td>...</td>\n",
       "      <td>Lokalen Medien zufolge nutzt das Innenminister...</td>\n",
       "      <td>39.64164275900826</td>\n",
       "      <td>Das Home Office nutzt das Hotel seit letztem J...</td>\n",
       "      <td>42.38553232802633</td>\n",
       "      <td>Das Innenministerium nutzt das Hotel seit letz...</td>\n",
       "      <td>36.082065818241695</td>\n",
       "      <td>Lokalen Medien zufolge nutzt das Innenminister...</td>\n",
       "      <td>29.267527617413315</td>\n",
       "      <td>Lokalen Medien zufolge nutzt das Innenminister...</td>\n",
       "      <td>34.06735376887588</td>\n",
       "    </tr>\n",
       "    <tr>\n",
       "      <th>3</th>\n",
       "      <td>More than 45,000 people reached the UK by that...</td>\n",
       "      <td>Mehr als 45.000 Menschen haben 2022 Großbritan...</td>\n",
       "      <td>Mehr als 45.000 Menschen erreichten 2022 auf d...</td>\n",
       "      <td>46.062126678793476</td>\n",
       "      <td>Mehr als 45.000 Menschen erreichten das Verein...</td>\n",
       "      <td>48.5667849252299</td>\n",
       "      <td>Mehr als 45.000 Menschen erreichten 2022 auf d...</td>\n",
       "      <td>47.026291874255946</td>\n",
       "      <td>Mehr als 45.000 Menschen erreichten Großbritan...</td>\n",
       "      <td>42.405908843349884</td>\n",
       "      <td>...</td>\n",
       "      <td>Im Jahr 2022 erreichten mehr als 45.000 Mensch...</td>\n",
       "      <td>34.10427771659525</td>\n",
       "      <td>Das System zur Prüfung von Asylanträgen hat si...</td>\n",
       "      <td>26.445336840877136</td>\n",
       "      <td>Mehr als 45.000 Menschen erreichten das Verein...</td>\n",
       "      <td>26.969866717376263</td>\n",
       "      <td>Im Jahr 2022 erreichten mehr als 45.000 Mensch...</td>\n",
       "      <td>37.96181995223513</td>\n",
       "      <td>Über 45.000 Menschen erreichten das Vereinigte...</td>\n",
       "      <td>33.75483390790886</td>\n",
       "    </tr>\n",
       "    <tr>\n",
       "      <th>4</th>\n",
       "      <td>President's Cup: Candystripes defeat Rovers in...</td>\n",
       "      <td>President's Cup: Candystripes besiegen Rovers ...</td>\n",
       "      <td>President's Cup: Candystripes besiegen Rovers ...</td>\n",
       "      <td>58.14307369682194</td>\n",
       "      <td>President's Cup: Candystripes besiegen Rovers ...</td>\n",
       "      <td>58.14307369682194</td>\n",
       "      <td>President's Cup: Candystripes besiegen Rovers ...</td>\n",
       "      <td>58.14307369682194</td>\n",
       "      <td>President's Cup: Candystripes besiegen Rovers ...</td>\n",
       "      <td>58.14307369682194</td>\n",
       "      <td>...</td>\n",
       "      <td>President's Cup: Candystripes besiegen Rovers ...</td>\n",
       "      <td>58.14307369682194</td>\n",
       "      <td>President's Cup: Candystripes besiegen Rovers ...</td>\n",
       "      <td>57.21248424548516</td>\n",
       "      <td>President's Cup: Candystripes besiegen Rovers ...</td>\n",
       "      <td>58.14307369682194</td>\n",
       "      <td>President's Cup: Candystripes besiegen Rovers ...</td>\n",
       "      <td>58.14307369682194</td>\n",
       "      <td>President's Cup: Candystripes besiegen Rovers ...</td>\n",
       "      <td>58.14307369682194</td>\n",
       "    </tr>\n",
       "    <tr>\n",
       "      <th>...</th>\n",
       "      <td>...</td>\n",
       "      <td>...</td>\n",
       "      <td>...</td>\n",
       "      <td>...</td>\n",
       "      <td>...</td>\n",
       "      <td>...</td>\n",
       "      <td>...</td>\n",
       "      <td>...</td>\n",
       "      <td>...</td>\n",
       "      <td>...</td>\n",
       "      <td>...</td>\n",
       "      <td>...</td>\n",
       "      <td>...</td>\n",
       "      <td>...</td>\n",
       "      <td>...</td>\n",
       "      <td>...</td>\n",
       "      <td>...</td>\n",
       "      <td>...</td>\n",
       "      <td>...</td>\n",
       "      <td>...</td>\n",
       "      <td>...</td>\n",
       "    </tr>\n",
       "    <tr>\n",
       "      <th>552</th>\n",
       "      <td>Ergonomic and affordable, but not very toleran...</td>\n",
       "      <td>Ergonomisch und günstig, aber nicht für die ko...</td>\n",
       "      <td>Ergonomisch und erschwinglich, aber nicht sehr...</td>\n",
       "      <td>17.542198478193427</td>\n",
       "      <td>Ergonomisch und erschwinglich, aber nicht sehr...</td>\n",
       "      <td>18.36028134946796</td>\n",
       "      <td>Ergonomisch und erschwinglich, aber nicht sehr...</td>\n",
       "      <td>17.542198478193427</td>\n",
       "      <td>Ergonomisch und erschwinglich, aber nicht sehr...</td>\n",
       "      <td>17.542198478193427</td>\n",
       "      <td>...</td>\n",
       "      <td>Ergonomisch und erschwinglich, aber nicht sehr...</td>\n",
       "      <td>17.542198478193427</td>\n",
       "      <td>Ergonomisch und erschwinglich, aber nicht sehr...</td>\n",
       "      <td>18.36028134946796</td>\n",
       "      <td>Ergonomisch und erschwinglich, aber nicht sehr...</td>\n",
       "      <td>17.542198478193427</td>\n",
       "      <td>Ergonomisch und erschwinglich, aber nicht sehr...</td>\n",
       "      <td>17.542198478193427</td>\n",
       "      <td>Ergonomisch und erschwinglich, aber wenig tole...</td>\n",
       "      <td>10.738977135035864</td>\n",
       "    </tr>\n",
       "    <tr>\n",
       "      <th>553</th>\n",
       "      <td>It has a slimmer design shape that fits better...</td>\n",
       "      <td>Der Controller hat ein schmaleres Design, das ...</td>\n",
       "      <td>Es hat eine schlankere Designform, die besser ...</td>\n",
       "      <td>32.344237731250715</td>\n",
       "      <td>Es hat ein schlankeres Design, das besser in d...</td>\n",
       "      <td>31.35185674945412</td>\n",
       "      <td>Er hat ein schlankeres Design, das besser in d...</td>\n",
       "      <td>35.11860493641895</td>\n",
       "      <td>Es hat eine schlankere Designform, die besser ...</td>\n",
       "      <td>31.718753955675393</td>\n",
       "      <td>...</td>\n",
       "      <td>Das schlankere Design liegt besser in der Hand...</td>\n",
       "      <td>28.587270273726485</td>\n",
       "      <td>Es hat eine schlankere Konstruktionsform, die ...</td>\n",
       "      <td>24.698036135689993</td>\n",
       "      <td>Es hat eine schlankere Designform, die besser ...</td>\n",
       "      <td>30.391730702424425</td>\n",
       "      <td>Er hat eine schlankere Form, die besser in der...</td>\n",
       "      <td>38.50510508909628</td>\n",
       "      <td>Er hat ein schlankeres Design, das besser in d...</td>\n",
       "      <td>25.012668804469072</td>\n",
       "    </tr>\n",
       "    <tr>\n",
       "      <th>554</th>\n",
       "      <td>You get what you pay for</td>\n",
       "      <td>Man kriegt, wofür man bezahlt</td>\n",
       "      <td>Sie bekommen, wofür Sie bezahlen</td>\n",
       "      <td>16.233395773754953</td>\n",
       "      <td>Man bekommt, wofür man bezahlt.</td>\n",
       "      <td>43.47208719449914</td>\n",
       "      <td>Du bekommst, wofür du bezahlst</td>\n",
       "      <td>16.233395773754953</td>\n",
       "      <td>Du bekommst, wofür du bezahlst</td>\n",
       "      <td>16.233395773754953</td>\n",
       "      <td>...</td>\n",
       "      <td>Sie bekommen, wofür Sie bezahlen</td>\n",
       "      <td>16.233395773754953</td>\n",
       "      <td>Du bekommst, wofür du zahlst</td>\n",
       "      <td>16.233395773754953</td>\n",
       "      <td>Du bekommst, wofür du bezahlst</td>\n",
       "      <td>16.233395773754953</td>\n",
       "      <td>Sie bekommen, wofür Sie bezahlen</td>\n",
       "      <td>16.233395773754953</td>\n",
       "      <td>Sie bekommen, wofür Sie zahlen</td>\n",
       "      <td>16.233395773754953</td>\n",
       "    </tr>\n",
       "    <tr>\n",
       "      <th>555</th>\n",
       "      <td>I was disappointed upon receiving this item as...</td>\n",
       "      <td>Ich war sehr enttäuscht, als ich den Artikel e...</td>\n",
       "      <td>Ich war enttäuscht, als ich diesen Artikel erh...</td>\n",
       "      <td>31.972715531346246</td>\n",
       "      <td>Ich war enttäuscht, als ich diesen Artikel erh...</td>\n",
       "      <td>32.594278673739616</td>\n",
       "      <td>Ich war enttäuscht, als ich diesen Artikel erh...</td>\n",
       "      <td>29.13456940639508</td>\n",
       "      <td>Ich war enttäuscht, als ich diesen Artikel erh...</td>\n",
       "      <td>25.972745124186087</td>\n",
       "      <td>...</td>\n",
       "      <td>Ich war enttäuscht, als ich diesen Artikel erh...</td>\n",
       "      <td>28.188502585321764</td>\n",
       "      <td>Ich war enttäuscht darüber, dass der silberne ...</td>\n",
       "      <td>20.855678631398654</td>\n",
       "      <td>Ich war enttäuscht, als ich diesen Artikel erh...</td>\n",
       "      <td>25.673214899287057</td>\n",
       "      <td>Ich war enttäuscht, als ich diesen Artikel erh...</td>\n",
       "      <td>30.392323213958335</td>\n",
       "      <td>Ich war enttäuscht, als ich diesen Artikel erh...</td>\n",
       "      <td>25.50872021314598</td>\n",
       "    </tr>\n",
       "    <tr>\n",
       "      <th>556</th>\n",
       "      <td>Nothing like the previous Stylo phones, MASSIV...</td>\n",
       "      <td>Kein Vergleich zu den vorherigen Stylo-Handys,...</td>\n",
       "      <td>Nichts wie die vorherigen Stylo-Telefone, MASS...</td>\n",
       "      <td>30.13479789316766</td>\n",
       "      <td>Nichts wie die vorherigen Stylo-Telefone, EINE...</td>\n",
       "      <td>34.74728292812615</td>\n",
       "      <td>Nichts wie bei den vorherigen Stylo-Telefonen,...</td>\n",
       "      <td>31.891315683483157</td>\n",
       "      <td>Nichts wie die vorherigen Stylo-Telefone, MASS...</td>\n",
       "      <td>32.094305369701324</td>\n",
       "      <td>...</td>\n",
       "      <td>Nichts wie die vorherigen Stylo-Telefone, RIES...</td>\n",
       "      <td>29.319508545067567</td>\n",
       "      <td>Nichts wie die vorherigen Stylo Telefone, MASS...</td>\n",
       "      <td>4.5281877692287615</td>\n",
       "      <td>Nichts wie die vorherigen Stylo-Telefone, MASS...</td>\n",
       "      <td>26.854133346621797</td>\n",
       "      <td>Nicht wie die vorherigen Stylo-Handys, MASSIVE...</td>\n",
       "      <td>35.12748262378195</td>\n",
       "      <td>Nichts wie die vorherigen Stylo-Handys, MASSIV...</td>\n",
       "      <td>25.613710719379203</td>\n",
       "    </tr>\n",
       "  </tbody>\n",
       "</table>\n",
       "<p>557 rows × 26 columns</p>\n",
       "</div>"
      ],
      "text/plain": [
       "                                           en_sentence  \\\n",
       "0    Police arrest 15 after violent protest outside...   \n",
       "1    The incident comes after increase in numbers o...   \n",
       "2    The Home Office has been using the hotel to te...   \n",
       "3    More than 45,000 people reached the UK by that...   \n",
       "4    President's Cup: Candystripes defeat Rovers in...   \n",
       "..                                                 ...   \n",
       "552  Ergonomic and affordable, but not very toleran...   \n",
       "553  It has a slimmer design shape that fits better...   \n",
       "554                           You get what you pay for   \n",
       "555  I was disappointed upon receiving this item as...   \n",
       "556  Nothing like the previous Stylo phones, MASSIV...   \n",
       "\n",
       "                                       human_translate  \\\n",
       "0    Polizei verhaftet 15 Menschen nach gewalttätig...   \n",
       "1    Der Vorfall ereignet sich, nachdem sich die Za...   \n",
       "2    Das Innenministerium hat das Hotel seit letzte...   \n",
       "3    Mehr als 45.000 Menschen haben 2022 Großbritan...   \n",
       "4    President's Cup: Candystripes besiegen Rovers ...   \n",
       "..                                                 ...   \n",
       "552  Ergonomisch und günstig, aber nicht für die ko...   \n",
       "553  Der Controller hat ein schmaleres Design, das ...   \n",
       "554                      Man kriegt, wofür man bezahlt   \n",
       "555  Ich war sehr enttäuscht, als ich den Artikel e...   \n",
       "556  Kein Vergleich zu den vorherigen Stylo-Handys,...   \n",
       "\n",
       "                                                model1        model1_score  \\\n",
       "0    Polizei verhaftet 15 nach gewalttätigem Protes...  14.448814886766836   \n",
       "1    Der Vorfall ereignete sich nach einem Anstieg ...  26.303374589985193   \n",
       "2    Das Innenministerium nutzt das Hotel laut loka...   34.03551012714059   \n",
       "3    Mehr als 45.000 Menschen erreichten 2022 auf d...  46.062126678793476   \n",
       "4    President's Cup: Candystripes besiegen Rovers ...   58.14307369682194   \n",
       "..                                                 ...                 ...   \n",
       "552  Ergonomisch und erschwinglich, aber nicht sehr...  17.542198478193427   \n",
       "553  Es hat eine schlankere Designform, die besser ...  32.344237731250715   \n",
       "554                   Sie bekommen, wofür Sie bezahlen  16.233395773754953   \n",
       "555  Ich war enttäuscht, als ich diesen Artikel erh...  31.972715531346246   \n",
       "556  Nichts wie die vorherigen Stylo-Telefone, MASS...   30.13479789316766   \n",
       "\n",
       "                                                model2        model2_score  \\\n",
       "0    Die Polizei nimmt 15 Personen nach gewalttätig...   19.67497981115564   \n",
       "1    Der Vorfall ereignete sich nach einem Anstieg ...   29.54521893316156   \n",
       "2    Das Innenministerium nutzt das Hotel seit letz...   35.11967711778689   \n",
       "3    Mehr als 45.000 Menschen erreichten das Verein...    48.5667849252299   \n",
       "4    President's Cup: Candystripes besiegen Rovers ...   58.14307369682194   \n",
       "..                                                 ...                 ...   \n",
       "552  Ergonomisch und erschwinglich, aber nicht sehr...   18.36028134946796   \n",
       "553  Es hat ein schlankeres Design, das besser in d...   31.35185674945412   \n",
       "554                    Man bekommt, wofür man bezahlt.   43.47208719449914   \n",
       "555  Ich war enttäuscht, als ich diesen Artikel erh...  32.594278673739616   \n",
       "556  Nichts wie die vorherigen Stylo-Telefone, EINE...   34.74728292812615   \n",
       "\n",
       "                                                model3        model3_score  \\\n",
       "0    Die Polizei verhaftet 15 Personen nach gewalts...   16.59038701421971   \n",
       "1    Der Vorfall ereignete sich, nachdem die Zahl d...   36.64980172330738   \n",
       "2    Laut lokalen Medien nutzt das Innenministerium...   45.39574604532278   \n",
       "3    Mehr als 45.000 Menschen erreichten 2022 auf d...  47.026291874255946   \n",
       "4    President's Cup: Candystripes besiegen Rovers ...   58.14307369682194   \n",
       "..                                                 ...                 ...   \n",
       "552  Ergonomisch und erschwinglich, aber nicht sehr...  17.542198478193427   \n",
       "553  Er hat ein schlankeres Design, das besser in d...   35.11860493641895   \n",
       "554                     Du bekommst, wofür du bezahlst  16.233395773754953   \n",
       "555  Ich war enttäuscht, als ich diesen Artikel erh...   29.13456940639508   \n",
       "556  Nichts wie bei den vorherigen Stylo-Telefonen,...  31.891315683483157   \n",
       "\n",
       "                                                model4        model4_score  \\\n",
       "0    Polizei verhaftet 15 nach gewalttätigem Protes...  14.448814886766836   \n",
       "1    Der Vorfall kommt nach einer Zunahme der Zahl ...  25.154172956759137   \n",
       "2    Das Innenministerium nutzt das Hotel seit letz...  40.719845504148594   \n",
       "3    Mehr als 45.000 Menschen erreichten Großbritan...  42.405908843349884   \n",
       "4    President's Cup: Candystripes besiegen Rovers ...   58.14307369682194   \n",
       "..                                                 ...                 ...   \n",
       "552  Ergonomisch und erschwinglich, aber nicht sehr...  17.542198478193427   \n",
       "553  Es hat eine schlankere Designform, die besser ...  31.718753955675393   \n",
       "554                     Du bekommst, wofür du bezahlst  16.233395773754953   \n",
       "555  Ich war enttäuscht, als ich diesen Artikel erh...  25.972745124186087   \n",
       "556  Nichts wie die vorherigen Stylo-Telefone, MASS...  32.094305369701324   \n",
       "\n",
       "     ...                                             model8  \\\n",
       "0    ...  Polizei verhaftet 15 Personen nach gewalttätig...   \n",
       "1    ...  Der Vorfall ereignete sich, nachdem die Zahl d...   \n",
       "2    ...  Lokalen Medien zufolge nutzt das Innenminister...   \n",
       "3    ...  Im Jahr 2022 erreichten mehr als 45.000 Mensch...   \n",
       "4    ...  President's Cup: Candystripes besiegen Rovers ...   \n",
       "..   ...                                                ...   \n",
       "552  ...  Ergonomisch und erschwinglich, aber nicht sehr...   \n",
       "553  ...  Das schlankere Design liegt besser in der Hand...   \n",
       "554  ...                   Sie bekommen, wofür Sie bezahlen   \n",
       "555  ...  Ich war enttäuscht, als ich diesen Artikel erh...   \n",
       "556  ...  Nichts wie die vorherigen Stylo-Telefone, RIES...   \n",
       "\n",
       "           model8_score                                             model9  \\\n",
       "0    14.530346490115708  ﻿Polizeiverhaftung 15 nach gewaltsamen Protest...   \n",
       "1     34.15070517940043  Die Polizei sagte, dass ein Polizist und zwei ...   \n",
       "2     39.64164275900826  Das Home Office nutzt das Hotel seit letztem J...   \n",
       "3     34.10427771659525  Das System zur Prüfung von Asylanträgen hat si...   \n",
       "4     58.14307369682194  President's Cup: Candystripes besiegen Rovers ...   \n",
       "..                  ...                                                ...   \n",
       "552  17.542198478193427  Ergonomisch und erschwinglich, aber nicht sehr...   \n",
       "553  28.587270273726485  Es hat eine schlankere Konstruktionsform, die ...   \n",
       "554  16.233395773754953                       Du bekommst, wofür du zahlst   \n",
       "555  28.188502585321764  Ich war enttäuscht darüber, dass der silberne ...   \n",
       "556  29.319508545067567  Nichts wie die vorherigen Stylo Telefone, MASS...   \n",
       "\n",
       "           model9_score                                            model10  \\\n",
       "0    4.4959869933858485  Polizei nimmt 15 nach gewalttätigen Protesten ...   \n",
       "1    14.294319960596678  Der Vorfall ereignete sich, nachdem die Zahl d...   \n",
       "2     42.38553232802633  Das Innenministerium nutzt das Hotel seit letz...   \n",
       "3    26.445336840877136  Mehr als 45.000 Menschen erreichten das Verein...   \n",
       "4     57.21248424548516  President's Cup: Candystripes besiegen Rovers ...   \n",
       "..                  ...                                                ...   \n",
       "552   18.36028134946796  Ergonomisch und erschwinglich, aber nicht sehr...   \n",
       "553  24.698036135689993  Es hat eine schlankere Designform, die besser ...   \n",
       "554  16.233395773754953                     Du bekommst, wofür du bezahlst   \n",
       "555  20.855678631398654  Ich war enttäuscht, als ich diesen Artikel erh...   \n",
       "556  4.5281877692287615  Nichts wie die vorherigen Stylo-Telefone, MASS...   \n",
       "\n",
       "          model10_score                                            model11  \\\n",
       "0    23.801761257033814  Polizei nimmt 15 Personen nach gewaltsamen Pro...   \n",
       "1    28.939656850090934  Der Vorfall ereignete sich, nachdem die Zahl d...   \n",
       "2    36.082065818241695  Lokalen Medien zufolge nutzt das Innenminister...   \n",
       "3    26.969866717376263  Im Jahr 2022 erreichten mehr als 45.000 Mensch...   \n",
       "4     58.14307369682194  President's Cup: Candystripes besiegen Rovers ...   \n",
       "..                  ...                                                ...   \n",
       "552  17.542198478193427  Ergonomisch und erschwinglich, aber nicht sehr...   \n",
       "553  30.391730702424425  Er hat eine schlankere Form, die besser in der...   \n",
       "554  16.233395773754953                   Sie bekommen, wofür Sie bezahlen   \n",
       "555  25.673214899287057  Ich war enttäuscht, als ich diesen Artikel erh...   \n",
       "556  26.854133346621797  Nicht wie die vorherigen Stylo-Handys, MASSIVE...   \n",
       "\n",
       "          model11_score                                            model12  \\\n",
       "0     8.516593018819643  Polizei verhaftet 15 nach gewalttätigem Protes...   \n",
       "1    30.218550098764144  Der Vorfall ereignete sich nach einem Anstieg ...   \n",
       "2    29.267527617413315  Lokalen Medien zufolge nutzt das Innenminister...   \n",
       "3     37.96181995223513  Über 45.000 Menschen erreichten das Vereinigte...   \n",
       "4     58.14307369682194  President's Cup: Candystripes besiegen Rovers ...   \n",
       "..                  ...                                                ...   \n",
       "552  17.542198478193427  Ergonomisch und erschwinglich, aber wenig tole...   \n",
       "553   38.50510508909628  Er hat ein schlankeres Design, das besser in d...   \n",
       "554  16.233395773754953                     Sie bekommen, wofür Sie zahlen   \n",
       "555  30.392323213958335  Ich war enttäuscht, als ich diesen Artikel erh...   \n",
       "556   35.12748262378195  Nichts wie die vorherigen Stylo-Handys, MASSIV...   \n",
       "\n",
       "          model12_score  \n",
       "0    14.448814886766836  \n",
       "1    27.196164357596533  \n",
       "2     34.06735376887588  \n",
       "3     33.75483390790886  \n",
       "4     58.14307369682194  \n",
       "..                  ...  \n",
       "552  10.738977135035864  \n",
       "553  25.012668804469072  \n",
       "554  16.233395773754953  \n",
       "555   25.50872021314598  \n",
       "556  25.613710719379203  \n",
       "\n",
       "[557 rows x 26 columns]"
      ]
     },
     "execution_count": 76,
     "metadata": {},
     "output_type": "execute_result"
    }
   ],
   "source": [
    "df"
   ]
  },
  {
   "cell_type": "code",
   "execution_count": 79,
   "id": "16b269f2-7113-42fe-966a-a22c59906ec5",
   "metadata": {
    "tags": []
   },
   "outputs": [],
   "source": [
    "df.to_csv('/workspace/local/edl/llm_propensity/evalualtion_metrics/wmt23/en-de.csv', index=False)"
   ]
  }
 ],
 "metadata": {
  "kernelspec": {
   "display_name": "Python 3 (ipykernel)",
   "language": "python",
   "name": "python3"
  },
  "language_info": {
   "codemirror_mode": {
    "name": "ipython",
    "version": 3
   },
   "file_extension": ".py",
   "mimetype": "text/x-python",
   "name": "python",
   "nbconvert_exporter": "python",
   "pygments_lexer": "ipython3",
   "version": "3.8.10"
  }
 },
 "nbformat": 4,
 "nbformat_minor": 5
}
