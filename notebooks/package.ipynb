{
 "cells": [
  {
   "cell_type": "markdown",
   "id": "1d4a2eb9-4305-477a-b73d-e6e86fc7cb4a",
   "metadata": {},
   "source": [
    "# Examples of using the draft package 'propensity_reweighting'"
   ]
  },
  {
   "cell_type": "code",
   "execution_count": 1,
   "id": "5b1beebd-424b-451d-af8d-119f2657c705",
   "metadata": {
    "tags": []
   },
   "outputs": [],
   "source": [
    "from propensity_reweighting.src.reweight import PropensityReweighter\n",
    "from sklearn.linear_model import LinearRegression\n",
    "from sklearn.metrics import accuracy_score, f1_score\n",
    "import matplotlib.pyplot as plt\n",
    "from tqdm.auto import tqdm\n",
    "import pandas as pd\n",
    "import numpy as np\n",
    "import logging\n",
    "import yaml\n",
    "\n",
    "logging.getLogger(\"transformers.modeling_utils\").setLevel(logging.ERROR)\n",
    "np.random.seed(48)"
   ]
  },
  {
   "cell_type": "code",
   "execution_count": 2,
   "id": "8395fd0d-2bed-4e44-b6eb-5df219384d1a",
   "metadata": {
    "tags": []
   },
   "outputs": [],
   "source": [
    "with open('./propensity_reweighting/config/config.yaml', 'r') as file:\n",
    "    config = yaml.safe_load(file)\n",
    "\n",
    "# texts = pd.read_csv('/workspace/local/edl/llm_propensity/qa_data_gpt_llama.csv')\n",
    "texts = pd.read_csv('./llm_propensity/QA_version_0506 - Sheet1.csv')"
   ]
  },
  {
   "cell_type": "markdown",
   "id": "8149d583-6616-45be-9fd2-3de13c656a15",
   "metadata": {
    "jp-MarkdownHeadingCollapsed": true,
    "tags": []
   },
   "source": [
    "## Base 'fit' method"
   ]
  },
  {
   "cell_type": "code",
   "execution_count": 3,
   "id": "954bfcfe-d343-4b63-9c5b-a05802d7771e",
   "metadata": {
    "tags": []
   },
   "outputs": [],
   "source": [
    "original = texts[texts[\"Time\"] == 'original'][\"Question\"].tolist()\n",
    "target = texts[texts[\"Time\"] == 'future'][\"Question\"].tolist()"
   ]
  },
  {
   "cell_type": "code",
   "execution_count": 4,
   "id": "ab4d4a96-da4d-4584-b1ba-142d19fcccef",
   "metadata": {
    "tags": []
   },
   "outputs": [
    {
     "name": "stdout",
     "output_type": "stream",
     "text": [
      "Mean k2 on non-weighted test data: 0.2353\n",
      "Mean EMD on non-weighted test data: 0.0662\n",
      "Mean ED on non-weighted test data: 0.1332\n",
      "\n",
      "Mean k2 on weighted test data: 0.1955\n",
      "Mean EMD on weighted test data: 0.0537\n",
      "Mean ED on weighted test data: 0.1077\n",
      "\n"
     ]
    }
   ],
   "source": [
    "from propensity_reweighting.src.reweight import PropensityReweighter\n",
    "\n",
    "pr = PropensityReweighter(config)\n",
    "_ = pr.fit(original, target)"
   ]
  },
  {
   "cell_type": "code",
   "execution_count": 5,
   "id": "dc2264f2-d4f5-4f96-9fe2-1da04f23cf79",
   "metadata": {
    "tags": []
   },
   "outputs": [
    {
     "data": {
      "text/plain": [
       "array([1.82027115, 1.57874549, 1.82027115, 1.89444131, 1.45053357,\n",
       "       1.4528157 , 1.66747493, 1.57904128, 1.6913386 , 1.62518438])"
      ]
     },
     "execution_count": 5,
     "metadata": {},
     "output_type": "execute_result"
    }
   ],
   "source": [
    "weights = pr.predict(target)\n",
    "weights[:10]"
   ]
  },
  {
   "cell_type": "code",
   "execution_count": 6,
   "id": "f9f7453f-da65-4854-90c5-a745e2f3eacc",
   "metadata": {
    "tags": []
   },
   "outputs": [
    {
     "data": {
      "text/plain": [
       "Text(0.5, 1.0, 'predicted weights')"
      ]
     },
     "execution_count": 6,
     "metadata": {},
     "output_type": "execute_result"
    },
    {
     "data": {
      "image/png": "[encoded data removed]",
      "text/plain": [
       "<Figure size 640x480 with 1 Axes>"
      ]
     },
     "metadata": {},
     "output_type": "display_data"
    }
   ],
   "source": [
    "plt.hist(weights, bins=50)\n",
    "plt.yscale('log')\n",
    "plt.title('predicted weights')"
   ]
  },
  {
   "cell_type": "markdown",
   "id": "c2d926bd-26e4-4e16-82b3-539b4b4d3408",
   "metadata": {
    "jp-MarkdownHeadingCollapsed": true,
    "tags": []
   },
   "source": [
    "## 'fit' with custom GridSearchCV "
   ]
  },
  {
   "cell_type": "code",
   "execution_count": 3,
   "id": "f89c9429-4d37-432d-aeb9-c5cbb0abbd72",
   "metadata": {
    "tags": []
   },
   "outputs": [],
   "source": [
    "original = texts[texts[\"Time\"] == 'original'][\"Question\"].tolist()\n",
    "target = texts[texts[\"Time\"] == 'future'][\"Question\"].tolist()"
   ]
  },
  {
   "cell_type": "code",
   "execution_count": 4,
   "id": "ae286094-047c-48c7-9f9b-caab86010f53",
   "metadata": {
    "tags": []
   },
   "outputs": [
    {
     "data": {
      "application/vnd.jupyter.widget-view+json": {
       "model_id": "bab9220b493c495291662373286f1686",
       "version_major": 2,
       "version_minor": 0
      },
      "text/plain": [
       "  0%|          | 0/36 [00:00<?, ?it/s]"
      ]
     },
     "metadata": {},
     "output_type": "display_data"
    },
    {
     "name": "stdout",
     "output_type": "stream",
     "text": [
      "Results:\n",
      "({'n_estimators': 100, 'learning_rate': 0.009, 'max_depth': 5, 'min_samples_leaf': 1}, 0.027573379091440448)\n",
      "({'n_estimators': 100, 'learning_rate': 0.01, 'max_depth': 10, 'min_samples_leaf': 10}, 0.026775148148576972)\n",
      "({'n_estimators': 100, 'learning_rate': 0.009, 'max_depth': 5, 'min_samples_leaf': 10}, 0.026429746813873334)\n",
      "({'n_estimators': 100, 'learning_rate': 0.009, 'max_depth': 10, 'min_samples_leaf': 10}, 0.026383393071299232)\n",
      "({'n_estimators': 100, 'learning_rate': 0.01, 'max_depth': 10, 'min_samples_leaf': 1}, 0.025435030131440977)\n",
      "Best Parameters: {'n_estimators': 100, 'learning_rate': 0.009, 'max_depth': 5, 'min_samples_leaf': 1}\n",
      "Error: 0.027573379091440448\n",
      "\n",
      "Mean k2 on non-weighted test data: 0.2353\n",
      "Mean EMD on non-weighted test data: 0.0662\n",
      "Mean ED on non-weighted test data: 0.1332\n",
      "\n",
      "Mean k2 on weighted test data: 0.1591\n",
      "Mean EMD on weighted test data: 0.0386\n",
      "Mean ED on weighted test data: 0.0765\n",
      "\n"
     ]
    }
   ],
   "source": [
    "from propensity_reweighting.src.reweight import PropensityReweighter\n",
    "\n",
    "grid_values = {'n_estimators': [30, 100], \n",
    "               'learning_rate':[0.01, 0.001, 0.009],\n",
    "               'max_depth': [5, 10],\n",
    "               'min_samples_leaf': [1, 10, 100]}\n",
    "\n",
    "pr = PropensityReweighter(config)\n",
    "best_predictor = pr.fit_gridsearch(original, target, grid_values)"
   ]
  },
  {
   "cell_type": "code",
   "execution_count": 5,
   "id": "06094ff2-1ed8-46ed-ae8d-747b702045d8",
   "metadata": {
    "tags": []
   },
   "outputs": [
    {
     "data": {
      "text/plain": [
       "array([1.30878491, 5.73613099, 2.28492   , 6.115655  , 5.32396158,\n",
       "       1.85894275, 1.92759861, 2.58848909, 6.07864215, 1.93103268])"
      ]
     },
     "execution_count": 5,
     "metadata": {},
     "output_type": "execute_result"
    }
   ],
   "source": [
    "best_weights = best_predictor.predict(target)\n",
    "best_weights[:10]"
   ]
  },
  {
   "cell_type": "code",
   "execution_count": 6,
   "id": "75c3788b-af08-427b-acb4-291f0401b2f0",
   "metadata": {
    "tags": []
   },
   "outputs": [
    {
     "data": {
      "text/plain": [
       "Text(0.5, 1.0, 'predicted weights')"
      ]
     },
     "execution_count": 6,
     "metadata": {},
     "output_type": "execute_result"
    },
    {
     "data": {
      "image/png": "[encoded data removed]",
      "text/plain": [
       "<Figure size 640x480 with 1 Axes>"
      ]
     },
     "metadata": {},
     "output_type": "display_data"
    }
   ],
   "source": [
    "plt.hist(best_weights, bins=50)\n",
    "plt.yscale('log')\n",
    "plt.title('predicted weights')"
   ]
  },
  {
   "cell_type": "markdown",
   "id": "3b6aeac7-558f-4f86-a0b6-e62098313a1e",
   "metadata": {
    "jp-MarkdownHeadingCollapsed": true,
    "tags": []
   },
   "source": [
    "## future's and past's analysis from QA data"
   ]
  },
  {
   "cell_type": "code",
   "execution_count": 4,
   "id": "4fa36b22-cb5c-414e-a269-92cde768970e",
   "metadata": {
    "collapsed": true,
    "jupyter": {
     "outputs_hidden": true
    },
    "tags": []
   },
   "outputs": [
    {
     "data": {
      "application/vnd.jupyter.widget-view+json": {
       "model_id": "c80b40864a0a4e54b4f443111a55ab5a",
       "version_major": 2,
       "version_minor": 0
      },
      "text/plain": [
       "  0%|          | 0/7 [00:00<?, ?it/s]"
      ]
     },
     "metadata": {},
     "output_type": "display_data"
    },
    {
     "data": {
      "application/vnd.jupyter.widget-view+json": {
       "model_id": "0a255055af824d0aa025174c8bcc4ff0",
       "version_major": 2,
       "version_minor": 0
      },
      "text/plain": [
       "  0%|          | 0/36 [00:00<?, ?it/s]"
      ]
     },
     "metadata": {},
     "output_type": "display_data"
    },
    {
     "name": "stdout",
     "output_type": "stream",
     "text": [
      "Mean k2 on non-weighted test data: 0.4471\n",
      "Mean EMD on non-weighted test data: 0.1307\n",
      "Mean ED on non-weighted test data: 0.2591\n",
      "\n",
      "Mean k2 on weighted test data: 0.3759\n",
      "Mean EMD on weighted test data: 0.0991\n",
      "Mean ED on weighted test data: 0.2025\n",
      "\n"
     ]
    },
    {
     "data": {
      "application/vnd.jupyter.widget-view+json": {
       "model_id": "915376d0af7f40dd8eca0caa82931cb4",
       "version_major": 2,
       "version_minor": 0
      },
      "text/plain": [
       "  0%|          | 0/36 [00:00<?, ?it/s]"
      ]
     },
     "metadata": {},
     "output_type": "display_data"
    },
    {
     "name": "stdout",
     "output_type": "stream",
     "text": [
      "Mean k2 on non-weighted test data: 0.5446\n",
      "Mean EMD on non-weighted test data: 0.1587\n",
      "Mean ED on non-weighted test data: 0.3206\n",
      "\n",
      "Mean k2 on weighted test data: 0.5297\n",
      "Mean EMD on weighted test data: 0.153\n",
      "Mean ED on weighted test data: 0.3087\n",
      "\n"
     ]
    },
    {
     "data": {
      "application/vnd.jupyter.widget-view+json": {
       "model_id": "4a0338c83ec1454db450fff1922697ad",
       "version_major": 2,
       "version_minor": 0
      },
      "text/plain": [
       "  0%|          | 0/36 [00:00<?, ?it/s]"
      ]
     },
     "metadata": {},
     "output_type": "display_data"
    },
    {
     "name": "stdout",
     "output_type": "stream",
     "text": [
      "Mean k2 on non-weighted test data: 0.6295\n",
      "Mean EMD on non-weighted test data: 0.1695\n",
      "Mean ED on non-weighted test data: 0.3596\n",
      "\n",
      "Mean k2 on weighted test data: 0.6033\n",
      "Mean EMD on weighted test data: 0.1593\n",
      "Mean ED on weighted test data: 0.3366\n",
      "\n"
     ]
    },
    {
     "data": {
      "application/vnd.jupyter.widget-view+json": {
       "model_id": "1ba1e58a950d4d91b56f16224ea2ca98",
       "version_major": 2,
       "version_minor": 0
      },
      "text/plain": [
       "  0%|          | 0/36 [00:00<?, ?it/s]"
      ]
     },
     "metadata": {},
     "output_type": "display_data"
    },
    {
     "name": "stdout",
     "output_type": "stream",
     "text": [
      "Mean k2 on non-weighted test data: 0.615\n",
      "Mean EMD on non-weighted test data: 0.1625\n",
      "Mean ED on non-weighted test data: 0.3474\n",
      "\n",
      "Mean k2 on weighted test data: 0.6\n",
      "Mean EMD on weighted test data: 0.1599\n",
      "Mean ED on weighted test data: 0.3383\n",
      "\n"
     ]
    },
    {
     "name": "stderr",
     "output_type": "stream",
     "text": [
      "Exception ignored in: <function tqdm.__del__ at 0x7fd715d088b0>\n",
      "Traceback (most recent call last):\n",
      "  File \"/usr/local/lib/python3.8/dist-packages/tqdm/std.py\", line 1161, in __del__\n",
      "    def __del__(self):\n",
      "KeyboardInterrupt: \n",
      "\n",
      "KeyboardInterrupt\n",
      "\n"
     ]
    }
   ],
   "source": [
    "original = texts[texts[\"unit\"] == 'original'][\"Question\"].tolist()\n",
    "\n",
    "results = {}\n",
    "for i in tqdm(range(1, 8)):\n",
    "    cur_shift = f'past-{i}'\n",
    "    target = texts[texts[\"unit\"] == cur_shift][\"Question\"].tolist()\n",
    "    target_train, target_test  = target[:len(target) // 3], target[len(target) // 3:]\n",
    "    labels = [texts[texts[\"unit\"] == cur_shift][\"gpt3_is_correct\"].tolist()[len(target) // 3:],\n",
    "             texts[texts[\"unit\"] == cur_shift][\"gpt4_is_correct\"].tolist()[len(target) // 3:],\n",
    "             texts[texts[\"unit\"] == cur_shift][\"llama2_is_correct\"].tolist()[len(target) // 3:],\n",
    "             texts[texts[\"unit\"] == cur_shift][\"llama3_is_correct\"].tolist()[len(target) // 3:]]\n",
    "    \n",
    "    grid_values = {'n_estimators': [30, 100], \n",
    "               'learning_rate':[0.01, 0.001, 0.009],\n",
    "               'max_depth': [5, 10],\n",
    "               'min_samples_leaf': [1, 10, 100]}\n",
    "\n",
    "    pr = PropensityReweighter(config)\n",
    "    best_predictor = pr.fit_gridsearch(original, target_train, grid_values)\n",
    "    \n",
    "    best_weights = best_predictor.predict(target_test)\n",
    "    \n",
    "    accuracy_all = []\n",
    "    f1_all = []\n",
    "    f1_all.append(f\"{len(target_train)} / {len(target_test)}\")\n",
    "    for model_pred in labels:\n",
    "        # ac = round(accuracy_score([1] * len(model_pred), model_pred), 3), round(accuracy_score([1] * len(model_pred), model_pred, sample_weight=best_weights), 3)\n",
    "        f1 = round(f1_score([1] * len(model_pred), model_pred), 3), round(f1_score([1] * len(model_pred), model_pred, sample_weight=best_weights), 3)\n",
    "        \n",
    "        # accuracy_all.append(f\"{ac[0]} - {ac[1]}\")\n",
    "        f1_all.append(f\"{f1[0]} / {f1[1]}\")\n",
    "        \n",
    "    # results[cur_shift] = {'accuracy': accuracy_all, 'f1-score': f1_all}\n",
    "    results[cur_shift] = {'f1-score': f1_all}"
   ]
  },
  {
   "cell_type": "code",
   "execution_count": 9,
   "id": "c6f13d2b-e0a3-4e16-a2ed-3bf572b9c648",
   "metadata": {
    "tags": []
   },
   "outputs": [],
   "source": [
    "df = pd.DataFrame([], columns=[\"shift\", \"num_samples\", \"f1_gpt3\", \"f1_gpt4\", \"f1_llama2\", \"f1_llama3\"])\n",
    "\n",
    "for item in results:\n",
    "    df = pd.concat(\n",
    "        [df, pd.DataFrame([[item, results[item][\"f1-score\"][0],\n",
    "                            results[item][\"f1-score\"][1], \n",
    "                            results[item][\"f1-score\"][2], \n",
    "                            results[item][\"f1-score\"][3],\n",
    "                            results[item][\"f1-score\"][4]]], columns=[\"shift\", \"num_samples\", \"f1_gpt3\", \"f1_gpt4\", \"f1_llama2\", \"f1_llama3\"])],\n",
    "        ignore_index=True,)"
   ]
  },
  {
   "cell_type": "code",
   "execution_count": 5,
   "id": "a8fc6671-c72e-46cf-8150-f71fd156f030",
   "metadata": {
    "tags": []
   },
   "outputs": [
    {
     "data": {
      "text/html": [
       "<div>\n",
       "<style scoped>\n",
       "    .dataframe tbody tr th:only-of-type {\n",
       "        vertical-align: middle;\n",
       "    }\n",
       "\n",
       "    .dataframe tbody tr th {\n",
       "        vertical-align: top;\n",
       "    }\n",
       "\n",
       "    .dataframe thead th {\n",
       "        text-align: right;\n",
       "    }\n",
       "</style>\n",
       "<table border=\"1\" class=\"dataframe\">\n",
       "  <thead>\n",
       "    <tr style=\"text-align: right;\">\n",
       "      <th></th>\n",
       "      <th>shift</th>\n",
       "      <th>num_samples</th>\n",
       "      <th>f1_gpt3</th>\n",
       "      <th>f1_gpt4</th>\n",
       "      <th>f1_llama2</th>\n",
       "      <th>f1_llama3</th>\n",
       "    </tr>\n",
       "  </thead>\n",
       "  <tbody>\n",
       "    <tr>\n",
       "      <th>0</th>\n",
       "      <td>future+1</td>\n",
       "      <td>10 / 22</td>\n",
       "      <td>0.872 / 0.868</td>\n",
       "      <td>0.778 / 0.815</td>\n",
       "      <td>0.429 / 0.509</td>\n",
       "      <td>0.625 / 0.406</td>\n",
       "    </tr>\n",
       "    <tr>\n",
       "      <th>1</th>\n",
       "      <td>future+2</td>\n",
       "      <td>7 / 15</td>\n",
       "      <td>0.846 / 0.836</td>\n",
       "      <td>0.929 / 0.913</td>\n",
       "      <td>0.571 / 0.609</td>\n",
       "      <td>0.696 / 0.681</td>\n",
       "    </tr>\n",
       "    <tr>\n",
       "      <th>2</th>\n",
       "      <td>future+3</td>\n",
       "      <td>5 / 12</td>\n",
       "      <td>0.857 / 0.733</td>\n",
       "      <td>0.8 / 0.715</td>\n",
       "      <td>0.4 / 0.349</td>\n",
       "      <td>0.588 / 0.568</td>\n",
       "    </tr>\n",
       "    <tr>\n",
       "      <th>3</th>\n",
       "      <td>future+4</td>\n",
       "      <td>4 / 8</td>\n",
       "      <td>0.857 / 0.58</td>\n",
       "      <td>0.769 / 0.895</td>\n",
       "      <td>0.222 / 0.176</td>\n",
       "      <td>0.769 / 0.893</td>\n",
       "    </tr>\n",
       "    <tr>\n",
       "      <th>4</th>\n",
       "      <td>future+5</td>\n",
       "      <td>3 / 8</td>\n",
       "      <td>0.857 / 0.862</td>\n",
       "      <td>0.667 / 0.674</td>\n",
       "      <td>0.545 / 0.486</td>\n",
       "      <td>0.667 / 0.674</td>\n",
       "    </tr>\n",
       "    <tr>\n",
       "      <th>5</th>\n",
       "      <td>future+6</td>\n",
       "      <td>3 / 6</td>\n",
       "      <td>0.8 / 0.799</td>\n",
       "      <td>0.667 / 0.633</td>\n",
       "      <td>0.5 / 0.482</td>\n",
       "      <td>0.5 / 0.482</td>\n",
       "    </tr>\n",
       "    <tr>\n",
       "      <th>6</th>\n",
       "      <td>future+7</td>\n",
       "      <td>2 / 6</td>\n",
       "      <td>0.8 / 0.855</td>\n",
       "      <td>0.909 / 0.927</td>\n",
       "      <td>0.667 / 0.758</td>\n",
       "      <td>0.8 / 0.855</td>\n",
       "    </tr>\n",
       "  </tbody>\n",
       "</table>\n",
       "</div>"
      ],
      "text/plain": [
       "      shift num_samples        f1_gpt3        f1_gpt4      f1_llama2  \\\n",
       "0  future+1     10 / 22  0.872 / 0.868  0.778 / 0.815  0.429 / 0.509   \n",
       "1  future+2      7 / 15  0.846 / 0.836  0.929 / 0.913  0.571 / 0.609   \n",
       "2  future+3      5 / 12  0.857 / 0.733    0.8 / 0.715    0.4 / 0.349   \n",
       "3  future+4       4 / 8   0.857 / 0.58  0.769 / 0.895  0.222 / 0.176   \n",
       "4  future+5       3 / 8  0.857 / 0.862  0.667 / 0.674  0.545 / 0.486   \n",
       "5  future+6       3 / 6    0.8 / 0.799  0.667 / 0.633    0.5 / 0.482   \n",
       "6  future+7       2 / 6    0.8 / 0.855  0.909 / 0.927  0.667 / 0.758   \n",
       "\n",
       "       f1_llama3  \n",
       "0  0.625 / 0.406  \n",
       "1  0.696 / 0.681  \n",
       "2  0.588 / 0.568  \n",
       "3  0.769 / 0.893  \n",
       "4  0.667 / 0.674  \n",
       "5    0.5 / 0.482  \n",
       "6    0.8 / 0.855  "
      ]
     },
     "execution_count": 5,
     "metadata": {},
     "output_type": "execute_result"
    }
   ],
   "source": [
    "# target_test\n",
    "df"
   ]
  },
  {
   "cell_type": "code",
   "execution_count": 10,
   "id": "766daef1-499d-4423-94aa-a0abbe719f77",
   "metadata": {
    "tags": []
   },
   "outputs": [
    {
     "data": {
      "text/html": [
       "<div>\n",
       "<style scoped>\n",
       "    .dataframe tbody tr th:only-of-type {\n",
       "        vertical-align: middle;\n",
       "    }\n",
       "\n",
       "    .dataframe tbody tr th {\n",
       "        vertical-align: top;\n",
       "    }\n",
       "\n",
       "    .dataframe thead th {\n",
       "        text-align: right;\n",
       "    }\n",
       "</style>\n",
       "<table border=\"1\" class=\"dataframe\">\n",
       "  <thead>\n",
       "    <tr style=\"text-align: right;\">\n",
       "      <th></th>\n",
       "      <th>shift</th>\n",
       "      <th>num_samples</th>\n",
       "      <th>f1_gpt3</th>\n",
       "      <th>f1_gpt4</th>\n",
       "      <th>f1_llama2</th>\n",
       "      <th>f1_llama3</th>\n",
       "    </tr>\n",
       "  </thead>\n",
       "  <tbody>\n",
       "    <tr>\n",
       "      <th>0</th>\n",
       "      <td>past-1</td>\n",
       "      <td>6 / 14</td>\n",
       "      <td>0.923 / 0.942</td>\n",
       "      <td>0.923 / 0.837</td>\n",
       "      <td>0.526 / 0.491</td>\n",
       "      <td>0.783 / 0.746</td>\n",
       "    </tr>\n",
       "    <tr>\n",
       "      <th>1</th>\n",
       "      <td>past-2</td>\n",
       "      <td>4 / 9</td>\n",
       "      <td>0.8 / 0.684</td>\n",
       "      <td>0.875 / 0.761</td>\n",
       "      <td>0.615 / 0.512</td>\n",
       "      <td>0.364 / 0.291</td>\n",
       "    </tr>\n",
       "    <tr>\n",
       "      <th>2</th>\n",
       "      <td>past-3</td>\n",
       "      <td>3 / 6</td>\n",
       "      <td>0.8 / 0.825</td>\n",
       "      <td>0.8 / 0.825</td>\n",
       "      <td>0.0 / 0.0</td>\n",
       "      <td>0.667 / 0.688</td>\n",
       "    </tr>\n",
       "    <tr>\n",
       "      <th>3</th>\n",
       "      <td>past-4</td>\n",
       "      <td>3 / 6</td>\n",
       "      <td>0.8 / 0.81</td>\n",
       "      <td>0.8 / 0.81</td>\n",
       "      <td>0.286 / 0.235</td>\n",
       "      <td>0.8 / 0.81</td>\n",
       "    </tr>\n",
       "    <tr>\n",
       "      <th>4</th>\n",
       "      <td>past-5</td>\n",
       "      <td>1 / 4</td>\n",
       "      <td>0.667 / 0.443</td>\n",
       "      <td>0.857 / 0.787</td>\n",
       "      <td>0.0 / 0.0</td>\n",
       "      <td>0.4 / 0.249</td>\n",
       "    </tr>\n",
       "    <tr>\n",
       "      <th>5</th>\n",
       "      <td>past-6</td>\n",
       "      <td>1 / 2</td>\n",
       "      <td>0.667 / 0.447</td>\n",
       "      <td>0.667 / 0.447</td>\n",
       "      <td>0.0 / 0.0</td>\n",
       "      <td>0.667 / 0.447</td>\n",
       "    </tr>\n",
       "    <tr>\n",
       "      <th>6</th>\n",
       "      <td>past-7</td>\n",
       "      <td>1 / 2</td>\n",
       "      <td>0.667 / 0.845</td>\n",
       "      <td>0.667 / 0.845</td>\n",
       "      <td>0.0 / 0.0</td>\n",
       "      <td>0.667 / 0.845</td>\n",
       "    </tr>\n",
       "  </tbody>\n",
       "</table>\n",
       "</div>"
      ],
      "text/plain": [
       "    shift num_samples        f1_gpt3        f1_gpt4      f1_llama2  \\\n",
       "0  past-1      6 / 14  0.923 / 0.942  0.923 / 0.837  0.526 / 0.491   \n",
       "1  past-2       4 / 9    0.8 / 0.684  0.875 / 0.761  0.615 / 0.512   \n",
       "2  past-3       3 / 6    0.8 / 0.825    0.8 / 0.825      0.0 / 0.0   \n",
       "3  past-4       3 / 6     0.8 / 0.81     0.8 / 0.81  0.286 / 0.235   \n",
       "4  past-5       1 / 4  0.667 / 0.443  0.857 / 0.787      0.0 / 0.0   \n",
       "5  past-6       1 / 2  0.667 / 0.447  0.667 / 0.447      0.0 / 0.0   \n",
       "6  past-7       1 / 2  0.667 / 0.845  0.667 / 0.845      0.0 / 0.0   \n",
       "\n",
       "       f1_llama3  \n",
       "0  0.783 / 0.746  \n",
       "1  0.364 / 0.291  \n",
       "2  0.667 / 0.688  \n",
       "3     0.8 / 0.81  \n",
       "4    0.4 / 0.249  \n",
       "5  0.667 / 0.447  \n",
       "6  0.667 / 0.845  "
      ]
     },
     "execution_count": 10,
     "metadata": {},
     "output_type": "execute_result"
    }
   ],
   "source": [
    "# past_test\n",
    "df"
   ]
  },
  {
   "cell_type": "code",
   "execution_count": 8,
   "id": "474f5d98-5c83-4c41-8e79-7ac9cf0c6cd5",
   "metadata": {
    "tags": []
   },
   "outputs": [],
   "source": [
    "df = pd.DataFrame([], columns=[\"shift\", \"f1_gpt3\", \"f1_gpt4\", \"f1_llama2\", \"f1_llama3\"])\n",
    "\n",
    "for item in results:\n",
    "    df = pd.concat(\n",
    "        [df, pd.DataFrame([[item, results[item][\"f1-score\"][0],\n",
    "                            results[item][\"f1-score\"][1], \n",
    "                            results[item][\"f1-score\"][2], \n",
    "                            results[item][\"f1-score\"][3]]], columns=[\"shift\", \"f1_gpt3\", \"f1_gpt4\", \"f1_llama2\", \"f1_llama3\"])],\n",
    "        ignore_index=True,)"
   ]
  },
  {
   "cell_type": "code",
   "execution_count": 9,
   "id": "0eb39c1e-58fe-4aaa-9a94-4d69d2ff3329",
   "metadata": {
    "tags": []
   },
   "outputs": [
    {
     "data": {
      "text/html": [
       "<div>\n",
       "<style scoped>\n",
       "    .dataframe tbody tr th:only-of-type {\n",
       "        vertical-align: middle;\n",
       "    }\n",
       "\n",
       "    .dataframe tbody tr th {\n",
       "        vertical-align: top;\n",
       "    }\n",
       "\n",
       "    .dataframe thead th {\n",
       "        text-align: right;\n",
       "    }\n",
       "</style>\n",
       "<table border=\"1\" class=\"dataframe\">\n",
       "  <thead>\n",
       "    <tr style=\"text-align: right;\">\n",
       "      <th></th>\n",
       "      <th>shift</th>\n",
       "      <th>f1_gpt3</th>\n",
       "      <th>f1_gpt4</th>\n",
       "      <th>f1_llama2</th>\n",
       "      <th>f1_llama3</th>\n",
       "    </tr>\n",
       "  </thead>\n",
       "  <tbody>\n",
       "    <tr>\n",
       "      <th>0</th>\n",
       "      <td>past-1</td>\n",
       "      <td>0.857 / 0.939</td>\n",
       "      <td>0.824 / 0.832</td>\n",
       "      <td>0.462 / 0.567</td>\n",
       "      <td>0.788 / 0.594</td>\n",
       "    </tr>\n",
       "    <tr>\n",
       "      <th>1</th>\n",
       "      <td>past-2</td>\n",
       "      <td>0.818 / 0.916</td>\n",
       "      <td>0.762 / 0.851</td>\n",
       "      <td>0.471 / 0.659</td>\n",
       "      <td>0.471 / 0.661</td>\n",
       "    </tr>\n",
       "    <tr>\n",
       "      <th>2</th>\n",
       "      <td>past-3</td>\n",
       "      <td>0.8 / 0.905</td>\n",
       "      <td>0.714 / 0.841</td>\n",
       "      <td>0.0 / 0.617</td>\n",
       "      <td>0.8 / 0.658</td>\n",
       "    </tr>\n",
       "    <tr>\n",
       "      <th>3</th>\n",
       "      <td>past-4</td>\n",
       "      <td>0.8 / 0.906</td>\n",
       "      <td>0.714 / 0.84</td>\n",
       "      <td>0.5 / 0.63</td>\n",
       "      <td>0.714 / 0.659</td>\n",
       "    </tr>\n",
       "    <tr>\n",
       "      <th>4</th>\n",
       "      <td>past-5</td>\n",
       "      <td>0.75 / 0.934</td>\n",
       "      <td>0.889 / 0.835</td>\n",
       "      <td>0.0 / 0.467</td>\n",
       "      <td>0.333 / 0.523</td>\n",
       "    </tr>\n",
       "    <tr>\n",
       "      <th>5</th>\n",
       "      <td>past-6</td>\n",
       "      <td>0.8 / 0.92</td>\n",
       "      <td>0.8 / 0.84</td>\n",
       "      <td>0.0 / 0.625</td>\n",
       "      <td>0.8 / 0.752</td>\n",
       "    </tr>\n",
       "    <tr>\n",
       "      <th>6</th>\n",
       "      <td>past-7</td>\n",
       "      <td>0.5 / 0.865</td>\n",
       "      <td>0.8 / 0.79</td>\n",
       "      <td>0.0 / 0.552</td>\n",
       "      <td>0.5 / 0.625</td>\n",
       "    </tr>\n",
       "  </tbody>\n",
       "</table>\n",
       "</div>"
      ],
      "text/plain": [
       "    shift        f1_gpt3        f1_gpt4      f1_llama2      f1_llama3\n",
       "0  past-1  0.857 / 0.939  0.824 / 0.832  0.462 / 0.567  0.788 / 0.594\n",
       "1  past-2  0.818 / 0.916  0.762 / 0.851  0.471 / 0.659  0.471 / 0.661\n",
       "2  past-3    0.8 / 0.905  0.714 / 0.841    0.0 / 0.617    0.8 / 0.658\n",
       "3  past-4    0.8 / 0.906   0.714 / 0.84     0.5 / 0.63  0.714 / 0.659\n",
       "4  past-5   0.75 / 0.934  0.889 / 0.835    0.0 / 0.467  0.333 / 0.523\n",
       "5  past-6     0.8 / 0.92     0.8 / 0.84    0.0 / 0.625    0.8 / 0.752\n",
       "6  past-7    0.5 / 0.865     0.8 / 0.79    0.0 / 0.552    0.5 / 0.625"
      ]
     },
     "execution_count": 9,
     "metadata": {},
     "output_type": "execute_result"
    }
   ],
   "source": [
    "df"
   ]
  },
  {
   "cell_type": "markdown",
   "id": "5552cc9e-9ea1-4392-b31e-a31f6b0fe0bb",
   "metadata": {
    "jp-MarkdownHeadingCollapsed": true,
    "tags": []
   },
   "source": [
    "## future's and past's analysis from updated QA data"
   ]
  },
  {
   "cell_type": "code",
   "execution_count": 43,
   "id": "65bfff50-7e26-4270-ab03-46655d470b06",
   "metadata": {
    "collapsed": true,
    "jupyter": {
     "outputs_hidden": true
    },
    "tags": []
   },
   "outputs": [
    {
     "data": {
      "application/vnd.jupyter.widget-view+json": {
       "model_id": "d96311d23b164bb197d8126f3a017f2c",
       "version_major": 2,
       "version_minor": 0
      },
      "text/plain": [
       "  0%|          | 0/8 [00:00<?, ?it/s]"
      ]
     },
     "metadata": {},
     "output_type": "display_data"
    },
    {
     "data": {
      "application/vnd.jupyter.widget-view+json": {
       "model_id": "a5e48977dc8a4bb0b2b651dbd5ca13ae",
       "version_major": 2,
       "version_minor": 0
      },
      "text/plain": [
       "  0%|          | 0/36 [00:00<?, ?it/s]"
      ]
     },
     "metadata": {},
     "output_type": "display_data"
    },
    {
     "name": "stdout",
     "output_type": "stream",
     "text": [
      "Mean k2 on non-weighted test data: 0.0876\n",
      "Mean EMD on non-weighted test data: 0.0196\n",
      "Mean ED on non-weighted test data: 0.0393\n",
      "\n",
      "Mean k2 on weighted test data: 0.0873\n",
      "Mean EMD on weighted test data: 0.0196\n",
      "Mean ED on weighted test data: 0.039\n",
      "\n"
     ]
    },
    {
     "data": {
      "application/vnd.jupyter.widget-view+json": {
       "model_id": "b31c6f6fb74f465683a46a49fb535cc9",
       "version_major": 2,
       "version_minor": 0
      },
      "text/plain": [
       "  0%|          | 0/36 [00:00<?, ?it/s]"
      ]
     },
     "metadata": {},
     "output_type": "display_data"
    },
    {
     "name": "stdout",
     "output_type": "stream",
     "text": [
      "Mean k2 on non-weighted test data: 0.107\n",
      "Mean EMD on non-weighted test data: 0.0256\n",
      "Mean ED on non-weighted test data: 0.0504\n",
      "\n",
      "Mean k2 on weighted test data: 0.1043\n",
      "Mean EMD on weighted test data: 0.0248\n",
      "Mean ED on weighted test data: 0.0488\n",
      "\n"
     ]
    },
    {
     "data": {
      "application/vnd.jupyter.widget-view+json": {
       "model_id": "e2ad50c0f64b443f9027b1cb7ff85ec6",
       "version_major": 2,
       "version_minor": 0
      },
      "text/plain": [
       "  0%|          | 0/36 [00:00<?, ?it/s]"
      ]
     },
     "metadata": {},
     "output_type": "display_data"
    },
    {
     "name": "stdout",
     "output_type": "stream",
     "text": [
      "Mean k2 on non-weighted test data: 0.1252\n",
      "Mean EMD on non-weighted test data: 0.0322\n",
      "Mean ED on non-weighted test data: 0.0622\n",
      "\n",
      "Mean k2 on weighted test data: 0.122\n",
      "Mean EMD on weighted test data: 0.0311\n",
      "Mean ED on weighted test data: 0.0601\n",
      "\n"
     ]
    },
    {
     "data": {
      "application/vnd.jupyter.widget-view+json": {
       "model_id": "778d7942eb1f4df089b9217e6cc0d799",
       "version_major": 2,
       "version_minor": 0
      },
      "text/plain": [
       "  0%|          | 0/36 [00:00<?, ?it/s]"
      ]
     },
     "metadata": {},
     "output_type": "display_data"
    },
    {
     "name": "stdout",
     "output_type": "stream",
     "text": [
      "Mean k2 on non-weighted test data: 0.1319\n",
      "Mean EMD on non-weighted test data: 0.0346\n",
      "Mean ED on non-weighted test data: 0.0662\n",
      "\n",
      "Mean k2 on weighted test data: 0.1295\n",
      "Mean EMD on weighted test data: 0.033\n",
      "Mean ED on weighted test data: 0.0633\n",
      "\n"
     ]
    },
    {
     "data": {
      "application/vnd.jupyter.widget-view+json": {
       "model_id": "835f2834cc3d45929a5fb48c0764a261",
       "version_major": 2,
       "version_minor": 0
      },
      "text/plain": [
       "  0%|          | 0/36 [00:00<?, ?it/s]"
      ]
     },
     "metadata": {},
     "output_type": "display_data"
    },
    {
     "name": "stdout",
     "output_type": "stream",
     "text": [
      "Mean k2 on non-weighted test data: 0.1422\n",
      "Mean EMD on non-weighted test data: 0.0374\n",
      "Mean ED on non-weighted test data: 0.0716\n",
      "\n",
      "Mean k2 on weighted test data: 0.1367\n",
      "Mean EMD on weighted test data: 0.0354\n",
      "Mean ED on weighted test data: 0.0681\n",
      "\n"
     ]
    },
    {
     "data": {
      "application/vnd.jupyter.widget-view+json": {
       "model_id": "30c9374537b244a4aaaf79c4d049fcbe",
       "version_major": 2,
       "version_minor": 0
      },
      "text/plain": [
       "  0%|          | 0/36 [00:00<?, ?it/s]"
      ]
     },
     "metadata": {},
     "output_type": "display_data"
    },
    {
     "name": "stdout",
     "output_type": "stream",
     "text": [
      "Mean k2 on non-weighted test data: 0.1716\n",
      "Mean EMD on non-weighted test data: 0.0479\n",
      "Mean ED on non-weighted test data: 0.0911\n",
      "\n",
      "Mean k2 on weighted test data: 0.1597\n",
      "Mean EMD on weighted test data: 0.0425\n",
      "Mean ED on weighted test data: 0.0812\n",
      "\n"
     ]
    },
    {
     "data": {
      "application/vnd.jupyter.widget-view+json": {
       "model_id": "16ebd7b1657a412d8e3a7f9164a47ecc",
       "version_major": 2,
       "version_minor": 0
      },
      "text/plain": [
       "  0%|          | 0/36 [00:00<?, ?it/s]"
      ]
     },
     "metadata": {},
     "output_type": "display_data"
    },
    {
     "name": "stdout",
     "output_type": "stream",
     "text": [
      "Mean k2 on non-weighted test data: 0.2084\n",
      "Mean EMD on non-weighted test data: 0.0584\n",
      "Mean ED on non-weighted test data: 0.1119\n",
      "\n",
      "Mean k2 on weighted test data: 0.2018\n",
      "Mean EMD on weighted test data: 0.053\n",
      "Mean ED on weighted test data: 0.103\n",
      "\n"
     ]
    },
    {
     "data": {
      "application/vnd.jupyter.widget-view+json": {
       "model_id": "194b3a909feb4362ae6b69adb443a3a4",
       "version_major": 2,
       "version_minor": 0
      },
      "text/plain": [
       "  0%|          | 0/36 [00:00<?, ?it/s]"
      ]
     },
     "metadata": {},
     "output_type": "display_data"
    },
    {
     "name": "stdout",
     "output_type": "stream",
     "text": [
      "Mean k2 on non-weighted test data: 0.2674\n",
      "Mean EMD on non-weighted test data: 0.0736\n",
      "Mean ED on non-weighted test data: 0.1418\n",
      "\n",
      "Mean k2 on weighted test data: 0.2551\n",
      "Mean EMD on weighted test data: 0.0678\n",
      "Mean ED on weighted test data: 0.1315\n",
      "\n"
     ]
    }
   ],
   "source": [
    "original = texts[texts[\"Unit\"] == 'Original'][\"Question\"].tolist()\n",
    "labels = [texts[texts[\"Unit\"] == 'Original'][\"gpt4score\"].tolist(),\n",
    "             texts[texts[\"Unit\"] == 'Original'][\"gpt3.5score\"].tolist()]\n",
    "\n",
    "results = {}\n",
    "for i in tqdm(range(1, 9)):\n",
    "    cur_shift = f'Future+{i}'\n",
    "    target = texts[texts[\"Unit\"] == cur_shift][\"Question\"].tolist()\n",
    "    true_target_labels = [texts[texts[\"Unit\"] == cur_shift][\"gpt4score\"].tolist(),\n",
    "             texts[texts[\"Unit\"] == cur_shift][\"gpt3.5score\"].tolist()]\n",
    "    \n",
    "    grid_values = {'n_estimators': [30, 100], \n",
    "               'learning_rate':[0.01, 0.001, 0.009],\n",
    "               'max_depth': [5, 10],\n",
    "               'min_samples_leaf': [1, 10, 100]}\n",
    "\n",
    "    pr = PropensityReweighter(config)\n",
    "    best_predictor = pr.fit_gridsearch(original, target, grid_values)\n",
    "    \n",
    "    best_weights = best_predictor.predict(original)\n",
    "    \n",
    "    accuracy_all = []\n",
    "    f1_all = []\n",
    "    f1_all.append(f\"{len(target)}\")\n",
    "    for j, model_pred in enumerate(labels):\n",
    "        f1 = round(f1_score([5] * len(true_target_labels[j]), true_target_labels[j], sample_weight=([1] * len(true_target_labels[j])), average='weighted'), 3), round(f1_score([5] * len(model_pred), model_pred, sample_weight=best_weights, average='weighted'), 3)\n",
    "        f1_all.append(f\"{f1[0]} / {f1[1]}\")\n",
    "        \n",
    "    results[cur_shift] = {'f1-score': f1_all}"
   ]
  },
  {
   "cell_type": "code",
   "execution_count": 45,
   "id": "d9403f4a-c024-4263-aa01-4fefe77af534",
   "metadata": {
    "tags": []
   },
   "outputs": [],
   "source": [
    "df = pd.DataFrame([], columns=[\"shift\", \"num_samples\", \"f1_gpt4\", \"f1_gpt3.5\"])\n",
    "\n",
    "for item in results:\n",
    "    df = pd.concat(\n",
    "        [df, pd.DataFrame([[item, results[item][\"f1-score\"][0],\n",
    "                            results[item][\"f1-score\"][1], \n",
    "                            results[item][\"f1-score\"][2]]], columns=[\"shift\", \"num_samples\", \"f1_gpt4\", \"f1_gpt3.5\"])],\n",
    "        ignore_index=True,)"
   ]
  },
  {
   "cell_type": "code",
   "execution_count": 46,
   "id": "ac80d148-78c1-4e64-8c23-5b825bb5fb18",
   "metadata": {
    "tags": []
   },
   "outputs": [
    {
     "data": {
      "text/html": [
       "<div>\n",
       "<style scoped>\n",
       "    .dataframe tbody tr th:only-of-type {\n",
       "        vertical-align: middle;\n",
       "    }\n",
       "\n",
       "    .dataframe tbody tr th {\n",
       "        vertical-align: top;\n",
       "    }\n",
       "\n",
       "    .dataframe thead th {\n",
       "        text-align: right;\n",
       "    }\n",
       "</style>\n",
       "<table border=\"1\" class=\"dataframe\">\n",
       "  <thead>\n",
       "    <tr style=\"text-align: right;\">\n",
       "      <th></th>\n",
       "      <th>shift</th>\n",
       "      <th>num_samples</th>\n",
       "      <th>f1_gpt4</th>\n",
       "      <th>f1_gpt3.5</th>\n",
       "    </tr>\n",
       "  </thead>\n",
       "  <tbody>\n",
       "    <tr>\n",
       "      <th>0</th>\n",
       "      <td>Future+1</td>\n",
       "      <td>61</td>\n",
       "      <td>0.948 / 0.957</td>\n",
       "      <td>0.957 / 1.0</td>\n",
       "    </tr>\n",
       "    <tr>\n",
       "      <th>1</th>\n",
       "      <td>Future+2</td>\n",
       "      <td>57</td>\n",
       "      <td>0.954 / 0.954</td>\n",
       "      <td>0.982 / 1.0</td>\n",
       "    </tr>\n",
       "    <tr>\n",
       "      <th>2</th>\n",
       "      <td>Future+3</td>\n",
       "      <td>54</td>\n",
       "      <td>0.941 / 0.953</td>\n",
       "      <td>0.909 / 1.0</td>\n",
       "    </tr>\n",
       "    <tr>\n",
       "      <th>3</th>\n",
       "      <td>Future+4</td>\n",
       "      <td>44</td>\n",
       "      <td>0.952 / 0.938</td>\n",
       "      <td>0.952 / 1.0</td>\n",
       "    </tr>\n",
       "    <tr>\n",
       "      <th>4</th>\n",
       "      <td>Future+5</td>\n",
       "      <td>42</td>\n",
       "      <td>0.95 / 0.961</td>\n",
       "      <td>0.95 / 1.0</td>\n",
       "    </tr>\n",
       "    <tr>\n",
       "      <th>5</th>\n",
       "      <td>Future+6</td>\n",
       "      <td>35</td>\n",
       "      <td>0.923 / 0.955</td>\n",
       "      <td>0.906 / 1.0</td>\n",
       "    </tr>\n",
       "    <tr>\n",
       "      <th>6</th>\n",
       "      <td>Future+7</td>\n",
       "      <td>25</td>\n",
       "      <td>0.98 / 0.901</td>\n",
       "      <td>0.913 / 1.0</td>\n",
       "    </tr>\n",
       "    <tr>\n",
       "      <th>7</th>\n",
       "      <td>Future+8</td>\n",
       "      <td>10</td>\n",
       "      <td>0.889 / 0.937</td>\n",
       "      <td>1.0 / 1.0</td>\n",
       "    </tr>\n",
       "  </tbody>\n",
       "</table>\n",
       "</div>"
      ],
      "text/plain": [
       "      shift num_samples        f1_gpt4    f1_gpt3.5\n",
       "0  Future+1          61  0.948 / 0.957  0.957 / 1.0\n",
       "1  Future+2          57  0.954 / 0.954  0.982 / 1.0\n",
       "2  Future+3          54  0.941 / 0.953  0.909 / 1.0\n",
       "3  Future+4          44  0.952 / 0.938  0.952 / 1.0\n",
       "4  Future+5          42   0.95 / 0.961   0.95 / 1.0\n",
       "5  Future+6          35  0.923 / 0.955  0.906 / 1.0\n",
       "6  Future+7          25   0.98 / 0.901  0.913 / 1.0\n",
       "7  Future+8          10  0.889 / 0.937    1.0 / 1.0"
      ]
     },
     "execution_count": 46,
     "metadata": {},
     "output_type": "execute_result"
    }
   ],
   "source": [
    "df # future shifts"
   ]
  },
  {
   "cell_type": "code",
   "execution_count": 42,
   "id": "d76cfba8-fa7c-400d-90d5-44abbfe240d0",
   "metadata": {
    "tags": []
   },
   "outputs": [
    {
     "data": {
      "text/html": [
       "<div>\n",
       "<style scoped>\n",
       "    .dataframe tbody tr th:only-of-type {\n",
       "        vertical-align: middle;\n",
       "    }\n",
       "\n",
       "    .dataframe tbody tr th {\n",
       "        vertical-align: top;\n",
       "    }\n",
       "\n",
       "    .dataframe thead th {\n",
       "        text-align: right;\n",
       "    }\n",
       "</style>\n",
       "<table border=\"1\" class=\"dataframe\">\n",
       "  <thead>\n",
       "    <tr style=\"text-align: right;\">\n",
       "      <th></th>\n",
       "      <th>shift</th>\n",
       "      <th>num_samples</th>\n",
       "      <th>f1_gpt4</th>\n",
       "      <th>f1_gpt3.5</th>\n",
       "    </tr>\n",
       "  </thead>\n",
       "  <tbody>\n",
       "    <tr>\n",
       "      <th>0</th>\n",
       "      <td>Past-1</td>\n",
       "      <td>60</td>\n",
       "      <td>0.957 / 0.958</td>\n",
       "      <td>0.947 / 1.0</td>\n",
       "    </tr>\n",
       "    <tr>\n",
       "      <th>1</th>\n",
       "      <td>Past-2</td>\n",
       "      <td>54</td>\n",
       "      <td>0.962 / 0.959</td>\n",
       "      <td>0.931 / 1.0</td>\n",
       "    </tr>\n",
       "    <tr>\n",
       "      <th>2</th>\n",
       "      <td>Past-3</td>\n",
       "      <td>53</td>\n",
       "      <td>0.971 / 0.954</td>\n",
       "      <td>0.929 / 1.0</td>\n",
       "    </tr>\n",
       "    <tr>\n",
       "      <th>3</th>\n",
       "      <td>Past-4</td>\n",
       "      <td>44</td>\n",
       "      <td>0.965 / 0.951</td>\n",
       "      <td>0.977 / 1.0</td>\n",
       "    </tr>\n",
       "    <tr>\n",
       "      <th>4</th>\n",
       "      <td>Past-5</td>\n",
       "      <td>41</td>\n",
       "      <td>0.921 / 0.947</td>\n",
       "      <td>0.962 / 1.0</td>\n",
       "    </tr>\n",
       "    <tr>\n",
       "      <th>5</th>\n",
       "      <td>Past-6</td>\n",
       "      <td>32</td>\n",
       "      <td>0.915 / 0.939</td>\n",
       "      <td>0.933 / 1.0</td>\n",
       "    </tr>\n",
       "    <tr>\n",
       "      <th>6</th>\n",
       "      <td>Past-7</td>\n",
       "      <td>24</td>\n",
       "      <td>0.909 / 0.957</td>\n",
       "      <td>0.979 / 1.0</td>\n",
       "    </tr>\n",
       "    <tr>\n",
       "      <th>7</th>\n",
       "      <td>Past-8</td>\n",
       "      <td>8</td>\n",
       "      <td>1.0 / 0.954</td>\n",
       "      <td>1.0 / 1.0</td>\n",
       "    </tr>\n",
       "  </tbody>\n",
       "</table>\n",
       "</div>"
      ],
      "text/plain": [
       "    shift num_samples        f1_gpt4    f1_gpt3.5\n",
       "0  Past-1          60  0.957 / 0.958  0.947 / 1.0\n",
       "1  Past-2          54  0.962 / 0.959  0.931 / 1.0\n",
       "2  Past-3          53  0.971 / 0.954  0.929 / 1.0\n",
       "3  Past-4          44  0.965 / 0.951  0.977 / 1.0\n",
       "4  Past-5          41  0.921 / 0.947  0.962 / 1.0\n",
       "5  Past-6          32  0.915 / 0.939  0.933 / 1.0\n",
       "6  Past-7          24  0.909 / 0.957  0.979 / 1.0\n",
       "7  Past-8           8    1.0 / 0.954    1.0 / 1.0"
      ]
     },
     "execution_count": 42,
     "metadata": {},
     "output_type": "execute_result"
    }
   ],
   "source": [
    "df # past shifts"
   ]
  },
  {
   "cell_type": "markdown",
   "id": "a4b8830d-7d41-41ef-887c-b0426af6d543",
   "metadata": {},
   "source": [
    "## wmt en-de metrics"
   ]
  },
  {
   "cell_type": "code",
   "execution_count": 2,
   "id": "82794010-99b8-45a4-8517-91dfd19f9409",
   "metadata": {
    "tags": []
   },
   "outputs": [],
   "source": [
    "with open('./propensity_reweighting/config/config.yaml', 'r') as file:\n",
    "    config = yaml.safe_load(file)\n",
    "\n",
    "data = pd.read_csv('./llm_propensity/evalualtion_metrics/wmt23/en-de.csv')"
   ]
  },
  {
   "cell_type": "code",
   "execution_count": 3,
   "id": "3ec7f1db-0eeb-4910-9614-6bf9a074ca2c",
   "metadata": {
    "tags": []
   },
   "outputs": [
    {
     "data": {
      "text/html": [
       "<div>\n",
       "<style scoped>\n",
       "    .dataframe tbody tr th:only-of-type {\n",
       "        vertical-align: middle;\n",
       "    }\n",
       "\n",
       "    .dataframe tbody tr th {\n",
       "        vertical-align: top;\n",
       "    }\n",
       "\n",
       "    .dataframe thead th {\n",
       "        text-align: right;\n",
       "    }\n",
       "</style>\n",
       "<table border=\"1\" class=\"dataframe\">\n",
       "  <thead>\n",
       "    <tr style=\"text-align: right;\">\n",
       "      <th></th>\n",
       "      <th>en_sentence</th>\n",
       "      <th>human_translate</th>\n",
       "      <th>model1</th>\n",
       "      <th>model1_score</th>\n",
       "      <th>model2</th>\n",
       "      <th>model2_score</th>\n",
       "      <th>model3</th>\n",
       "      <th>model3_score</th>\n",
       "      <th>model4</th>\n",
       "      <th>model4_score</th>\n",
       "      <th>...</th>\n",
       "      <th>model8</th>\n",
       "      <th>model8_score</th>\n",
       "      <th>model9</th>\n",
       "      <th>model9_score</th>\n",
       "      <th>model10</th>\n",
       "      <th>model10_score</th>\n",
       "      <th>model11</th>\n",
       "      <th>model11_score</th>\n",
       "      <th>model12</th>\n",
       "      <th>model12_score</th>\n",
       "    </tr>\n",
       "  </thead>\n",
       "  <tbody>\n",
       "    <tr>\n",
       "      <th>0</th>\n",
       "      <td>Police arrest 15 after violent protest outside...</td>\n",
       "      <td>Polizei verhaftet 15 Menschen nach gewalttätig...</td>\n",
       "      <td>Polizei verhaftet 15 nach gewalttätigem Protes...</td>\n",
       "      <td>14.448815</td>\n",
       "      <td>Die Polizei nimmt 15 Personen nach gewalttätig...</td>\n",
       "      <td>19.674980</td>\n",
       "      <td>Die Polizei verhaftet 15 Personen nach gewalts...</td>\n",
       "      <td>16.590387</td>\n",
       "      <td>Polizei verhaftet 15 nach gewalttätigem Protes...</td>\n",
       "      <td>14.448815</td>\n",
       "      <td>...</td>\n",
       "      <td>Polizei verhaftet 15 Personen nach gewalttätig...</td>\n",
       "      <td>14.530346</td>\n",
       "      <td>﻿Polizeiverhaftung 15 nach gewaltsamen Protest...</td>\n",
       "      <td>4.495987</td>\n",
       "      <td>Polizei nimmt 15 nach gewalttätigen Protesten ...</td>\n",
       "      <td>23.801761</td>\n",
       "      <td>Polizei nimmt 15 Personen nach gewaltsamen Pro...</td>\n",
       "      <td>8.516593</td>\n",
       "      <td>Polizei verhaftet 15 nach gewalttätigem Protes...</td>\n",
       "      <td>14.448815</td>\n",
       "    </tr>\n",
       "    <tr>\n",
       "      <th>1</th>\n",
       "      <td>The incident comes after increase in numbers o...</td>\n",
       "      <td>Der Vorfall ereignet sich, nachdem sich die Za...</td>\n",
       "      <td>Der Vorfall ereignete sich nach einem Anstieg ...</td>\n",
       "      <td>26.303375</td>\n",
       "      <td>Der Vorfall ereignete sich nach einem Anstieg ...</td>\n",
       "      <td>29.545219</td>\n",
       "      <td>Der Vorfall ereignete sich, nachdem die Zahl d...</td>\n",
       "      <td>36.649802</td>\n",
       "      <td>Der Vorfall kommt nach einer Zunahme der Zahl ...</td>\n",
       "      <td>25.154173</td>\n",
       "      <td>...</td>\n",
       "      <td>Der Vorfall ereignete sich, nachdem die Zahl d...</td>\n",
       "      <td>34.150705</td>\n",
       "      <td>Die Polizei sagte, dass ein Polizist und zwei ...</td>\n",
       "      <td>14.294320</td>\n",
       "      <td>Der Vorfall ereignete sich, nachdem die Zahl d...</td>\n",
       "      <td>28.939657</td>\n",
       "      <td>Der Vorfall ereignete sich, nachdem die Zahl d...</td>\n",
       "      <td>30.218550</td>\n",
       "      <td>Der Vorfall ereignete sich nach einem Anstieg ...</td>\n",
       "      <td>27.196164</td>\n",
       "    </tr>\n",
       "    <tr>\n",
       "      <th>2</th>\n",
       "      <td>The Home Office has been using the hotel to te...</td>\n",
       "      <td>Das Innenministerium hat das Hotel seit letzte...</td>\n",
       "      <td>Das Innenministerium nutzt das Hotel laut loka...</td>\n",
       "      <td>34.035510</td>\n",
       "      <td>Das Innenministerium nutzt das Hotel seit letz...</td>\n",
       "      <td>35.119677</td>\n",
       "      <td>Laut lokalen Medien nutzt das Innenministerium...</td>\n",
       "      <td>45.395746</td>\n",
       "      <td>Das Innenministerium nutzt das Hotel seit letz...</td>\n",
       "      <td>40.719846</td>\n",
       "      <td>...</td>\n",
       "      <td>Lokalen Medien zufolge nutzt das Innenminister...</td>\n",
       "      <td>39.641643</td>\n",
       "      <td>Das Home Office nutzt das Hotel seit letztem J...</td>\n",
       "      <td>42.385532</td>\n",
       "      <td>Das Innenministerium nutzt das Hotel seit letz...</td>\n",
       "      <td>36.082066</td>\n",
       "      <td>Lokalen Medien zufolge nutzt das Innenminister...</td>\n",
       "      <td>29.267528</td>\n",
       "      <td>Lokalen Medien zufolge nutzt das Innenminister...</td>\n",
       "      <td>34.067354</td>\n",
       "    </tr>\n",
       "    <tr>\n",
       "      <th>3</th>\n",
       "      <td>More than 45,000 people reached the UK by that...</td>\n",
       "      <td>Mehr als 45.000 Menschen haben 2022 Großbritan...</td>\n",
       "      <td>Mehr als 45.000 Menschen erreichten 2022 auf d...</td>\n",
       "      <td>46.062127</td>\n",
       "      <td>Mehr als 45.000 Menschen erreichten das Verein...</td>\n",
       "      <td>48.566785</td>\n",
       "      <td>Mehr als 45.000 Menschen erreichten 2022 auf d...</td>\n",
       "      <td>47.026292</td>\n",
       "      <td>Mehr als 45.000 Menschen erreichten Großbritan...</td>\n",
       "      <td>42.405909</td>\n",
       "      <td>...</td>\n",
       "      <td>Im Jahr 2022 erreichten mehr als 45.000 Mensch...</td>\n",
       "      <td>34.104278</td>\n",
       "      <td>Das System zur Prüfung von Asylanträgen hat si...</td>\n",
       "      <td>26.445337</td>\n",
       "      <td>Mehr als 45.000 Menschen erreichten das Verein...</td>\n",
       "      <td>26.969867</td>\n",
       "      <td>Im Jahr 2022 erreichten mehr als 45.000 Mensch...</td>\n",
       "      <td>37.961820</td>\n",
       "      <td>Über 45.000 Menschen erreichten das Vereinigte...</td>\n",
       "      <td>33.754834</td>\n",
       "    </tr>\n",
       "    <tr>\n",
       "      <th>4</th>\n",
       "      <td>President's Cup: Candystripes defeat Rovers in...</td>\n",
       "      <td>President's Cup: Candystripes besiegen Rovers ...</td>\n",
       "      <td>President's Cup: Candystripes besiegen Rovers ...</td>\n",
       "      <td>58.143074</td>\n",
       "      <td>President's Cup: Candystripes besiegen Rovers ...</td>\n",
       "      <td>58.143074</td>\n",
       "      <td>President's Cup: Candystripes besiegen Rovers ...</td>\n",
       "      <td>58.143074</td>\n",
       "      <td>President's Cup: Candystripes besiegen Rovers ...</td>\n",
       "      <td>58.143074</td>\n",
       "      <td>...</td>\n",
       "      <td>President's Cup: Candystripes besiegen Rovers ...</td>\n",
       "      <td>58.143074</td>\n",
       "      <td>President's Cup: Candystripes besiegen Rovers ...</td>\n",
       "      <td>57.212484</td>\n",
       "      <td>President's Cup: Candystripes besiegen Rovers ...</td>\n",
       "      <td>58.143074</td>\n",
       "      <td>President's Cup: Candystripes besiegen Rovers ...</td>\n",
       "      <td>58.143074</td>\n",
       "      <td>President's Cup: Candystripes besiegen Rovers ...</td>\n",
       "      <td>58.143074</td>\n",
       "    </tr>\n",
       "    <tr>\n",
       "      <th>...</th>\n",
       "      <td>...</td>\n",
       "      <td>...</td>\n",
       "      <td>...</td>\n",
       "      <td>...</td>\n",
       "      <td>...</td>\n",
       "      <td>...</td>\n",
       "      <td>...</td>\n",
       "      <td>...</td>\n",
       "      <td>...</td>\n",
       "      <td>...</td>\n",
       "      <td>...</td>\n",
       "      <td>...</td>\n",
       "      <td>...</td>\n",
       "      <td>...</td>\n",
       "      <td>...</td>\n",
       "      <td>...</td>\n",
       "      <td>...</td>\n",
       "      <td>...</td>\n",
       "      <td>...</td>\n",
       "      <td>...</td>\n",
       "      <td>...</td>\n",
       "    </tr>\n",
       "    <tr>\n",
       "      <th>552</th>\n",
       "      <td>Ergonomic and affordable, but not very toleran...</td>\n",
       "      <td>Ergonomisch und günstig, aber nicht für die ko...</td>\n",
       "      <td>Ergonomisch und erschwinglich, aber nicht sehr...</td>\n",
       "      <td>17.542198</td>\n",
       "      <td>Ergonomisch und erschwinglich, aber nicht sehr...</td>\n",
       "      <td>18.360281</td>\n",
       "      <td>Ergonomisch und erschwinglich, aber nicht sehr...</td>\n",
       "      <td>17.542198</td>\n",
       "      <td>Ergonomisch und erschwinglich, aber nicht sehr...</td>\n",
       "      <td>17.542198</td>\n",
       "      <td>...</td>\n",
       "      <td>Ergonomisch und erschwinglich, aber nicht sehr...</td>\n",
       "      <td>17.542198</td>\n",
       "      <td>Ergonomisch und erschwinglich, aber nicht sehr...</td>\n",
       "      <td>18.360281</td>\n",
       "      <td>Ergonomisch und erschwinglich, aber nicht sehr...</td>\n",
       "      <td>17.542198</td>\n",
       "      <td>Ergonomisch und erschwinglich, aber nicht sehr...</td>\n",
       "      <td>17.542198</td>\n",
       "      <td>Ergonomisch und erschwinglich, aber wenig tole...</td>\n",
       "      <td>10.738977</td>\n",
       "    </tr>\n",
       "    <tr>\n",
       "      <th>553</th>\n",
       "      <td>It has a slimmer design shape that fits better...</td>\n",
       "      <td>Der Controller hat ein schmaleres Design, das ...</td>\n",
       "      <td>Es hat eine schlankere Designform, die besser ...</td>\n",
       "      <td>32.344238</td>\n",
       "      <td>Es hat ein schlankeres Design, das besser in d...</td>\n",
       "      <td>31.351857</td>\n",
       "      <td>Er hat ein schlankeres Design, das besser in d...</td>\n",
       "      <td>35.118605</td>\n",
       "      <td>Es hat eine schlankere Designform, die besser ...</td>\n",
       "      <td>31.718754</td>\n",
       "      <td>...</td>\n",
       "      <td>Das schlankere Design liegt besser in der Hand...</td>\n",
       "      <td>28.587270</td>\n",
       "      <td>Es hat eine schlankere Konstruktionsform, die ...</td>\n",
       "      <td>24.698036</td>\n",
       "      <td>Es hat eine schlankere Designform, die besser ...</td>\n",
       "      <td>30.391731</td>\n",
       "      <td>Er hat eine schlankere Form, die besser in der...</td>\n",
       "      <td>38.505105</td>\n",
       "      <td>Er hat ein schlankeres Design, das besser in d...</td>\n",
       "      <td>25.012669</td>\n",
       "    </tr>\n",
       "    <tr>\n",
       "      <th>554</th>\n",
       "      <td>You get what you pay for</td>\n",
       "      <td>Man kriegt, wofür man bezahlt</td>\n",
       "      <td>Sie bekommen, wofür Sie bezahlen</td>\n",
       "      <td>16.233396</td>\n",
       "      <td>Man bekommt, wofür man bezahlt.</td>\n",
       "      <td>43.472087</td>\n",
       "      <td>Du bekommst, wofür du bezahlst</td>\n",
       "      <td>16.233396</td>\n",
       "      <td>Du bekommst, wofür du bezahlst</td>\n",
       "      <td>16.233396</td>\n",
       "      <td>...</td>\n",
       "      <td>Sie bekommen, wofür Sie bezahlen</td>\n",
       "      <td>16.233396</td>\n",
       "      <td>Du bekommst, wofür du zahlst</td>\n",
       "      <td>16.233396</td>\n",
       "      <td>Du bekommst, wofür du bezahlst</td>\n",
       "      <td>16.233396</td>\n",
       "      <td>Sie bekommen, wofür Sie bezahlen</td>\n",
       "      <td>16.233396</td>\n",
       "      <td>Sie bekommen, wofür Sie zahlen</td>\n",
       "      <td>16.233396</td>\n",
       "    </tr>\n",
       "    <tr>\n",
       "      <th>555</th>\n",
       "      <td>I was disappointed upon receiving this item as...</td>\n",
       "      <td>Ich war sehr enttäuscht, als ich den Artikel e...</td>\n",
       "      <td>Ich war enttäuscht, als ich diesen Artikel erh...</td>\n",
       "      <td>31.972716</td>\n",
       "      <td>Ich war enttäuscht, als ich diesen Artikel erh...</td>\n",
       "      <td>32.594279</td>\n",
       "      <td>Ich war enttäuscht, als ich diesen Artikel erh...</td>\n",
       "      <td>29.134569</td>\n",
       "      <td>Ich war enttäuscht, als ich diesen Artikel erh...</td>\n",
       "      <td>25.972745</td>\n",
       "      <td>...</td>\n",
       "      <td>Ich war enttäuscht, als ich diesen Artikel erh...</td>\n",
       "      <td>28.188503</td>\n",
       "      <td>Ich war enttäuscht darüber, dass der silberne ...</td>\n",
       "      <td>20.855679</td>\n",
       "      <td>Ich war enttäuscht, als ich diesen Artikel erh...</td>\n",
       "      <td>25.673215</td>\n",
       "      <td>Ich war enttäuscht, als ich diesen Artikel erh...</td>\n",
       "      <td>30.392323</td>\n",
       "      <td>Ich war enttäuscht, als ich diesen Artikel erh...</td>\n",
       "      <td>25.508720</td>\n",
       "    </tr>\n",
       "    <tr>\n",
       "      <th>556</th>\n",
       "      <td>Nothing like the previous Stylo phones, MASSIV...</td>\n",
       "      <td>Kein Vergleich zu den vorherigen Stylo-Handys,...</td>\n",
       "      <td>Nichts wie die vorherigen Stylo-Telefone, MASS...</td>\n",
       "      <td>30.134798</td>\n",
       "      <td>Nichts wie die vorherigen Stylo-Telefone, EINE...</td>\n",
       "      <td>34.747283</td>\n",
       "      <td>Nichts wie bei den vorherigen Stylo-Telefonen,...</td>\n",
       "      <td>31.891316</td>\n",
       "      <td>Nichts wie die vorherigen Stylo-Telefone, MASS...</td>\n",
       "      <td>32.094305</td>\n",
       "      <td>...</td>\n",
       "      <td>Nichts wie die vorherigen Stylo-Telefone, RIES...</td>\n",
       "      <td>29.319509</td>\n",
       "      <td>Nichts wie die vorherigen Stylo Telefone, MASS...</td>\n",
       "      <td>4.528188</td>\n",
       "      <td>Nichts wie die vorherigen Stylo-Telefone, MASS...</td>\n",
       "      <td>26.854133</td>\n",
       "      <td>Nicht wie die vorherigen Stylo-Handys, MASSIVE...</td>\n",
       "      <td>35.127483</td>\n",
       "      <td>Nichts wie die vorherigen Stylo-Handys, MASSIV...</td>\n",
       "      <td>25.613711</td>\n",
       "    </tr>\n",
       "  </tbody>\n",
       "</table>\n",
       "<p>557 rows × 26 columns</p>\n",
       "</div>"
      ],
      "text/plain": [
       "                                           en_sentence  \\\n",
       "0    Police arrest 15 after violent protest outside...   \n",
       "1    The incident comes after increase in numbers o...   \n",
       "2    The Home Office has been using the hotel to te...   \n",
       "3    More than 45,000 people reached the UK by that...   \n",
       "4    President's Cup: Candystripes defeat Rovers in...   \n",
       "..                                                 ...   \n",
       "552  Ergonomic and affordable, but not very toleran...   \n",
       "553  It has a slimmer design shape that fits better...   \n",
       "554                           You get what you pay for   \n",
       "555  I was disappointed upon receiving this item as...   \n",
       "556  Nothing like the previous Stylo phones, MASSIV...   \n",
       "\n",
       "                                       human_translate  \\\n",
       "0    Polizei verhaftet 15 Menschen nach gewalttätig...   \n",
       "1    Der Vorfall ereignet sich, nachdem sich die Za...   \n",
       "2    Das Innenministerium hat das Hotel seit letzte...   \n",
       "3    Mehr als 45.000 Menschen haben 2022 Großbritan...   \n",
       "4    President's Cup: Candystripes besiegen Rovers ...   \n",
       "..                                                 ...   \n",
       "552  Ergonomisch und günstig, aber nicht für die ko...   \n",
       "553  Der Controller hat ein schmaleres Design, das ...   \n",
       "554                      Man kriegt, wofür man bezahlt   \n",
       "555  Ich war sehr enttäuscht, als ich den Artikel e...   \n",
       "556  Kein Vergleich zu den vorherigen Stylo-Handys,...   \n",
       "\n",
       "                                                model1  model1_score  \\\n",
       "0    Polizei verhaftet 15 nach gewalttätigem Protes...     14.448815   \n",
       "1    Der Vorfall ereignete sich nach einem Anstieg ...     26.303375   \n",
       "2    Das Innenministerium nutzt das Hotel laut loka...     34.035510   \n",
       "3    Mehr als 45.000 Menschen erreichten 2022 auf d...     46.062127   \n",
       "4    President's Cup: Candystripes besiegen Rovers ...     58.143074   \n",
       "..                                                 ...           ...   \n",
       "552  Ergonomisch und erschwinglich, aber nicht sehr...     17.542198   \n",
       "553  Es hat eine schlankere Designform, die besser ...     32.344238   \n",
       "554                   Sie bekommen, wofür Sie bezahlen     16.233396   \n",
       "555  Ich war enttäuscht, als ich diesen Artikel erh...     31.972716   \n",
       "556  Nichts wie die vorherigen Stylo-Telefone, MASS...     30.134798   \n",
       "\n",
       "                                                model2  model2_score  \\\n",
       "0    Die Polizei nimmt 15 Personen nach gewalttätig...     19.674980   \n",
       "1    Der Vorfall ereignete sich nach einem Anstieg ...     29.545219   \n",
       "2    Das Innenministerium nutzt das Hotel seit letz...     35.119677   \n",
       "3    Mehr als 45.000 Menschen erreichten das Verein...     48.566785   \n",
       "4    President's Cup: Candystripes besiegen Rovers ...     58.143074   \n",
       "..                                                 ...           ...   \n",
       "552  Ergonomisch und erschwinglich, aber nicht sehr...     18.360281   \n",
       "553  Es hat ein schlankeres Design, das besser in d...     31.351857   \n",
       "554                    Man bekommt, wofür man bezahlt.     43.472087   \n",
       "555  Ich war enttäuscht, als ich diesen Artikel erh...     32.594279   \n",
       "556  Nichts wie die vorherigen Stylo-Telefone, EINE...     34.747283   \n",
       "\n",
       "                                                model3  model3_score  \\\n",
       "0    Die Polizei verhaftet 15 Personen nach gewalts...     16.590387   \n",
       "1    Der Vorfall ereignete sich, nachdem die Zahl d...     36.649802   \n",
       "2    Laut lokalen Medien nutzt das Innenministerium...     45.395746   \n",
       "3    Mehr als 45.000 Menschen erreichten 2022 auf d...     47.026292   \n",
       "4    President's Cup: Candystripes besiegen Rovers ...     58.143074   \n",
       "..                                                 ...           ...   \n",
       "552  Ergonomisch und erschwinglich, aber nicht sehr...     17.542198   \n",
       "553  Er hat ein schlankeres Design, das besser in d...     35.118605   \n",
       "554                     Du bekommst, wofür du bezahlst     16.233396   \n",
       "555  Ich war enttäuscht, als ich diesen Artikel erh...     29.134569   \n",
       "556  Nichts wie bei den vorherigen Stylo-Telefonen,...     31.891316   \n",
       "\n",
       "                                                model4  model4_score  ...  \\\n",
       "0    Polizei verhaftet 15 nach gewalttätigem Protes...     14.448815  ...   \n",
       "1    Der Vorfall kommt nach einer Zunahme der Zahl ...     25.154173  ...   \n",
       "2    Das Innenministerium nutzt das Hotel seit letz...     40.719846  ...   \n",
       "3    Mehr als 45.000 Menschen erreichten Großbritan...     42.405909  ...   \n",
       "4    President's Cup: Candystripes besiegen Rovers ...     58.143074  ...   \n",
       "..                                                 ...           ...  ...   \n",
       "552  Ergonomisch und erschwinglich, aber nicht sehr...     17.542198  ...   \n",
       "553  Es hat eine schlankere Designform, die besser ...     31.718754  ...   \n",
       "554                     Du bekommst, wofür du bezahlst     16.233396  ...   \n",
       "555  Ich war enttäuscht, als ich diesen Artikel erh...     25.972745  ...   \n",
       "556  Nichts wie die vorherigen Stylo-Telefone, MASS...     32.094305  ...   \n",
       "\n",
       "                                                model8  model8_score  \\\n",
       "0    Polizei verhaftet 15 Personen nach gewalttätig...     14.530346   \n",
       "1    Der Vorfall ereignete sich, nachdem die Zahl d...     34.150705   \n",
       "2    Lokalen Medien zufolge nutzt das Innenminister...     39.641643   \n",
       "3    Im Jahr 2022 erreichten mehr als 45.000 Mensch...     34.104278   \n",
       "4    President's Cup: Candystripes besiegen Rovers ...     58.143074   \n",
       "..                                                 ...           ...   \n",
       "552  Ergonomisch und erschwinglich, aber nicht sehr...     17.542198   \n",
       "553  Das schlankere Design liegt besser in der Hand...     28.587270   \n",
       "554                   Sie bekommen, wofür Sie bezahlen     16.233396   \n",
       "555  Ich war enttäuscht, als ich diesen Artikel erh...     28.188503   \n",
       "556  Nichts wie die vorherigen Stylo-Telefone, RIES...     29.319509   \n",
       "\n",
       "                                                model9  model9_score  \\\n",
       "0    ﻿Polizeiverhaftung 15 nach gewaltsamen Protest...      4.495987   \n",
       "1    Die Polizei sagte, dass ein Polizist und zwei ...     14.294320   \n",
       "2    Das Home Office nutzt das Hotel seit letztem J...     42.385532   \n",
       "3    Das System zur Prüfung von Asylanträgen hat si...     26.445337   \n",
       "4    President's Cup: Candystripes besiegen Rovers ...     57.212484   \n",
       "..                                                 ...           ...   \n",
       "552  Ergonomisch und erschwinglich, aber nicht sehr...     18.360281   \n",
       "553  Es hat eine schlankere Konstruktionsform, die ...     24.698036   \n",
       "554                       Du bekommst, wofür du zahlst     16.233396   \n",
       "555  Ich war enttäuscht darüber, dass der silberne ...     20.855679   \n",
       "556  Nichts wie die vorherigen Stylo Telefone, MASS...      4.528188   \n",
       "\n",
       "                                               model10  model10_score  \\\n",
       "0    Polizei nimmt 15 nach gewalttätigen Protesten ...      23.801761   \n",
       "1    Der Vorfall ereignete sich, nachdem die Zahl d...      28.939657   \n",
       "2    Das Innenministerium nutzt das Hotel seit letz...      36.082066   \n",
       "3    Mehr als 45.000 Menschen erreichten das Verein...      26.969867   \n",
       "4    President's Cup: Candystripes besiegen Rovers ...      58.143074   \n",
       "..                                                 ...            ...   \n",
       "552  Ergonomisch und erschwinglich, aber nicht sehr...      17.542198   \n",
       "553  Es hat eine schlankere Designform, die besser ...      30.391731   \n",
       "554                     Du bekommst, wofür du bezahlst      16.233396   \n",
       "555  Ich war enttäuscht, als ich diesen Artikel erh...      25.673215   \n",
       "556  Nichts wie die vorherigen Stylo-Telefone, MASS...      26.854133   \n",
       "\n",
       "                                               model11  model11_score  \\\n",
       "0    Polizei nimmt 15 Personen nach gewaltsamen Pro...       8.516593   \n",
       "1    Der Vorfall ereignete sich, nachdem die Zahl d...      30.218550   \n",
       "2    Lokalen Medien zufolge nutzt das Innenminister...      29.267528   \n",
       "3    Im Jahr 2022 erreichten mehr als 45.000 Mensch...      37.961820   \n",
       "4    President's Cup: Candystripes besiegen Rovers ...      58.143074   \n",
       "..                                                 ...            ...   \n",
       "552  Ergonomisch und erschwinglich, aber nicht sehr...      17.542198   \n",
       "553  Er hat eine schlankere Form, die besser in der...      38.505105   \n",
       "554                   Sie bekommen, wofür Sie bezahlen      16.233396   \n",
       "555  Ich war enttäuscht, als ich diesen Artikel erh...      30.392323   \n",
       "556  Nicht wie die vorherigen Stylo-Handys, MASSIVE...      35.127483   \n",
       "\n",
       "                                               model12  model12_score  \n",
       "0    Polizei verhaftet 15 nach gewalttätigem Protes...      14.448815  \n",
       "1    Der Vorfall ereignete sich nach einem Anstieg ...      27.196164  \n",
       "2    Lokalen Medien zufolge nutzt das Innenminister...      34.067354  \n",
       "3    Über 45.000 Menschen erreichten das Vereinigte...      33.754834  \n",
       "4    President's Cup: Candystripes besiegen Rovers ...      58.143074  \n",
       "..                                                 ...            ...  \n",
       "552  Ergonomisch und erschwinglich, aber wenig tole...      10.738977  \n",
       "553  Er hat ein schlankeres Design, das besser in d...      25.012669  \n",
       "554                     Sie bekommen, wofür Sie zahlen      16.233396  \n",
       "555  Ich war enttäuscht, als ich diesen Artikel erh...      25.508720  \n",
       "556  Nichts wie die vorherigen Stylo-Handys, MASSIV...      25.613711  \n",
       "\n",
       "[557 rows x 26 columns]"
      ]
     },
     "execution_count": 3,
     "metadata": {},
     "output_type": "execute_result"
    }
   ],
   "source": [
    "data"
   ]
  },
  {
   "cell_type": "code",
   "execution_count": null,
   "id": "af08d02a-b0f4-4011-ad8f-b858f181dc7b",
   "metadata": {},
   "outputs": [],
   "source": [
    "results = {}"
   ]
  },
  {
   "cell_type": "code",
   "execution_count": 8,
   "id": "5ddd5639-9c7c-4744-9366-0adb967be351",
   "metadata": {
    "collapsed": true,
    "jupyter": {
     "outputs_hidden": true
    },
    "tags": []
   },
   "outputs": [
    {
     "data": {
      "application/vnd.jupyter.widget-view+json": {
       "model_id": "b154095796c34716bfc06bc034f27abd",
       "version_major": 2,
       "version_minor": 0
      },
      "text/plain": [
       "  0%|          | 0/5 [00:00<?, ?it/s]"
      ]
     },
     "metadata": {},
     "output_type": "display_data"
    },
    {
     "data": {
      "application/vnd.jupyter.widget-view+json": {
       "model_id": "53780c9bf6794b728ab8c528ef92615f",
       "version_major": 2,
       "version_minor": 0
      },
      "text/plain": [
       "  0%|          | 0/36 [00:00<?, ?it/s]"
      ]
     },
     "metadata": {},
     "output_type": "display_data"
    },
    {
     "name": "stdout",
     "output_type": "stream",
     "text": [
      "Mean k2 on non-weighted test data: 0.0549\n",
      "Mean EMD on non-weighted test data: 0.0022\n",
      "Mean ED on non-weighted test data: 0.0106\n",
      "\n",
      "Mean k2 on weighted test data: 0.0486\n",
      "Mean EMD on weighted test data: 0.0018\n",
      "Mean ED on weighted test data: 0.0087\n",
      "\n"
     ]
    },
    {
     "data": {
      "application/vnd.jupyter.widget-view+json": {
       "model_id": "02e7fea44a95459db659a14efe6396df",
       "version_major": 2,
       "version_minor": 0
      },
      "text/plain": [
       "  0%|          | 0/36 [00:00<?, ?it/s]"
      ]
     },
     "metadata": {},
     "output_type": "display_data"
    },
    {
     "name": "stdout",
     "output_type": "stream",
     "text": [
      "Mean k2 on non-weighted test data: 0.041\n",
      "Mean EMD on non-weighted test data: 0.0015\n",
      "Mean ED on non-weighted test data: 0.007\n",
      "\n",
      "Mean k2 on weighted test data: 0.0387\n",
      "Mean EMD on weighted test data: 0.0014\n",
      "Mean ED on weighted test data: 0.0064\n",
      "\n"
     ]
    },
    {
     "data": {
      "application/vnd.jupyter.widget-view+json": {
       "model_id": "31e265173fb14b1894159080838c494b",
       "version_major": 2,
       "version_minor": 0
      },
      "text/plain": [
       "  0%|          | 0/36 [00:00<?, ?it/s]"
      ]
     },
     "metadata": {},
     "output_type": "display_data"
    },
    {
     "name": "stdout",
     "output_type": "stream",
     "text": [
      "Mean k2 on non-weighted test data: 0.0553\n",
      "Mean EMD on non-weighted test data: 0.0021\n",
      "Mean ED on non-weighted test data: 0.0103\n",
      "\n",
      "Mean k2 on weighted test data: 0.0489\n",
      "Mean EMD on weighted test data: 0.0018\n",
      "Mean ED on weighted test data: 0.0086\n",
      "\n"
     ]
    },
    {
     "ename": "KeyboardInterrupt",
     "evalue": "",
     "output_type": "error",
     "traceback": [
      "\u001b[0;31m---------------------------------------------------------------------------\u001b[0m",
      "\u001b[0;31mKeyboardInterrupt\u001b[0m                         Traceback (most recent call last)",
      "Cell \u001b[0;32mIn[8], line 13\u001b[0m\n\u001b[1;32m      7\u001b[0m grid_values \u001b[38;5;241m=\u001b[39m {\u001b[38;5;124m'\u001b[39m\u001b[38;5;124mn_estimators\u001b[39m\u001b[38;5;124m'\u001b[39m: [\u001b[38;5;241m30\u001b[39m, \u001b[38;5;241m100\u001b[39m], \n\u001b[1;32m      8\u001b[0m            \u001b[38;5;124m'\u001b[39m\u001b[38;5;124mlearning_rate\u001b[39m\u001b[38;5;124m'\u001b[39m:[\u001b[38;5;241m0.01\u001b[39m, \u001b[38;5;241m0.001\u001b[39m, \u001b[38;5;241m0.009\u001b[39m],\n\u001b[1;32m      9\u001b[0m            \u001b[38;5;124m'\u001b[39m\u001b[38;5;124mmax_depth\u001b[39m\u001b[38;5;124m'\u001b[39m: [\u001b[38;5;241m5\u001b[39m, \u001b[38;5;241m10\u001b[39m],\n\u001b[1;32m     10\u001b[0m            \u001b[38;5;124m'\u001b[39m\u001b[38;5;124mmin_samples_leaf\u001b[39m\u001b[38;5;124m'\u001b[39m: [\u001b[38;5;241m1\u001b[39m, \u001b[38;5;241m10\u001b[39m, \u001b[38;5;241m100\u001b[39m]}\n\u001b[1;32m     12\u001b[0m pr \u001b[38;5;241m=\u001b[39m PropensityReweighter(config)\n\u001b[0;32m---> 13\u001b[0m best_predictor \u001b[38;5;241m=\u001b[39m \u001b[43mpr\u001b[49m\u001b[38;5;241;43m.\u001b[39;49m\u001b[43mfit_gridsearch\u001b[49m\u001b[43m(\u001b[49m\u001b[43moriginal\u001b[49m\u001b[43m,\u001b[49m\u001b[43m \u001b[49m\u001b[43mtarget\u001b[49m\u001b[43m,\u001b[49m\u001b[43m \u001b[49m\u001b[43mgrid_values\u001b[49m\u001b[43m)\u001b[49m\n\u001b[1;32m     15\u001b[0m best_weights \u001b[38;5;241m=\u001b[39m best_predictor\u001b[38;5;241m.\u001b[39mpredict(original)\n\u001b[1;32m     17\u001b[0m f1_all \u001b[38;5;241m=\u001b[39m []\n",
      "File \u001b[0;32m/workspace/local/edl/llm_propensity/propensity_reweighting/src/reweight.py:135\u001b[0m, in \u001b[0;36mPropensityReweighter.fit_gridsearch\u001b[0;34m(self, original, target, grid_params, parallel)\u001b[0m\n\u001b[1;32m    132\u001b[0m results \u001b[38;5;241m=\u001b[39m []\n\u001b[1;32m    134\u001b[0m vctr_original \u001b[38;5;241m=\u001b[39m \u001b[38;5;28mself\u001b[39m\u001b[38;5;241m.\u001b[39mpreprocess\u001b[38;5;241m.\u001b[39mvectorize_texts(original)\n\u001b[0;32m--> 135\u001b[0m vctr_target \u001b[38;5;241m=\u001b[39m \u001b[38;5;28;43mself\u001b[39;49m\u001b[38;5;241;43m.\u001b[39;49m\u001b[43mpreprocess\u001b[49m\u001b[38;5;241;43m.\u001b[39;49m\u001b[43mvectorize_texts\u001b[49m\u001b[43m(\u001b[49m\u001b[43mtarget\u001b[49m\u001b[43m)\u001b[49m\n\u001b[1;32m    137\u001b[0m \u001b[38;5;28;01mif\u001b[39;00m parallel \u001b[38;5;241m==\u001b[39m \u001b[38;5;241m-\u001b[39m\u001b[38;5;241m1\u001b[39m:\n\u001b[1;32m    138\u001b[0m     parallel_units \u001b[38;5;241m=\u001b[39m os\u001b[38;5;241m.\u001b[39mcpu_count()\n",
      "File \u001b[0;32m/workspace/local/edl/llm_propensity/propensity_reweighting/src/preprocessing.py:26\u001b[0m, in \u001b[0;36mProScoreVectorizer.vectorize_texts\u001b[0;34m(self, texts_list)\u001b[0m\n\u001b[1;32m     18\u001b[0m \u001b[38;5;28;01mfor\u001b[39;00m j, sent \u001b[38;5;129;01min\u001b[39;00m \u001b[38;5;28menumerate\u001b[39m(texts_list):\n\u001b[1;32m     19\u001b[0m     tokenized_sent \u001b[38;5;241m=\u001b[39m \u001b[38;5;28mself\u001b[39m\u001b[38;5;241m.\u001b[39mtokenizer\u001b[38;5;241m.\u001b[39mencode_plus(sent, \n\u001b[1;32m     20\u001b[0m                                        add_special_tokens \u001b[38;5;241m=\u001b[39m \u001b[38;5;28;01mTrue\u001b[39;00m, \n\u001b[1;32m     21\u001b[0m                                        truncation \u001b[38;5;241m=\u001b[39m \u001b[38;5;28;01mTrue\u001b[39;00m,  \n\u001b[1;32m     22\u001b[0m                                        return_attention_mask\u001b[38;5;241m=\u001b[39m\u001b[38;5;28;01mFalse\u001b[39;00m, \n\u001b[1;32m     23\u001b[0m                                        return_token_type_ids\u001b[38;5;241m=\u001b[39m\u001b[38;5;28;01mFalse\u001b[39;00m, \n\u001b[1;32m     24\u001b[0m                                        return_tensors \u001b[38;5;241m=\u001b[39m \u001b[38;5;124m'\u001b[39m\u001b[38;5;124mpt\u001b[39m\u001b[38;5;124m'\u001b[39m)\n\u001b[0;32m---> 26\u001b[0m     _cls \u001b[38;5;241m=\u001b[39m \u001b[38;5;28;43mself\u001b[39;49m\u001b[38;5;241;43m.\u001b[39;49m\u001b[43mmodel\u001b[49m\u001b[38;5;241;43m.\u001b[39;49m\u001b[43mroberta\u001b[49m\u001b[43m(\u001b[49m\u001b[43mtokenized_sent\u001b[49m\u001b[43m[\u001b[49m\u001b[38;5;124;43m'\u001b[39;49m\u001b[38;5;124;43minput_ids\u001b[39;49m\u001b[38;5;124;43m'\u001b[39;49m\u001b[43m]\u001b[49m\u001b[43m)\u001b[49m\u001b[38;5;241m.\u001b[39mlast_hidden_state[:,\u001b[38;5;241m0\u001b[39m,:]\n\u001b[1;32m     27\u001b[0m     cls_matrix[j, :] \u001b[38;5;241m=\u001b[39m _cls\u001b[38;5;241m.\u001b[39mdetach()\u001b[38;5;241m.\u001b[39mnumpy()[\u001b[38;5;241m0\u001b[39m]\n\u001b[1;32m     29\u001b[0m \u001b[38;5;28;01mreturn\u001b[39;00m cls_matrix\n",
      "File \u001b[0;32m/usr/local/lib/python3.8/dist-packages/torch/nn/modules/module.py:1532\u001b[0m, in \u001b[0;36mModule._wrapped_call_impl\u001b[0;34m(self, *args, **kwargs)\u001b[0m\n\u001b[1;32m   1530\u001b[0m     \u001b[38;5;28;01mreturn\u001b[39;00m \u001b[38;5;28mself\u001b[39m\u001b[38;5;241m.\u001b[39m_compiled_call_impl(\u001b[38;5;241m*\u001b[39margs, \u001b[38;5;241m*\u001b[39m\u001b[38;5;241m*\u001b[39mkwargs)  \u001b[38;5;66;03m# type: ignore[misc]\u001b[39;00m\n\u001b[1;32m   1531\u001b[0m \u001b[38;5;28;01melse\u001b[39;00m:\n\u001b[0;32m-> 1532\u001b[0m     \u001b[38;5;28;01mreturn\u001b[39;00m \u001b[38;5;28;43mself\u001b[39;49m\u001b[38;5;241;43m.\u001b[39;49m\u001b[43m_call_impl\u001b[49m\u001b[43m(\u001b[49m\u001b[38;5;241;43m*\u001b[39;49m\u001b[43margs\u001b[49m\u001b[43m,\u001b[49m\u001b[43m \u001b[49m\u001b[38;5;241;43m*\u001b[39;49m\u001b[38;5;241;43m*\u001b[39;49m\u001b[43mkwargs\u001b[49m\u001b[43m)\u001b[49m\n",
      "File \u001b[0;32m/usr/local/lib/python3.8/dist-packages/torch/nn/modules/module.py:1541\u001b[0m, in \u001b[0;36mModule._call_impl\u001b[0;34m(self, *args, **kwargs)\u001b[0m\n\u001b[1;32m   1536\u001b[0m \u001b[38;5;66;03m# If we don't have any hooks, we want to skip the rest of the logic in\u001b[39;00m\n\u001b[1;32m   1537\u001b[0m \u001b[38;5;66;03m# this function, and just call forward.\u001b[39;00m\n\u001b[1;32m   1538\u001b[0m \u001b[38;5;28;01mif\u001b[39;00m \u001b[38;5;129;01mnot\u001b[39;00m (\u001b[38;5;28mself\u001b[39m\u001b[38;5;241m.\u001b[39m_backward_hooks \u001b[38;5;129;01mor\u001b[39;00m \u001b[38;5;28mself\u001b[39m\u001b[38;5;241m.\u001b[39m_backward_pre_hooks \u001b[38;5;129;01mor\u001b[39;00m \u001b[38;5;28mself\u001b[39m\u001b[38;5;241m.\u001b[39m_forward_hooks \u001b[38;5;129;01mor\u001b[39;00m \u001b[38;5;28mself\u001b[39m\u001b[38;5;241m.\u001b[39m_forward_pre_hooks\n\u001b[1;32m   1539\u001b[0m         \u001b[38;5;129;01mor\u001b[39;00m _global_backward_pre_hooks \u001b[38;5;129;01mor\u001b[39;00m _global_backward_hooks\n\u001b[1;32m   1540\u001b[0m         \u001b[38;5;129;01mor\u001b[39;00m _global_forward_hooks \u001b[38;5;129;01mor\u001b[39;00m _global_forward_pre_hooks):\n\u001b[0;32m-> 1541\u001b[0m     \u001b[38;5;28;01mreturn\u001b[39;00m \u001b[43mforward_call\u001b[49m\u001b[43m(\u001b[49m\u001b[38;5;241;43m*\u001b[39;49m\u001b[43margs\u001b[49m\u001b[43m,\u001b[49m\u001b[43m \u001b[49m\u001b[38;5;241;43m*\u001b[39;49m\u001b[38;5;241;43m*\u001b[39;49m\u001b[43mkwargs\u001b[49m\u001b[43m)\u001b[49m\n\u001b[1;32m   1543\u001b[0m \u001b[38;5;28;01mtry\u001b[39;00m:\n\u001b[1;32m   1544\u001b[0m     result \u001b[38;5;241m=\u001b[39m \u001b[38;5;28;01mNone\u001b[39;00m\n",
      "File \u001b[0;32m/usr/local/lib/python3.8/dist-packages/transformers/models/xlm_roberta/modeling_xlm_roberta.py:837\u001b[0m, in \u001b[0;36mXLMRobertaModel.forward\u001b[0;34m(self, input_ids, attention_mask, token_type_ids, position_ids, head_mask, inputs_embeds, encoder_hidden_states, encoder_attention_mask, past_key_values, use_cache, output_attentions, output_hidden_states, return_dict)\u001b[0m\n\u001b[1;32m    828\u001b[0m head_mask \u001b[38;5;241m=\u001b[39m \u001b[38;5;28mself\u001b[39m\u001b[38;5;241m.\u001b[39mget_head_mask(head_mask, \u001b[38;5;28mself\u001b[39m\u001b[38;5;241m.\u001b[39mconfig\u001b[38;5;241m.\u001b[39mnum_hidden_layers)\n\u001b[1;32m    830\u001b[0m embedding_output \u001b[38;5;241m=\u001b[39m \u001b[38;5;28mself\u001b[39m\u001b[38;5;241m.\u001b[39membeddings(\n\u001b[1;32m    831\u001b[0m     input_ids\u001b[38;5;241m=\u001b[39minput_ids,\n\u001b[1;32m    832\u001b[0m     position_ids\u001b[38;5;241m=\u001b[39mposition_ids,\n\u001b[0;32m   (...)\u001b[0m\n\u001b[1;32m    835\u001b[0m     past_key_values_length\u001b[38;5;241m=\u001b[39mpast_key_values_length,\n\u001b[1;32m    836\u001b[0m )\n\u001b[0;32m--> 837\u001b[0m encoder_outputs \u001b[38;5;241m=\u001b[39m \u001b[38;5;28;43mself\u001b[39;49m\u001b[38;5;241;43m.\u001b[39;49m\u001b[43mencoder\u001b[49m\u001b[43m(\u001b[49m\n\u001b[1;32m    838\u001b[0m \u001b[43m    \u001b[49m\u001b[43membedding_output\u001b[49m\u001b[43m,\u001b[49m\n\u001b[1;32m    839\u001b[0m \u001b[43m    \u001b[49m\u001b[43mattention_mask\u001b[49m\u001b[38;5;241;43m=\u001b[39;49m\u001b[43mextended_attention_mask\u001b[49m\u001b[43m,\u001b[49m\n\u001b[1;32m    840\u001b[0m \u001b[43m    \u001b[49m\u001b[43mhead_mask\u001b[49m\u001b[38;5;241;43m=\u001b[39;49m\u001b[43mhead_mask\u001b[49m\u001b[43m,\u001b[49m\n\u001b[1;32m    841\u001b[0m \u001b[43m    \u001b[49m\u001b[43mencoder_hidden_states\u001b[49m\u001b[38;5;241;43m=\u001b[39;49m\u001b[43mencoder_hidden_states\u001b[49m\u001b[43m,\u001b[49m\n\u001b[1;32m    842\u001b[0m \u001b[43m    \u001b[49m\u001b[43mencoder_attention_mask\u001b[49m\u001b[38;5;241;43m=\u001b[39;49m\u001b[43mencoder_extended_attention_mask\u001b[49m\u001b[43m,\u001b[49m\n\u001b[1;32m    843\u001b[0m \u001b[43m    \u001b[49m\u001b[43mpast_key_values\u001b[49m\u001b[38;5;241;43m=\u001b[39;49m\u001b[43mpast_key_values\u001b[49m\u001b[43m,\u001b[49m\n\u001b[1;32m    844\u001b[0m \u001b[43m    \u001b[49m\u001b[43muse_cache\u001b[49m\u001b[38;5;241;43m=\u001b[39;49m\u001b[43muse_cache\u001b[49m\u001b[43m,\u001b[49m\n\u001b[1;32m    845\u001b[0m \u001b[43m    \u001b[49m\u001b[43moutput_attentions\u001b[49m\u001b[38;5;241;43m=\u001b[39;49m\u001b[43moutput_attentions\u001b[49m\u001b[43m,\u001b[49m\n\u001b[1;32m    846\u001b[0m \u001b[43m    \u001b[49m\u001b[43moutput_hidden_states\u001b[49m\u001b[38;5;241;43m=\u001b[39;49m\u001b[43moutput_hidden_states\u001b[49m\u001b[43m,\u001b[49m\n\u001b[1;32m    847\u001b[0m \u001b[43m    \u001b[49m\u001b[43mreturn_dict\u001b[49m\u001b[38;5;241;43m=\u001b[39;49m\u001b[43mreturn_dict\u001b[49m\u001b[43m,\u001b[49m\n\u001b[1;32m    848\u001b[0m \u001b[43m\u001b[49m\u001b[43m)\u001b[49m\n\u001b[1;32m    849\u001b[0m sequence_output \u001b[38;5;241m=\u001b[39m encoder_outputs[\u001b[38;5;241m0\u001b[39m]\n\u001b[1;32m    850\u001b[0m pooled_output \u001b[38;5;241m=\u001b[39m \u001b[38;5;28mself\u001b[39m\u001b[38;5;241m.\u001b[39mpooler(sequence_output) \u001b[38;5;28;01mif\u001b[39;00m \u001b[38;5;28mself\u001b[39m\u001b[38;5;241m.\u001b[39mpooler \u001b[38;5;129;01mis\u001b[39;00m \u001b[38;5;129;01mnot\u001b[39;00m \u001b[38;5;28;01mNone\u001b[39;00m \u001b[38;5;28;01melse\u001b[39;00m \u001b[38;5;28;01mNone\u001b[39;00m\n",
      "File \u001b[0;32m/usr/local/lib/python3.8/dist-packages/torch/nn/modules/module.py:1532\u001b[0m, in \u001b[0;36mModule._wrapped_call_impl\u001b[0;34m(self, *args, **kwargs)\u001b[0m\n\u001b[1;32m   1530\u001b[0m     \u001b[38;5;28;01mreturn\u001b[39;00m \u001b[38;5;28mself\u001b[39m\u001b[38;5;241m.\u001b[39m_compiled_call_impl(\u001b[38;5;241m*\u001b[39margs, \u001b[38;5;241m*\u001b[39m\u001b[38;5;241m*\u001b[39mkwargs)  \u001b[38;5;66;03m# type: ignore[misc]\u001b[39;00m\n\u001b[1;32m   1531\u001b[0m \u001b[38;5;28;01melse\u001b[39;00m:\n\u001b[0;32m-> 1532\u001b[0m     \u001b[38;5;28;01mreturn\u001b[39;00m \u001b[38;5;28;43mself\u001b[39;49m\u001b[38;5;241;43m.\u001b[39;49m\u001b[43m_call_impl\u001b[49m\u001b[43m(\u001b[49m\u001b[38;5;241;43m*\u001b[39;49m\u001b[43margs\u001b[49m\u001b[43m,\u001b[49m\u001b[43m \u001b[49m\u001b[38;5;241;43m*\u001b[39;49m\u001b[38;5;241;43m*\u001b[39;49m\u001b[43mkwargs\u001b[49m\u001b[43m)\u001b[49m\n",
      "File \u001b[0;32m/usr/local/lib/python3.8/dist-packages/torch/nn/modules/module.py:1541\u001b[0m, in \u001b[0;36mModule._call_impl\u001b[0;34m(self, *args, **kwargs)\u001b[0m\n\u001b[1;32m   1536\u001b[0m \u001b[38;5;66;03m# If we don't have any hooks, we want to skip the rest of the logic in\u001b[39;00m\n\u001b[1;32m   1537\u001b[0m \u001b[38;5;66;03m# this function, and just call forward.\u001b[39;00m\n\u001b[1;32m   1538\u001b[0m \u001b[38;5;28;01mif\u001b[39;00m \u001b[38;5;129;01mnot\u001b[39;00m (\u001b[38;5;28mself\u001b[39m\u001b[38;5;241m.\u001b[39m_backward_hooks \u001b[38;5;129;01mor\u001b[39;00m \u001b[38;5;28mself\u001b[39m\u001b[38;5;241m.\u001b[39m_backward_pre_hooks \u001b[38;5;129;01mor\u001b[39;00m \u001b[38;5;28mself\u001b[39m\u001b[38;5;241m.\u001b[39m_forward_hooks \u001b[38;5;129;01mor\u001b[39;00m \u001b[38;5;28mself\u001b[39m\u001b[38;5;241m.\u001b[39m_forward_pre_hooks\n\u001b[1;32m   1539\u001b[0m         \u001b[38;5;129;01mor\u001b[39;00m _global_backward_pre_hooks \u001b[38;5;129;01mor\u001b[39;00m _global_backward_hooks\n\u001b[1;32m   1540\u001b[0m         \u001b[38;5;129;01mor\u001b[39;00m _global_forward_hooks \u001b[38;5;129;01mor\u001b[39;00m _global_forward_pre_hooks):\n\u001b[0;32m-> 1541\u001b[0m     \u001b[38;5;28;01mreturn\u001b[39;00m \u001b[43mforward_call\u001b[49m\u001b[43m(\u001b[49m\u001b[38;5;241;43m*\u001b[39;49m\u001b[43margs\u001b[49m\u001b[43m,\u001b[49m\u001b[43m \u001b[49m\u001b[38;5;241;43m*\u001b[39;49m\u001b[38;5;241;43m*\u001b[39;49m\u001b[43mkwargs\u001b[49m\u001b[43m)\u001b[49m\n\u001b[1;32m   1543\u001b[0m \u001b[38;5;28;01mtry\u001b[39;00m:\n\u001b[1;32m   1544\u001b[0m     result \u001b[38;5;241m=\u001b[39m \u001b[38;5;28;01mNone\u001b[39;00m\n",
      "File \u001b[0;32m/usr/local/lib/python3.8/dist-packages/transformers/models/xlm_roberta/modeling_xlm_roberta.py:525\u001b[0m, in \u001b[0;36mXLMRobertaEncoder.forward\u001b[0;34m(self, hidden_states, attention_mask, head_mask, encoder_hidden_states, encoder_attention_mask, past_key_values, use_cache, output_attentions, output_hidden_states, return_dict)\u001b[0m\n\u001b[1;32m    514\u001b[0m     layer_outputs \u001b[38;5;241m=\u001b[39m \u001b[38;5;28mself\u001b[39m\u001b[38;5;241m.\u001b[39m_gradient_checkpointing_func(\n\u001b[1;32m    515\u001b[0m         layer_module\u001b[38;5;241m.\u001b[39m\u001b[38;5;21m__call__\u001b[39m,\n\u001b[1;32m    516\u001b[0m         hidden_states,\n\u001b[0;32m   (...)\u001b[0m\n\u001b[1;32m    522\u001b[0m         output_attentions,\n\u001b[1;32m    523\u001b[0m     )\n\u001b[1;32m    524\u001b[0m \u001b[38;5;28;01melse\u001b[39;00m:\n\u001b[0;32m--> 525\u001b[0m     layer_outputs \u001b[38;5;241m=\u001b[39m \u001b[43mlayer_module\u001b[49m\u001b[43m(\u001b[49m\n\u001b[1;32m    526\u001b[0m \u001b[43m        \u001b[49m\u001b[43mhidden_states\u001b[49m\u001b[43m,\u001b[49m\n\u001b[1;32m    527\u001b[0m \u001b[43m        \u001b[49m\u001b[43mattention_mask\u001b[49m\u001b[43m,\u001b[49m\n\u001b[1;32m    528\u001b[0m \u001b[43m        \u001b[49m\u001b[43mlayer_head_mask\u001b[49m\u001b[43m,\u001b[49m\n\u001b[1;32m    529\u001b[0m \u001b[43m        \u001b[49m\u001b[43mencoder_hidden_states\u001b[49m\u001b[43m,\u001b[49m\n\u001b[1;32m    530\u001b[0m \u001b[43m        \u001b[49m\u001b[43mencoder_attention_mask\u001b[49m\u001b[43m,\u001b[49m\n\u001b[1;32m    531\u001b[0m \u001b[43m        \u001b[49m\u001b[43mpast_key_value\u001b[49m\u001b[43m,\u001b[49m\n\u001b[1;32m    532\u001b[0m \u001b[43m        \u001b[49m\u001b[43moutput_attentions\u001b[49m\u001b[43m,\u001b[49m\n\u001b[1;32m    533\u001b[0m \u001b[43m    \u001b[49m\u001b[43m)\u001b[49m\n\u001b[1;32m    535\u001b[0m hidden_states \u001b[38;5;241m=\u001b[39m layer_outputs[\u001b[38;5;241m0\u001b[39m]\n\u001b[1;32m    536\u001b[0m \u001b[38;5;28;01mif\u001b[39;00m use_cache:\n",
      "File \u001b[0;32m/usr/local/lib/python3.8/dist-packages/torch/nn/modules/module.py:1532\u001b[0m, in \u001b[0;36mModule._wrapped_call_impl\u001b[0;34m(self, *args, **kwargs)\u001b[0m\n\u001b[1;32m   1530\u001b[0m     \u001b[38;5;28;01mreturn\u001b[39;00m \u001b[38;5;28mself\u001b[39m\u001b[38;5;241m.\u001b[39m_compiled_call_impl(\u001b[38;5;241m*\u001b[39margs, \u001b[38;5;241m*\u001b[39m\u001b[38;5;241m*\u001b[39mkwargs)  \u001b[38;5;66;03m# type: ignore[misc]\u001b[39;00m\n\u001b[1;32m   1531\u001b[0m \u001b[38;5;28;01melse\u001b[39;00m:\n\u001b[0;32m-> 1532\u001b[0m     \u001b[38;5;28;01mreturn\u001b[39;00m \u001b[38;5;28;43mself\u001b[39;49m\u001b[38;5;241;43m.\u001b[39;49m\u001b[43m_call_impl\u001b[49m\u001b[43m(\u001b[49m\u001b[38;5;241;43m*\u001b[39;49m\u001b[43margs\u001b[49m\u001b[43m,\u001b[49m\u001b[43m \u001b[49m\u001b[38;5;241;43m*\u001b[39;49m\u001b[38;5;241;43m*\u001b[39;49m\u001b[43mkwargs\u001b[49m\u001b[43m)\u001b[49m\n",
      "File \u001b[0;32m/usr/local/lib/python3.8/dist-packages/torch/nn/modules/module.py:1541\u001b[0m, in \u001b[0;36mModule._call_impl\u001b[0;34m(self, *args, **kwargs)\u001b[0m\n\u001b[1;32m   1536\u001b[0m \u001b[38;5;66;03m# If we don't have any hooks, we want to skip the rest of the logic in\u001b[39;00m\n\u001b[1;32m   1537\u001b[0m \u001b[38;5;66;03m# this function, and just call forward.\u001b[39;00m\n\u001b[1;32m   1538\u001b[0m \u001b[38;5;28;01mif\u001b[39;00m \u001b[38;5;129;01mnot\u001b[39;00m (\u001b[38;5;28mself\u001b[39m\u001b[38;5;241m.\u001b[39m_backward_hooks \u001b[38;5;129;01mor\u001b[39;00m \u001b[38;5;28mself\u001b[39m\u001b[38;5;241m.\u001b[39m_backward_pre_hooks \u001b[38;5;129;01mor\u001b[39;00m \u001b[38;5;28mself\u001b[39m\u001b[38;5;241m.\u001b[39m_forward_hooks \u001b[38;5;129;01mor\u001b[39;00m \u001b[38;5;28mself\u001b[39m\u001b[38;5;241m.\u001b[39m_forward_pre_hooks\n\u001b[1;32m   1539\u001b[0m         \u001b[38;5;129;01mor\u001b[39;00m _global_backward_pre_hooks \u001b[38;5;129;01mor\u001b[39;00m _global_backward_hooks\n\u001b[1;32m   1540\u001b[0m         \u001b[38;5;129;01mor\u001b[39;00m _global_forward_hooks \u001b[38;5;129;01mor\u001b[39;00m _global_forward_pre_hooks):\n\u001b[0;32m-> 1541\u001b[0m     \u001b[38;5;28;01mreturn\u001b[39;00m \u001b[43mforward_call\u001b[49m\u001b[43m(\u001b[49m\u001b[38;5;241;43m*\u001b[39;49m\u001b[43margs\u001b[49m\u001b[43m,\u001b[49m\u001b[43m \u001b[49m\u001b[38;5;241;43m*\u001b[39;49m\u001b[38;5;241;43m*\u001b[39;49m\u001b[43mkwargs\u001b[49m\u001b[43m)\u001b[49m\n\u001b[1;32m   1543\u001b[0m \u001b[38;5;28;01mtry\u001b[39;00m:\n\u001b[1;32m   1544\u001b[0m     result \u001b[38;5;241m=\u001b[39m \u001b[38;5;28;01mNone\u001b[39;00m\n",
      "File \u001b[0;32m/usr/local/lib/python3.8/dist-packages/transformers/models/xlm_roberta/modeling_xlm_roberta.py:456\u001b[0m, in \u001b[0;36mXLMRobertaLayer.forward\u001b[0;34m(self, hidden_states, attention_mask, head_mask, encoder_hidden_states, encoder_attention_mask, past_key_value, output_attentions)\u001b[0m\n\u001b[1;32m    453\u001b[0m     cross_attn_present_key_value \u001b[38;5;241m=\u001b[39m cross_attention_outputs[\u001b[38;5;241m-\u001b[39m\u001b[38;5;241m1\u001b[39m]\n\u001b[1;32m    454\u001b[0m     present_key_value \u001b[38;5;241m=\u001b[39m present_key_value \u001b[38;5;241m+\u001b[39m cross_attn_present_key_value\n\u001b[0;32m--> 456\u001b[0m layer_output \u001b[38;5;241m=\u001b[39m \u001b[43mapply_chunking_to_forward\u001b[49m\u001b[43m(\u001b[49m\n\u001b[1;32m    457\u001b[0m \u001b[43m    \u001b[49m\u001b[38;5;28;43mself\u001b[39;49m\u001b[38;5;241;43m.\u001b[39;49m\u001b[43mfeed_forward_chunk\u001b[49m\u001b[43m,\u001b[49m\u001b[43m \u001b[49m\u001b[38;5;28;43mself\u001b[39;49m\u001b[38;5;241;43m.\u001b[39;49m\u001b[43mchunk_size_feed_forward\u001b[49m\u001b[43m,\u001b[49m\u001b[43m \u001b[49m\u001b[38;5;28;43mself\u001b[39;49m\u001b[38;5;241;43m.\u001b[39;49m\u001b[43mseq_len_dim\u001b[49m\u001b[43m,\u001b[49m\u001b[43m \u001b[49m\u001b[43mattention_output\u001b[49m\n\u001b[1;32m    458\u001b[0m \u001b[43m\u001b[49m\u001b[43m)\u001b[49m\n\u001b[1;32m    459\u001b[0m outputs \u001b[38;5;241m=\u001b[39m (layer_output,) \u001b[38;5;241m+\u001b[39m outputs\n\u001b[1;32m    461\u001b[0m \u001b[38;5;66;03m# if decoder, return the attn key/values as the last output\u001b[39;00m\n",
      "File \u001b[0;32m/usr/local/lib/python3.8/dist-packages/transformers/pytorch_utils.py:237\u001b[0m, in \u001b[0;36mapply_chunking_to_forward\u001b[0;34m(forward_fn, chunk_size, chunk_dim, *input_tensors)\u001b[0m\n\u001b[1;32m    234\u001b[0m     \u001b[38;5;66;03m# concatenate output at same dimension\u001b[39;00m\n\u001b[1;32m    235\u001b[0m     \u001b[38;5;28;01mreturn\u001b[39;00m torch\u001b[38;5;241m.\u001b[39mcat(output_chunks, dim\u001b[38;5;241m=\u001b[39mchunk_dim)\n\u001b[0;32m--> 237\u001b[0m \u001b[38;5;28;01mreturn\u001b[39;00m \u001b[43mforward_fn\u001b[49m\u001b[43m(\u001b[49m\u001b[38;5;241;43m*\u001b[39;49m\u001b[43minput_tensors\u001b[49m\u001b[43m)\u001b[49m\n",
      "File \u001b[0;32m/usr/local/lib/python3.8/dist-packages/transformers/models/xlm_roberta/modeling_xlm_roberta.py:468\u001b[0m, in \u001b[0;36mXLMRobertaLayer.feed_forward_chunk\u001b[0;34m(self, attention_output)\u001b[0m\n\u001b[1;32m    467\u001b[0m \u001b[38;5;28;01mdef\u001b[39;00m \u001b[38;5;21mfeed_forward_chunk\u001b[39m(\u001b[38;5;28mself\u001b[39m, attention_output):\n\u001b[0;32m--> 468\u001b[0m     intermediate_output \u001b[38;5;241m=\u001b[39m \u001b[38;5;28;43mself\u001b[39;49m\u001b[38;5;241;43m.\u001b[39;49m\u001b[43mintermediate\u001b[49m\u001b[43m(\u001b[49m\u001b[43mattention_output\u001b[49m\u001b[43m)\u001b[49m\n\u001b[1;32m    469\u001b[0m     layer_output \u001b[38;5;241m=\u001b[39m \u001b[38;5;28mself\u001b[39m\u001b[38;5;241m.\u001b[39moutput(intermediate_output, attention_output)\n\u001b[1;32m    470\u001b[0m     \u001b[38;5;28;01mreturn\u001b[39;00m layer_output\n",
      "File \u001b[0;32m/usr/local/lib/python3.8/dist-packages/torch/nn/modules/module.py:1532\u001b[0m, in \u001b[0;36mModule._wrapped_call_impl\u001b[0;34m(self, *args, **kwargs)\u001b[0m\n\u001b[1;32m   1530\u001b[0m     \u001b[38;5;28;01mreturn\u001b[39;00m \u001b[38;5;28mself\u001b[39m\u001b[38;5;241m.\u001b[39m_compiled_call_impl(\u001b[38;5;241m*\u001b[39margs, \u001b[38;5;241m*\u001b[39m\u001b[38;5;241m*\u001b[39mkwargs)  \u001b[38;5;66;03m# type: ignore[misc]\u001b[39;00m\n\u001b[1;32m   1531\u001b[0m \u001b[38;5;28;01melse\u001b[39;00m:\n\u001b[0;32m-> 1532\u001b[0m     \u001b[38;5;28;01mreturn\u001b[39;00m \u001b[38;5;28;43mself\u001b[39;49m\u001b[38;5;241;43m.\u001b[39;49m\u001b[43m_call_impl\u001b[49m\u001b[43m(\u001b[49m\u001b[38;5;241;43m*\u001b[39;49m\u001b[43margs\u001b[49m\u001b[43m,\u001b[49m\u001b[43m \u001b[49m\u001b[38;5;241;43m*\u001b[39;49m\u001b[38;5;241;43m*\u001b[39;49m\u001b[43mkwargs\u001b[49m\u001b[43m)\u001b[49m\n",
      "File \u001b[0;32m/usr/local/lib/python3.8/dist-packages/torch/nn/modules/module.py:1541\u001b[0m, in \u001b[0;36mModule._call_impl\u001b[0;34m(self, *args, **kwargs)\u001b[0m\n\u001b[1;32m   1536\u001b[0m \u001b[38;5;66;03m# If we don't have any hooks, we want to skip the rest of the logic in\u001b[39;00m\n\u001b[1;32m   1537\u001b[0m \u001b[38;5;66;03m# this function, and just call forward.\u001b[39;00m\n\u001b[1;32m   1538\u001b[0m \u001b[38;5;28;01mif\u001b[39;00m \u001b[38;5;129;01mnot\u001b[39;00m (\u001b[38;5;28mself\u001b[39m\u001b[38;5;241m.\u001b[39m_backward_hooks \u001b[38;5;129;01mor\u001b[39;00m \u001b[38;5;28mself\u001b[39m\u001b[38;5;241m.\u001b[39m_backward_pre_hooks \u001b[38;5;129;01mor\u001b[39;00m \u001b[38;5;28mself\u001b[39m\u001b[38;5;241m.\u001b[39m_forward_hooks \u001b[38;5;129;01mor\u001b[39;00m \u001b[38;5;28mself\u001b[39m\u001b[38;5;241m.\u001b[39m_forward_pre_hooks\n\u001b[1;32m   1539\u001b[0m         \u001b[38;5;129;01mor\u001b[39;00m _global_backward_pre_hooks \u001b[38;5;129;01mor\u001b[39;00m _global_backward_hooks\n\u001b[1;32m   1540\u001b[0m         \u001b[38;5;129;01mor\u001b[39;00m _global_forward_hooks \u001b[38;5;129;01mor\u001b[39;00m _global_forward_pre_hooks):\n\u001b[0;32m-> 1541\u001b[0m     \u001b[38;5;28;01mreturn\u001b[39;00m \u001b[43mforward_call\u001b[49m\u001b[43m(\u001b[49m\u001b[38;5;241;43m*\u001b[39;49m\u001b[43margs\u001b[49m\u001b[43m,\u001b[49m\u001b[43m \u001b[49m\u001b[38;5;241;43m*\u001b[39;49m\u001b[38;5;241;43m*\u001b[39;49m\u001b[43mkwargs\u001b[49m\u001b[43m)\u001b[49m\n\u001b[1;32m   1543\u001b[0m \u001b[38;5;28;01mtry\u001b[39;00m:\n\u001b[1;32m   1544\u001b[0m     result \u001b[38;5;241m=\u001b[39m \u001b[38;5;28;01mNone\u001b[39;00m\n",
      "File \u001b[0;32m/usr/local/lib/python3.8/dist-packages/transformers/models/xlm_roberta/modeling_xlm_roberta.py:366\u001b[0m, in \u001b[0;36mXLMRobertaIntermediate.forward\u001b[0;34m(self, hidden_states)\u001b[0m\n\u001b[1;32m    365\u001b[0m \u001b[38;5;28;01mdef\u001b[39;00m \u001b[38;5;21mforward\u001b[39m(\u001b[38;5;28mself\u001b[39m, hidden_states: torch\u001b[38;5;241m.\u001b[39mTensor) \u001b[38;5;241m-\u001b[39m\u001b[38;5;241m>\u001b[39m torch\u001b[38;5;241m.\u001b[39mTensor:\n\u001b[0;32m--> 366\u001b[0m     hidden_states \u001b[38;5;241m=\u001b[39m \u001b[38;5;28;43mself\u001b[39;49m\u001b[38;5;241;43m.\u001b[39;49m\u001b[43mdense\u001b[49m\u001b[43m(\u001b[49m\u001b[43mhidden_states\u001b[49m\u001b[43m)\u001b[49m\n\u001b[1;32m    367\u001b[0m     hidden_states \u001b[38;5;241m=\u001b[39m \u001b[38;5;28mself\u001b[39m\u001b[38;5;241m.\u001b[39mintermediate_act_fn(hidden_states)\n\u001b[1;32m    368\u001b[0m     \u001b[38;5;28;01mreturn\u001b[39;00m hidden_states\n",
      "File \u001b[0;32m/usr/local/lib/python3.8/dist-packages/torch/nn/modules/module.py:1532\u001b[0m, in \u001b[0;36mModule._wrapped_call_impl\u001b[0;34m(self, *args, **kwargs)\u001b[0m\n\u001b[1;32m   1530\u001b[0m     \u001b[38;5;28;01mreturn\u001b[39;00m \u001b[38;5;28mself\u001b[39m\u001b[38;5;241m.\u001b[39m_compiled_call_impl(\u001b[38;5;241m*\u001b[39margs, \u001b[38;5;241m*\u001b[39m\u001b[38;5;241m*\u001b[39mkwargs)  \u001b[38;5;66;03m# type: ignore[misc]\u001b[39;00m\n\u001b[1;32m   1531\u001b[0m \u001b[38;5;28;01melse\u001b[39;00m:\n\u001b[0;32m-> 1532\u001b[0m     \u001b[38;5;28;01mreturn\u001b[39;00m \u001b[38;5;28;43mself\u001b[39;49m\u001b[38;5;241;43m.\u001b[39;49m\u001b[43m_call_impl\u001b[49m\u001b[43m(\u001b[49m\u001b[38;5;241;43m*\u001b[39;49m\u001b[43margs\u001b[49m\u001b[43m,\u001b[49m\u001b[43m \u001b[49m\u001b[38;5;241;43m*\u001b[39;49m\u001b[38;5;241;43m*\u001b[39;49m\u001b[43mkwargs\u001b[49m\u001b[43m)\u001b[49m\n",
      "File \u001b[0;32m/usr/local/lib/python3.8/dist-packages/torch/nn/modules/module.py:1541\u001b[0m, in \u001b[0;36mModule._call_impl\u001b[0;34m(self, *args, **kwargs)\u001b[0m\n\u001b[1;32m   1536\u001b[0m \u001b[38;5;66;03m# If we don't have any hooks, we want to skip the rest of the logic in\u001b[39;00m\n\u001b[1;32m   1537\u001b[0m \u001b[38;5;66;03m# this function, and just call forward.\u001b[39;00m\n\u001b[1;32m   1538\u001b[0m \u001b[38;5;28;01mif\u001b[39;00m \u001b[38;5;129;01mnot\u001b[39;00m (\u001b[38;5;28mself\u001b[39m\u001b[38;5;241m.\u001b[39m_backward_hooks \u001b[38;5;129;01mor\u001b[39;00m \u001b[38;5;28mself\u001b[39m\u001b[38;5;241m.\u001b[39m_backward_pre_hooks \u001b[38;5;129;01mor\u001b[39;00m \u001b[38;5;28mself\u001b[39m\u001b[38;5;241m.\u001b[39m_forward_hooks \u001b[38;5;129;01mor\u001b[39;00m \u001b[38;5;28mself\u001b[39m\u001b[38;5;241m.\u001b[39m_forward_pre_hooks\n\u001b[1;32m   1539\u001b[0m         \u001b[38;5;129;01mor\u001b[39;00m _global_backward_pre_hooks \u001b[38;5;129;01mor\u001b[39;00m _global_backward_hooks\n\u001b[1;32m   1540\u001b[0m         \u001b[38;5;129;01mor\u001b[39;00m _global_forward_hooks \u001b[38;5;129;01mor\u001b[39;00m _global_forward_pre_hooks):\n\u001b[0;32m-> 1541\u001b[0m     \u001b[38;5;28;01mreturn\u001b[39;00m \u001b[43mforward_call\u001b[49m\u001b[43m(\u001b[49m\u001b[38;5;241;43m*\u001b[39;49m\u001b[43margs\u001b[49m\u001b[43m,\u001b[49m\u001b[43m \u001b[49m\u001b[38;5;241;43m*\u001b[39;49m\u001b[38;5;241;43m*\u001b[39;49m\u001b[43mkwargs\u001b[49m\u001b[43m)\u001b[49m\n\u001b[1;32m   1543\u001b[0m \u001b[38;5;28;01mtry\u001b[39;00m:\n\u001b[1;32m   1544\u001b[0m     result \u001b[38;5;241m=\u001b[39m \u001b[38;5;28;01mNone\u001b[39;00m\n",
      "File \u001b[0;32m/usr/local/lib/python3.8/dist-packages/torch/nn/modules/linear.py:116\u001b[0m, in \u001b[0;36mLinear.forward\u001b[0;34m(self, input)\u001b[0m\n\u001b[1;32m    115\u001b[0m \u001b[38;5;28;01mdef\u001b[39;00m \u001b[38;5;21mforward\u001b[39m(\u001b[38;5;28mself\u001b[39m, \u001b[38;5;28minput\u001b[39m: Tensor) \u001b[38;5;241m-\u001b[39m\u001b[38;5;241m>\u001b[39m Tensor:\n\u001b[0;32m--> 116\u001b[0m     \u001b[38;5;28;01mreturn\u001b[39;00m \u001b[43mF\u001b[49m\u001b[38;5;241;43m.\u001b[39;49m\u001b[43mlinear\u001b[49m\u001b[43m(\u001b[49m\u001b[38;5;28;43minput\u001b[39;49m\u001b[43m,\u001b[49m\u001b[43m \u001b[49m\u001b[38;5;28;43mself\u001b[39;49m\u001b[38;5;241;43m.\u001b[39;49m\u001b[43mweight\u001b[49m\u001b[43m,\u001b[49m\u001b[43m \u001b[49m\u001b[38;5;28;43mself\u001b[39;49m\u001b[38;5;241;43m.\u001b[39;49m\u001b[43mbias\u001b[49m\u001b[43m)\u001b[49m\n",
      "\u001b[0;31mKeyboardInterrupt\u001b[0m: "
     ]
    }
   ],
   "source": [
    "for item in tqdm(['model2', 'model3', 'model4','model5','model6']):\n",
    "    original = data[item].tolist()\n",
    "    labels = data[f\"{item}_score\"].tolist()\n",
    "\n",
    "    target = data[\"human_translate\"].tolist()\n",
    "\n",
    "    grid_values = {'n_estimators': [30, 100], \n",
    "               'learning_rate':[0.01, 0.001, 0.009],\n",
    "               'max_depth': [5, 10],\n",
    "               'min_samples_leaf': [1, 10, 100]}\n",
    "\n",
    "    pr = PropensityReweighter(config)\n",
    "    best_predictor = pr.fit_gridsearch(original, target, grid_values)\n",
    "\n",
    "    best_weights = best_predictor.predict(original)\n",
    "\n",
    "    f1_all = []\n",
    "    f1_all.append(f\"{len(target)}\")\n",
    "\n",
    "    f1 = round(np.average(data[f\"{item}_score\"]), 3), round(np.average(data[f\"{item}_score\"], weights=best_weights), 3)\n",
    "    f1_all.append(f\"{f1[0]} / {f1[1]}\")\n",
    "    \n",
    "    results[item] = f1_all"
   ]
  },
  {
   "cell_type": "code",
   "execution_count": 9,
   "id": "9992c369-9261-4fc2-8547-64e9d0ee58e1",
   "metadata": {
    "tags": []
   },
   "outputs": [
    {
     "data": {
      "text/plain": [
       "['557', '38.592 / 39.44']"
      ]
     },
     "execution_count": 9,
     "metadata": {},
     "output_type": "execute_result"
    }
   ],
   "source": [
    "f1_all #model1"
   ]
  },
  {
   "cell_type": "code",
   "execution_count": 10,
   "id": "84a068f0-60e3-4ada-bdae-fb6506242a0e",
   "metadata": {
    "tags": []
   },
   "outputs": [
    {
     "data": {
      "text/plain": [
       "{'model2': ['557', '42.567 / 43.541'],\n",
       " 'model3': ['557', '43.065 / 43.359'],\n",
       " 'model4': ['557', '38.592 / 39.44']}"
      ]
     },
     "execution_count": 10,
     "metadata": {},
     "output_type": "execute_result"
    }
   ],
   "source": [
    "results"
   ]
  },
  {
   "cell_type": "code",
   "execution_count": null,
   "id": "75999a5f-1da2-4c64-a6bf-403de93f39d3",
   "metadata": {},
   "outputs": [],
   "source": []
  }
 ],
 "metadata": {
  "kernelspec": {
   "display_name": "Python 3 (ipykernel)",
   "language": "python",
   "name": "python3"
  },
  "language_info": {
   "codemirror_mode": {
    "name": "ipython",
    "version": 3
   },
   "file_extension": ".py",
   "mimetype": "text/x-python",
   "name": "python",
   "nbconvert_exporter": "python",
   "pygments_lexer": "ipython3",
   "version": "3.8.10"
  }
 },
 "nbformat": 4,
 "nbformat_minor": 5
}
