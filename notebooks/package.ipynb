{
 "cells": [
  {
   "cell_type": "markdown",
   "id": "1d4a2eb9-4305-477a-b73d-e6e86fc7cb4a",
   "metadata": {},
   "source": [
    "# Examples of using the draft package 'propensity_reweighting'"
   ]
  },
  {
   "cell_type": "code",
   "execution_count": 1,
   "id": "5b1beebd-424b-451d-af8d-119f2657c705",
   "metadata": {
    "tags": []
   },
   "outputs": [],
   "source": [
    "from propensity_reweighting.src.reweight import PropensityReweighter\n",
    "from sklearn.linear_model import LinearRegression\n",
    "import matplotlib.pyplot as plt\n",
    "import pandas as pd\n",
    "import numpy as np\n",
    "import logging\n",
    "import yaml\n",
    "\n",
    "logging.getLogger(\"transformers.modeling_utils\").setLevel(logging.ERROR)\n",
    "np.random.seed(48)"
   ]
  },
  {
   "cell_type": "code",
   "execution_count": 2,
   "id": "8395fd0d-2bed-4e44-b6eb-5df219384d1a",
   "metadata": {
    "tags": []
   },
   "outputs": [],
   "source": [
    "with open('./propensity_reweighting/config/config.yaml', 'r') as file:\n",
    "    config = yaml.safe_load(file)\n",
    "    \n",
    "texts = pd.read_csv('./llm_propensity/QA-time-expansion.csv')"
   ]
  },
  {
   "cell_type": "markdown",
   "id": "8149d583-6616-45be-9fd2-3de13c656a15",
   "metadata": {},
   "source": [
    "## Base 'fit' method"
   ]
  },
  {
   "cell_type": "code",
   "execution_count": 3,
   "id": "954bfcfe-d343-4b63-9c5b-a05802d7771e",
   "metadata": {
    "tags": []
   },
   "outputs": [],
   "source": [
    "original = texts[texts[\"Time\"] == 'original'][\"Question\"].tolist()\n",
    "target = texts[texts[\"Time\"] == 'future'][\"Question\"].tolist()"
   ]
  },
  {
   "cell_type": "code",
   "execution_count": 4,
   "id": "ab4d4a96-da4d-4584-b1ba-142d19fcccef",
   "metadata": {
    "tags": []
   },
   "outputs": [
    {
     "name": "stdout",
     "output_type": "stream",
     "text": [
      "Mean and median k2 on non-weighted test data: 0.23526952273965143 - 0.21983660130718963\n",
      "Mean and median k2 on weighted test data: 0.1955228278394138 - 0.18288111682815567\n"
     ]
    }
   ],
   "source": [
    "from propensity_reweighting.src.reweight import PropensityReweighter\n",
    "\n",
    "pr = PropensityReweighter(config)\n",
    "_ = pr.fit(original, target)"
   ]
  },
  {
   "cell_type": "code",
   "execution_count": 5,
   "id": "dc2264f2-d4f5-4f96-9fe2-1da04f23cf79",
   "metadata": {
    "tags": []
   },
   "outputs": [
    {
     "data": {
      "text/plain": [
       "array([1.82027115, 1.57874549, 1.82027115, 1.89444131, 1.45053357,\n",
       "       1.4528157 , 1.66747493, 1.57904128, 1.6913386 , 1.62518438])"
      ]
     },
     "execution_count": 5,
     "metadata": {},
     "output_type": "execute_result"
    }
   ],
   "source": [
    "weights = pr.predict(target)\n",
    "weights[:10]"
   ]
  },
  {
   "cell_type": "code",
   "execution_count": 6,
   "id": "f9f7453f-da65-4854-90c5-a745e2f3eacc",
   "metadata": {
    "tags": []
   },
   "outputs": [
    {
     "data": {
      "text/plain": [
       "Text(0.5, 1.0, 'predicted weights')"
      ]
     },
     "execution_count": 6,
     "metadata": {},
     "output_type": "execute_result"
    },
    {
     "data": {
      "image/png": "[encoded data removed]",
      "text/plain": [
       "<Figure size 640x480 with 1 Axes>"
      ]
     },
     "metadata": {},
     "output_type": "display_data"
    }
   ],
   "source": [
    "plt.hist(weights, bins=50)\n",
    "plt.yscale('log')\n",
    "plt.title('predicted weights')"
   ]
  },
  {
   "cell_type": "markdown",
   "id": "c2d926bd-26e4-4e16-82b3-539b4b4d3408",
   "metadata": {},
   "source": [
    "## 'fit' with custom GridSearchCV "
   ]
  },
  {
   "cell_type": "code",
   "execution_count": 3,
   "id": "f89c9429-4d37-432d-aeb9-c5cbb0abbd72",
   "metadata": {
    "tags": []
   },
   "outputs": [],
   "source": [
    "original = texts[texts[\"Time\"] == 'original'][\"Question\"].tolist()\n",
    "target = texts[texts[\"Time\"] == 'future'][\"Question\"].tolist()"
   ]
  },
  {
   "cell_type": "code",
   "execution_count": 4,
   "id": "ae286094-047c-48c7-9f9b-caab86010f53",
   "metadata": {
    "tags": []
   },
   "outputs": [
    {
     "data": {
      "application/vnd.jupyter.widget-view+json": {
       "model_id": "72302418eddc4fedb3e12e1393af0e3b",
       "version_major": 2,
       "version_minor": 0
      },
      "text/plain": [
       "  0%|          | 0/108 [00:00<?, ?it/s]"
      ]
     },
     "metadata": {},
     "output_type": "display_data"
    },
    {
     "name": "stdout",
     "output_type": "stream",
     "text": [
      "Results:\n",
      "({'n_estimators': 100, 'learning_rate': 0.01, 'max_depth': 50, 'min_samples_leaf': 1}, 0.02703420145267572)\n",
      "({'n_estimators': 100, 'learning_rate': 0.01, 'max_depth': 10, 'min_samples_leaf': 10}, 0.02677896468814689)\n",
      "({'n_estimators': 100, 'learning_rate': 0.009, 'max_depth': 5, 'min_samples_leaf': 1}, 0.02669219193975893)\n",
      "({'n_estimators': 100, 'learning_rate': 0.009, 'max_depth': 5, 'min_samples_leaf': 10}, 0.026553315625235458)\n",
      "({'n_estimators': 100, 'learning_rate': 0.009, 'max_depth': 50, 'min_samples_leaf': 10}, 0.02637446204498506)\n",
      "Best Parameters: {'n_estimators': 100, 'learning_rate': 0.01, 'max_depth': 50, 'min_samples_leaf': 1}\n",
      "Error: 0.02703420145267572\n",
      "\n",
      "Mean and median k2 on non-weighted test data: 0.23526952273965143 - 0.21983660130718963\n",
      "Mean and median k2 on weighted test data: 0.1607270829713162 - 0.14904326118643912\n"
     ]
    }
   ],
   "source": [
    "from propensity_reweighting.src.reweight import PropensityReweighter\n",
    "\n",
    "grid_values = {'n_estimators': [30, 100, 500], \n",
    "               'learning_rate':[0.01, 0.001, 0.005, 0.009],\n",
    "               'max_depth': [5, 10, 50],\n",
    "               'min_samples_leaf': [1, 10, 100]}\n",
    "\n",
    "pr = PropensityReweighter(config)\n",
    "best_predictor = pr.fit_gridsearch(original, target, grid_values)"
   ]
  },
  {
   "cell_type": "code",
   "execution_count": 5,
   "id": "06094ff2-1ed8-46ed-ae8d-747b702045d8",
   "metadata": {
    "tags": []
   },
   "outputs": [
    {
     "data": {
      "text/plain": [
       "array([1.98447552, 1.30627584, 1.14602387, 2.01237471, 1.76432608,\n",
       "       6.00298712, 3.39895255, 3.42285579, 5.13820777, 2.99516376])"
      ]
     },
     "execution_count": 5,
     "metadata": {},
     "output_type": "execute_result"
    }
   ],
   "source": [
    "best_weights = best_predictor.predict(target)\n",
    "best_weights[:10]"
   ]
  },
  {
   "cell_type": "code",
   "execution_count": 6,
   "id": "75c3788b-af08-427b-acb4-291f0401b2f0",
   "metadata": {
    "tags": []
   },
   "outputs": [
    {
     "data": {
      "text/plain": [
       "Text(0.5, 1.0, 'predicted weights')"
      ]
     },
     "execution_count": 6,
     "metadata": {},
     "output_type": "execute_result"
    },
    {
     "data": {
      "image/png": "[encoded data removed]",
      "text/plain": [
       "<Figure size 640x480 with 1 Axes>"
      ]
     },
     "metadata": {},
     "output_type": "display_data"
    }
   ],
   "source": [
    "plt.hist(best_weights, bins=50)\n",
    "plt.yscale('log')\n",
    "plt.title('predicted weights')"
   ]
  },
  {
   "cell_type": "code",
   "execution_count": null,
   "id": "fc48baf6-ffc2-4586-bfce-5fe9ef14619d",
   "metadata": {},
   "outputs": [],
   "source": []
  }
 ],
 "metadata": {
  "kernelspec": {
   "display_name": "Python 3 (ipykernel)",
   "language": "python",
   "name": "python3"
  },
  "language_info": {
   "codemirror_mode": {
    "name": "ipython",
    "version": 3
   },
   "file_extension": ".py",
   "mimetype": "text/x-python",
   "name": "python",
   "nbconvert_exporter": "python",
   "pygments_lexer": "ipython3",
   "version": "3.8.10"
  }
 },
 "nbformat": 4,
 "nbformat_minor": 5
}
