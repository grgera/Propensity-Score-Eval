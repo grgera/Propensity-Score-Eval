{
 "cells": [
  {
   "cell_type": "markdown",
   "id": "1d4a2eb9-4305-477a-b73d-e6e86fc7cb4a",
   "metadata": {},
   "source": [
    "# Examples of using the draft package 'propensity_reweighting'"
   ]
  },
  {
   "cell_type": "code",
   "execution_count": 1,
   "id": "5b1beebd-424b-451d-af8d-119f2657c705",
   "metadata": {
    "tags": []
   },
   "outputs": [],
   "source": [
    "from propensity_reweighting.src.reweight import PropensityReweighter\n",
    "from sklearn.linear_model import LinearRegression\n",
    "from sklearn.metrics import accuracy_score, f1_score\n",
    "import matplotlib.pyplot as plt\n",
    "from tqdm.auto import tqdm\n",
    "import pandas as pd\n",
    "import numpy as np\n",
    "import logging\n",
    "import yaml\n",
    "\n",
    "logging.getLogger(\"transformers.modeling_utils\").setLevel(logging.ERROR)\n",
    "np.random.seed(48)"
   ]
  },
  {
   "cell_type": "code",
   "execution_count": 2,
   "id": "8395fd0d-2bed-4e44-b6eb-5df219384d1a",
   "metadata": {
    "tags": []
   },
   "outputs": [],
   "source": [
    "with open('./propensity_reweighting/config/config.yaml', 'r') as file:\n",
    "    config = yaml.safe_load(file)\n",
    "\n",
    "texts = pd.read_csv('./llm_propensity/qa_data_gpt_llama.csv')"
   ]
  },
  {
   "cell_type": "markdown",
   "id": "8149d583-6616-45be-9fd2-3de13c656a15",
   "metadata": {
    "jp-MarkdownHeadingCollapsed": true,
    "tags": []
   },
   "source": [
    "## Base 'fit' method"
   ]
  },
  {
   "cell_type": "code",
   "execution_count": 3,
   "id": "954bfcfe-d343-4b63-9c5b-a05802d7771e",
   "metadata": {
    "tags": []
   },
   "outputs": [],
   "source": [
    "original = texts[texts[\"Time\"] == 'original'][\"Question\"].tolist()\n",
    "target = texts[texts[\"Time\"] == 'future'][\"Question\"].tolist()"
   ]
  },
  {
   "cell_type": "code",
   "execution_count": 4,
   "id": "ab4d4a96-da4d-4584-b1ba-142d19fcccef",
   "metadata": {
    "tags": []
   },
   "outputs": [
    {
     "name": "stdout",
     "output_type": "stream",
     "text": [
      "Mean k2 on non-weighted test data: 0.2353\n",
      "Mean EMD on non-weighted test data: 0.0662\n",
      "Mean ED on non-weighted test data: 0.1332\n",
      "\n",
      "Mean k2 on weighted test data: 0.1955\n",
      "Mean EMD on weighted test data: 0.0537\n",
      "Mean ED on weighted test data: 0.1077\n",
      "\n"
     ]
    }
   ],
   "source": [
    "from propensity_reweighting.src.reweight import PropensityReweighter\n",
    "\n",
    "pr = PropensityReweighter(config)\n",
    "_ = pr.fit(original, target)"
   ]
  },
  {
   "cell_type": "code",
   "execution_count": 5,
   "id": "dc2264f2-d4f5-4f96-9fe2-1da04f23cf79",
   "metadata": {
    "tags": []
   },
   "outputs": [
    {
     "data": {
      "text/plain": [
       "array([1.82027115, 1.57874549, 1.82027115, 1.89444131, 1.45053357,\n",
       "       1.4528157 , 1.66747493, 1.57904128, 1.6913386 , 1.62518438])"
      ]
     },
     "execution_count": 5,
     "metadata": {},
     "output_type": "execute_result"
    }
   ],
   "source": [
    "weights = pr.predict(target)\n",
    "weights[:10]"
   ]
  },
  {
   "cell_type": "code",
   "execution_count": 6,
   "id": "f9f7453f-da65-4854-90c5-a745e2f3eacc",
   "metadata": {
    "tags": []
   },
   "outputs": [
    {
     "data": {
      "text/plain": [
       "Text(0.5, 1.0, 'predicted weights')"
      ]
     },
     "execution_count": 6,
     "metadata": {},
     "output_type": "execute_result"
    },
    {
     "data": {
      "image/png": "[encoded data removed]",
      "text/plain": [
       "<Figure size 640x480 with 1 Axes>"
      ]
     },
     "metadata": {},
     "output_type": "display_data"
    }
   ],
   "source": [
    "plt.hist(weights, bins=50)\n",
    "plt.yscale('log')\n",
    "plt.title('predicted weights')"
   ]
  },
  {
   "cell_type": "markdown",
   "id": "c2d926bd-26e4-4e16-82b3-539b4b4d3408",
   "metadata": {
    "jp-MarkdownHeadingCollapsed": true,
    "tags": []
   },
   "source": [
    "## 'fit' with custom GridSearchCV "
   ]
  },
  {
   "cell_type": "code",
   "execution_count": 3,
   "id": "f89c9429-4d37-432d-aeb9-c5cbb0abbd72",
   "metadata": {
    "tags": []
   },
   "outputs": [],
   "source": [
    "original = texts[texts[\"Time\"] == 'original'][\"Question\"].tolist()\n",
    "target = texts[texts[\"Time\"] == 'future'][\"Question\"].tolist()"
   ]
  },
  {
   "cell_type": "code",
   "execution_count": 4,
   "id": "ae286094-047c-48c7-9f9b-caab86010f53",
   "metadata": {
    "tags": []
   },
   "outputs": [
    {
     "data": {
      "application/vnd.jupyter.widget-view+json": {
       "model_id": "bab9220b493c495291662373286f1686",
       "version_major": 2,
       "version_minor": 0
      },
      "text/plain": [
       "  0%|          | 0/36 [00:00<?, ?it/s]"
      ]
     },
     "metadata": {},
     "output_type": "display_data"
    },
    {
     "name": "stdout",
     "output_type": "stream",
     "text": [
      "Results:\n",
      "({'n_estimators': 100, 'learning_rate': 0.009, 'max_depth': 5, 'min_samples_leaf': 1}, 0.027573379091440448)\n",
      "({'n_estimators': 100, 'learning_rate': 0.01, 'max_depth': 10, 'min_samples_leaf': 10}, 0.026775148148576972)\n",
      "({'n_estimators': 100, 'learning_rate': 0.009, 'max_depth': 5, 'min_samples_leaf': 10}, 0.026429746813873334)\n",
      "({'n_estimators': 100, 'learning_rate': 0.009, 'max_depth': 10, 'min_samples_leaf': 10}, 0.026383393071299232)\n",
      "({'n_estimators': 100, 'learning_rate': 0.01, 'max_depth': 10, 'min_samples_leaf': 1}, 0.025435030131440977)\n",
      "Best Parameters: {'n_estimators': 100, 'learning_rate': 0.009, 'max_depth': 5, 'min_samples_leaf': 1}\n",
      "Error: 0.027573379091440448\n",
      "\n",
      "Mean k2 on non-weighted test data: 0.2353\n",
      "Mean EMD on non-weighted test data: 0.0662\n",
      "Mean ED on non-weighted test data: 0.1332\n",
      "\n",
      "Mean k2 on weighted test data: 0.1591\n",
      "Mean EMD on weighted test data: 0.0386\n",
      "Mean ED on weighted test data: 0.0765\n",
      "\n"
     ]
    }
   ],
   "source": [
    "from propensity_reweighting.src.reweight import PropensityReweighter\n",
    "\n",
    "grid_values = {'n_estimators': [30, 100], \n",
    "               'learning_rate':[0.01, 0.001, 0.009],\n",
    "               'max_depth': [5, 10],\n",
    "               'min_samples_leaf': [1, 10, 100]}\n",
    "\n",
    "pr = PropensityReweighter(config)\n",
    "best_predictor = pr.fit_gridsearch(original, target, grid_values)"
   ]
  },
  {
   "cell_type": "code",
   "execution_count": 5,
   "id": "06094ff2-1ed8-46ed-ae8d-747b702045d8",
   "metadata": {
    "tags": []
   },
   "outputs": [
    {
     "data": {
      "text/plain": [
       "array([1.30878491, 5.73613099, 2.28492   , 6.115655  , 5.32396158,\n",
       "       1.85894275, 1.92759861, 2.58848909, 6.07864215, 1.93103268])"
      ]
     },
     "execution_count": 5,
     "metadata": {},
     "output_type": "execute_result"
    }
   ],
   "source": [
    "best_weights = best_predictor.predict(target)\n",
    "best_weights[:10]"
   ]
  },
  {
   "cell_type": "code",
   "execution_count": 6,
   "id": "75c3788b-af08-427b-acb4-291f0401b2f0",
   "metadata": {
    "tags": []
   },
   "outputs": [
    {
     "data": {
      "text/plain": [
       "Text(0.5, 1.0, 'predicted weights')"
      ]
     },
     "execution_count": 6,
     "metadata": {},
     "output_type": "execute_result"
    },
    {
     "data": {
      "image/png": "[encoded data removed]",
      "text/plain": [
       "<Figure size 640x480 with 1 Axes>"
      ]
     },
     "metadata": {},
     "output_type": "display_data"
    }
   ],
   "source": [
    "plt.hist(best_weights, bins=50)\n",
    "plt.yscale('log')\n",
    "plt.title('predicted weights')"
   ]
  },
  {
   "cell_type": "markdown",
   "id": "3b6aeac7-558f-4f86-a0b6-e62098313a1e",
   "metadata": {},
   "source": [
    "## future's and past's analysis from QA data"
   ]
  },
  {
   "cell_type": "code",
   "execution_count": null,
   "id": "4fa36b22-cb5c-414e-a269-92cde768970e",
   "metadata": {},
   "outputs": [],
   "source": [
    "original = texts[texts[\"unit\"] == 'original'][\"Question\"].tolist()\n",
    "\n",
    "results = {}\n",
    "for i in tqdm(range(1, 8)):\n",
    "    cur_shift = f'past-{i}'\n",
    "    target = texts[texts[\"unit\"] == cur_shift][\"Question\"].tolist()\n",
    "    target_train, target_test  = target[:len(target) // 3], target[len(target) // 3:]\n",
    "    labels = [texts[texts[\"unit\"] == cur_shift][\"gpt3_is_correct\"].tolist()[len(target) // 3:],\n",
    "             texts[texts[\"unit\"] == cur_shift][\"gpt4_is_correct\"].tolist()[len(target) // 3:],\n",
    "             texts[texts[\"unit\"] == cur_shift][\"llama2_is_correct\"].tolist()[len(target) // 3:],\n",
    "             texts[texts[\"unit\"] == cur_shift][\"llama3_is_correct\"].tolist()[len(target) // 3:]]\n",
    "    \n",
    "    grid_values = {'n_estimators': [30, 100], \n",
    "               'learning_rate':[0.01, 0.001, 0.009],\n",
    "               'max_depth': [5, 10],\n",
    "               'min_samples_leaf': [1, 10, 100]}\n",
    "\n",
    "    pr = PropensityReweighter(config)\n",
    "    best_predictor = pr.fit_gridsearch(original, target_train, grid_values)\n",
    "    \n",
    "    best_weights = best_predictor.predict(target_test)\n",
    "    \n",
    "    accuracy_all = []\n",
    "    f1_all = []\n",
    "    f1_all.append(f\"{len(target_train)} / {len(target_test)}\")\n",
    "    for model_pred in labels:\n",
    "        # ac = round(accuracy_score([1] * len(model_pred), model_pred), 3), round(accuracy_score([1] * len(model_pred), model_pred, sample_weight=best_weights), 3)\n",
    "        f1 = round(f1_score([1] * len(model_pred), model_pred), 3), round(f1_score([1] * len(model_pred), model_pred, sample_weight=best_weights), 3)\n",
    "        \n",
    "        # accuracy_all.append(f\"{ac[0]} - {ac[1]}\")\n",
    "        f1_all.append(f\"{f1[0]} / {f1[1]}\")\n",
    "        \n",
    "    # results[cur_shift] = {'accuracy': accuracy_all, 'f1-score': f1_all}\n",
    "    results[cur_shift] = {'f1-score': f1_all}"
   ]
  },
  {
   "cell_type": "code",
   "execution_count": 9,
   "id": "c6f13d2b-e0a3-4e16-a2ed-3bf572b9c648",
   "metadata": {
    "tags": []
   },
   "outputs": [],
   "source": [
    "df = pd.DataFrame([], columns=[\"shift\", \"num_samples\", \"f1_gpt3\", \"f1_gpt4\", \"f1_llama2\", \"f1_llama3\"])\n",
    "\n",
    "for item in results:\n",
    "    df = pd.concat(\n",
    "        [df, pd.DataFrame([[item, results[item][\"f1-score\"][0],\n",
    "                            results[item][\"f1-score\"][1], \n",
    "                            results[item][\"f1-score\"][2], \n",
    "                            results[item][\"f1-score\"][3],\n",
    "                            results[item][\"f1-score\"][4]]], columns=[\"shift\", \"num_samples\", \"f1_gpt3\", \"f1_gpt4\", \"f1_llama2\", \"f1_llama3\"])],\n",
    "        ignore_index=True,)"
   ]
  },
  {
   "cell_type": "code",
   "execution_count": 5,
   "id": "a8fc6671-c72e-46cf-8150-f71fd156f030",
   "metadata": {
    "tags": []
   },
   "outputs": [
    {
     "data": {
      "text/html": [
       "<div>\n",
       "<style scoped>\n",
       "    .dataframe tbody tr th:only-of-type {\n",
       "        vertical-align: middle;\n",
       "    }\n",
       "\n",
       "    .dataframe tbody tr th {\n",
       "        vertical-align: top;\n",
       "    }\n",
       "\n",
       "    .dataframe thead th {\n",
       "        text-align: right;\n",
       "    }\n",
       "</style>\n",
       "<table border=\"1\" class=\"dataframe\">\n",
       "  <thead>\n",
       "    <tr style=\"text-align: right;\">\n",
       "      <th></th>\n",
       "      <th>shift</th>\n",
       "      <th>num_samples</th>\n",
       "      <th>f1_gpt3</th>\n",
       "      <th>f1_gpt4</th>\n",
       "      <th>f1_llama2</th>\n",
       "      <th>f1_llama3</th>\n",
       "    </tr>\n",
       "  </thead>\n",
       "  <tbody>\n",
       "    <tr>\n",
       "      <th>0</th>\n",
       "      <td>future+1</td>\n",
       "      <td>10 / 22</td>\n",
       "      <td>0.872 / 0.868</td>\n",
       "      <td>0.778 / 0.815</td>\n",
       "      <td>0.429 / 0.509</td>\n",
       "      <td>0.625 / 0.406</td>\n",
       "    </tr>\n",
       "    <tr>\n",
       "      <th>1</th>\n",
       "      <td>future+2</td>\n",
       "      <td>7 / 15</td>\n",
       "      <td>0.846 / 0.836</td>\n",
       "      <td>0.929 / 0.913</td>\n",
       "      <td>0.571 / 0.609</td>\n",
       "      <td>0.696 / 0.681</td>\n",
       "    </tr>\n",
       "    <tr>\n",
       "      <th>2</th>\n",
       "      <td>future+3</td>\n",
       "      <td>5 / 12</td>\n",
       "      <td>0.857 / 0.733</td>\n",
       "      <td>0.8 / 0.715</td>\n",
       "      <td>0.4 / 0.349</td>\n",
       "      <td>0.588 / 0.568</td>\n",
       "    </tr>\n",
       "    <tr>\n",
       "      <th>3</th>\n",
       "      <td>future+4</td>\n",
       "      <td>4 / 8</td>\n",
       "      <td>0.857 / 0.58</td>\n",
       "      <td>0.769 / 0.895</td>\n",
       "      <td>0.222 / 0.176</td>\n",
       "      <td>0.769 / 0.893</td>\n",
       "    </tr>\n",
       "    <tr>\n",
       "      <th>4</th>\n",
       "      <td>future+5</td>\n",
       "      <td>3 / 8</td>\n",
       "      <td>0.857 / 0.862</td>\n",
       "      <td>0.667 / 0.674</td>\n",
       "      <td>0.545 / 0.486</td>\n",
       "      <td>0.667 / 0.674</td>\n",
       "    </tr>\n",
       "    <tr>\n",
       "      <th>5</th>\n",
       "      <td>future+6</td>\n",
       "      <td>3 / 6</td>\n",
       "      <td>0.8 / 0.799</td>\n",
       "      <td>0.667 / 0.633</td>\n",
       "      <td>0.5 / 0.482</td>\n",
       "      <td>0.5 / 0.482</td>\n",
       "    </tr>\n",
       "    <tr>\n",
       "      <th>6</th>\n",
       "      <td>future+7</td>\n",
       "      <td>2 / 6</td>\n",
       "      <td>0.8 / 0.855</td>\n",
       "      <td>0.909 / 0.927</td>\n",
       "      <td>0.667 / 0.758</td>\n",
       "      <td>0.8 / 0.855</td>\n",
       "    </tr>\n",
       "  </tbody>\n",
       "</table>\n",
       "</div>"
      ],
      "text/plain": [
       "      shift num_samples        f1_gpt3        f1_gpt4      f1_llama2  \\\n",
       "0  future+1     10 / 22  0.872 / 0.868  0.778 / 0.815  0.429 / 0.509   \n",
       "1  future+2      7 / 15  0.846 / 0.836  0.929 / 0.913  0.571 / 0.609   \n",
       "2  future+3      5 / 12  0.857 / 0.733    0.8 / 0.715    0.4 / 0.349   \n",
       "3  future+4       4 / 8   0.857 / 0.58  0.769 / 0.895  0.222 / 0.176   \n",
       "4  future+5       3 / 8  0.857 / 0.862  0.667 / 0.674  0.545 / 0.486   \n",
       "5  future+6       3 / 6    0.8 / 0.799  0.667 / 0.633    0.5 / 0.482   \n",
       "6  future+7       2 / 6    0.8 / 0.855  0.909 / 0.927  0.667 / 0.758   \n",
       "\n",
       "       f1_llama3  \n",
       "0  0.625 / 0.406  \n",
       "1  0.696 / 0.681  \n",
       "2  0.588 / 0.568  \n",
       "3  0.769 / 0.893  \n",
       "4  0.667 / 0.674  \n",
       "5    0.5 / 0.482  \n",
       "6    0.8 / 0.855  "
      ]
     },
     "execution_count": 5,
     "metadata": {},
     "output_type": "execute_result"
    }
   ],
   "source": [
    "# target_test\n",
    "df"
   ]
  },
  {
   "cell_type": "code",
   "execution_count": 10,
   "id": "766daef1-499d-4423-94aa-a0abbe719f77",
   "metadata": {
    "tags": []
   },
   "outputs": [
    {
     "data": {
      "text/html": [
       "<div>\n",
       "<style scoped>\n",
       "    .dataframe tbody tr th:only-of-type {\n",
       "        vertical-align: middle;\n",
       "    }\n",
       "\n",
       "    .dataframe tbody tr th {\n",
       "        vertical-align: top;\n",
       "    }\n",
       "\n",
       "    .dataframe thead th {\n",
       "        text-align: right;\n",
       "    }\n",
       "</style>\n",
       "<table border=\"1\" class=\"dataframe\">\n",
       "  <thead>\n",
       "    <tr style=\"text-align: right;\">\n",
       "      <th></th>\n",
       "      <th>shift</th>\n",
       "      <th>num_samples</th>\n",
       "      <th>f1_gpt3</th>\n",
       "      <th>f1_gpt4</th>\n",
       "      <th>f1_llama2</th>\n",
       "      <th>f1_llama3</th>\n",
       "    </tr>\n",
       "  </thead>\n",
       "  <tbody>\n",
       "    <tr>\n",
       "      <th>0</th>\n",
       "      <td>past-1</td>\n",
       "      <td>6 / 14</td>\n",
       "      <td>0.923 / 0.942</td>\n",
       "      <td>0.923 / 0.837</td>\n",
       "      <td>0.526 / 0.491</td>\n",
       "      <td>0.783 / 0.746</td>\n",
       "    </tr>\n",
       "    <tr>\n",
       "      <th>1</th>\n",
       "      <td>past-2</td>\n",
       "      <td>4 / 9</td>\n",
       "      <td>0.8 / 0.684</td>\n",
       "      <td>0.875 / 0.761</td>\n",
       "      <td>0.615 / 0.512</td>\n",
       "      <td>0.364 / 0.291</td>\n",
       "    </tr>\n",
       "    <tr>\n",
       "      <th>2</th>\n",
       "      <td>past-3</td>\n",
       "      <td>3 / 6</td>\n",
       "      <td>0.8 / 0.825</td>\n",
       "      <td>0.8 / 0.825</td>\n",
       "      <td>0.0 / 0.0</td>\n",
       "      <td>0.667 / 0.688</td>\n",
       "    </tr>\n",
       "    <tr>\n",
       "      <th>3</th>\n",
       "      <td>past-4</td>\n",
       "      <td>3 / 6</td>\n",
       "      <td>0.8 / 0.81</td>\n",
       "      <td>0.8 / 0.81</td>\n",
       "      <td>0.286 / 0.235</td>\n",
       "      <td>0.8 / 0.81</td>\n",
       "    </tr>\n",
       "    <tr>\n",
       "      <th>4</th>\n",
       "      <td>past-5</td>\n",
       "      <td>1 / 4</td>\n",
       "      <td>0.667 / 0.443</td>\n",
       "      <td>0.857 / 0.787</td>\n",
       "      <td>0.0 / 0.0</td>\n",
       "      <td>0.4 / 0.249</td>\n",
       "    </tr>\n",
       "    <tr>\n",
       "      <th>5</th>\n",
       "      <td>past-6</td>\n",
       "      <td>1 / 2</td>\n",
       "      <td>0.667 / 0.447</td>\n",
       "      <td>0.667 / 0.447</td>\n",
       "      <td>0.0 / 0.0</td>\n",
       "      <td>0.667 / 0.447</td>\n",
       "    </tr>\n",
       "    <tr>\n",
       "      <th>6</th>\n",
       "      <td>past-7</td>\n",
       "      <td>1 / 2</td>\n",
       "      <td>0.667 / 0.845</td>\n",
       "      <td>0.667 / 0.845</td>\n",
       "      <td>0.0 / 0.0</td>\n",
       "      <td>0.667 / 0.845</td>\n",
       "    </tr>\n",
       "  </tbody>\n",
       "</table>\n",
       "</div>"
      ],
      "text/plain": [
       "    shift num_samples        f1_gpt3        f1_gpt4      f1_llama2  \\\n",
       "0  past-1      6 / 14  0.923 / 0.942  0.923 / 0.837  0.526 / 0.491   \n",
       "1  past-2       4 / 9    0.8 / 0.684  0.875 / 0.761  0.615 / 0.512   \n",
       "2  past-3       3 / 6    0.8 / 0.825    0.8 / 0.825      0.0 / 0.0   \n",
       "3  past-4       3 / 6     0.8 / 0.81     0.8 / 0.81  0.286 / 0.235   \n",
       "4  past-5       1 / 4  0.667 / 0.443  0.857 / 0.787      0.0 / 0.0   \n",
       "5  past-6       1 / 2  0.667 / 0.447  0.667 / 0.447      0.0 / 0.0   \n",
       "6  past-7       1 / 2  0.667 / 0.845  0.667 / 0.845      0.0 / 0.0   \n",
       "\n",
       "       f1_llama3  \n",
       "0  0.783 / 0.746  \n",
       "1  0.364 / 0.291  \n",
       "2  0.667 / 0.688  \n",
       "3     0.8 / 0.81  \n",
       "4    0.4 / 0.249  \n",
       "5  0.667 / 0.447  \n",
       "6  0.667 / 0.845  "
      ]
     },
     "execution_count": 10,
     "metadata": {},
     "output_type": "execute_result"
    }
   ],
   "source": [
    "# past_test\n",
    "df"
   ]
  }
 ],
 "metadata": {
  "kernelspec": {
   "display_name": "Python 3 (ipykernel)",
   "language": "python",
   "name": "python3"
  },
  "language_info": {
   "codemirror_mode": {
    "name": "ipython",
    "version": 3
   },
   "file_extension": ".py",
   "mimetype": "text/x-python",
   "name": "python",
   "nbconvert_exporter": "python",
   "pygments_lexer": "ipython3",
   "version": "3.8.10"
  }
 },
 "nbformat": 4,
 "nbformat_minor": 5
}
